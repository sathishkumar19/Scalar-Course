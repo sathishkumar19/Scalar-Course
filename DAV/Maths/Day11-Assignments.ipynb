{
 "cells": [
  {
   "cell_type": "code",
   "execution_count": null,
   "metadata": {},
   "outputs": [],
   "source": [
    "#Historically, the mean weight of airline passengers with carry-on baggage was 195 lb, with a standard deviation of 5 lb. The airline has continued to use this historical mean as a benchmark to ensure safety, optimize operations, and enhance passenger satisfaction.\n",
    "#To investigate if the average weight of passengers with carry-on baggage has decreased below the historical average of 195 lb, the airline manager wants to test the claim that the mean weight is at least 195 lb, at a 95% confidence level.\n",
    "#Which of the following hypothesis tests is most appropriate?\n",
    "\n",
    "avg_baggage_weight = 195\n",
    "confidence_level = 95\n",
    "#Null hypothesis: The mean weight of passengers with carry-on baggage is at least 195 lb.\n",
    "#Alternative hypothesis: The mean weight of passengers with carry-on baggage is less than 195 lb.\n",
    "#The most appropriate hypothesis test is a one-tailed t-test for a population mean with a known standard deviation. This test is used to compare the sample mean to a specified value (in this case, 195 lb) and determine if there is enough evidence to reject the null hypothesis in favor of the alternative hypothesis.\n",
    "#The one-tailed t-test is appropriate in this scenario because the airline manager is interested in testing if the average weight of passengers with carry-on baggage has decreased below the historical average of 195 lb, which corresponds to a one-tailed test with the alternative hypothesis stating that the mean weight is less than 195 lb.\n",
    "#The confidence level of 95% indicates that the critical value for the t-test will be determined based on a one-tailed test with a significance level of 0.05.\n",
    "#Therefore, the most appropriate hypothesis test for this scenario is a one-tailed t-test for a population mean with a known standard deviation, with the null hypothesis stating that the mean weight of passengers with carry-on baggage is at least 195 lb and the alternative hypothesis stating that the mean weight is less than 195 lb.\n",
    "#The airline manager can conduct this hypothesis test using the sample data to determine if there is enough evidence to reject the null hypothesis and conclude that the average weight of passengers with carry-on baggage has decreased below the historical average of 195 lb.\n",
    "\n",
    "\n",
    "Ans: Left tailed t-test for population mean with known standard deviation\n"
   ]
  },
  {
   "cell_type": "markdown",
   "metadata": {},
   "source": [
    "Weekly sales of shampoo bottles has an average of 1800 . A marketing company feels that this can be improved with right advertisement and promotions.\n",
    "What should be the null and alternate hypothesis, in order to validate their claim?\n",
    "Let μ denote the average sales after marketing.\n",
    "i). H0:μ≤1800 and Ha:μ=1800\n",
    "ii). H0:μ<1800 and Ha:μ≥1800\n",
    "iii). H0:μ=1800 and Ha:μ =1800\n",
    "iv). H0:μ=1800 and Ha:μ>1800"
   ]
  }
 ],
 "metadata": {
  "language_info": {
   "name": "python"
  }
 },
 "nbformat": 4,
 "nbformat_minor": 2
}
