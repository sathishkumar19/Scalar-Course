{
 "cells": [
  {
   "cell_type": "code",
   "execution_count": null,
   "metadata": {},
   "outputs": [],
   "source": [
    "#Historically, the mean weight of airline passengers with carry-on baggage was 195 lb, with a standard deviation of 5 lb. The airline has continued to use this historical mean as a benchmark to ensure safety, optimize operations, and enhance passenger satisfaction.\n",
    "#To investigate if the average weight of passengers with carry-on baggage has decreased below the historical average of 195 lb, the airline manager wants to test the claim that the mean weight is at least 195 lb, at a 95% confidence level.\n",
    "#Which of the following hypothesis tests is most appropriate?\n",
    "\n",
    "avg_baggage_weight = 195\n",
    "confidence_level = 95\n",
    "#Null hypothesis: The mean weight of passengers with carry-on baggage is at least 195 lb.\n",
    "#Alternative hypothesis: The mean weight of passengers with carry-on baggage is less than 195 lb.\n",
    "#The most appropriate hypothesis test is a one-tailed t-test for a population mean with a known standard deviation. This test is used to compare the sample mean to a specified value (in this case, 195 lb) and determine if there is enough evidence to reject the null hypothesis in favor of the alternative hypothesis.\n",
    "#The one-tailed t-test is appropriate in this scenario because the airline manager is interested in testing if the average weight of passengers with carry-on baggage has decreased below the historical average of 195 lb, which corresponds to a one-tailed test with the alternative hypothesis stating that the mean weight is less than 195 lb.\n",
    "#The confidence level of 95% indicates that the critical value for the t-test will be determined based on a one-tailed test with a significance level of 0.05.\n",
    "#Therefore, the most appropriate hypothesis test for this scenario is a one-tailed t-test for a population mean with a known standard deviation, with the null hypothesis stating that the mean weight of passengers with carry-on baggage is at least 195 lb and the alternative hypothesis stating that the mean weight is less than 195 lb.\n",
    "#The airline manager can conduct this hypothesis test using the sample data to determine if there is enough evidence to reject the null hypothesis and conclude that the average weight of passengers with carry-on baggage has decreased below the historical average of 195 lb.\n",
    "\n",
    "\n",
    "Ans: Left tailed t-test for population mean with known standard deviation\n"
   ]
  },
  {
   "cell_type": "markdown",
   "metadata": {},
   "source": [
    "Weekly sales of shampoo bottles has an average of 1800 . A marketing company feels that this can be improved with right advertisement and promotions.\n",
    "What should be the null and alternate hypothesis, in order to validate their claim?\n",
    "Let μ denote the average sales after marketing.\n",
    "i). H0:μ≤1800 and Ha:μ=1800\n",
    "ii). H0:μ<1800 and Ha:μ≥1800\n",
    "iii). H0:μ=1800 and Ha:μ =1800\n",
    "iv). H0:μ=1800 and Ha:μ>1800"
   ]
  },
  {
   "cell_type": "markdown",
   "metadata": {},
   "source": [
    "Day12 Assignments"
   ]
  },
  {
   "cell_type": "markdown",
   "metadata": {},
   "source": [
    "\n",
    "Q1. Effectiveness on yield\n",
    "\n",
    "An experiment was performed to compare the effectiveness of Ammonium Chloride and urea on the grain yield (in quintal per hectare) and the results are given in the arrays below:\n",
    "\n",
    "Ammonium_chloride = [13.4, 10.9, 11.2, 11.8, 14, 15.3, 14.2, 12.6, 17, 16.2, 16.5, 15.7]\n",
    "Urea = [12, 11.7, 10.7, 11.2, 14.8, 14.4, 13.9, 13.7, 16.9, 16, 15.6, 16]\n",
    "Conduct an appropriate test to compare the same with a 95% confidence level and choose the appropriate option below."
   ]
  },
  {
   "cell_type": "markdown",
   "metadata": {},
   "source": [
    "Defining the hyphothesis , what we know \n",
    "- h0 = Effect of ammonia cloride is euqal to urea spread\n",
    "-  ha = Effect of ammonia cloride is not equal to urea spread \n",
    "Significal level = 0.95 # aplha value "
   ]
  },
  {
   "cell_type": "code",
   "execution_count": 28,
   "metadata": {},
   "outputs": [
    {
     "name": "stdout",
     "output_type": "stream",
     "text": [
      "T-Stat value:0.1846496543760765 ,\n",
      "P-Value:0.8551954147800473,\n",
      "P_ValueBy2:0.4275977073900237\n",
      "Apha 0.05\n",
      "Fail to Reject H0\n"
     ]
    }
   ],
   "source": [
    "import numpy as np\n",
    "from scipy.stats import ttest_ind\n",
    "AL=[13.4, 10.9, 11.2, 11.8, 14, 15.3, 14.2, 12.6, 17, 16.2, 16.5, 15.7]\n",
    "UREA=[12, 11.7, 10.7, 11.2, 14.8, 14.4, 13.9, 13.7, 16.9, 16, 15.6, 16]\n",
    "t_stat, pvalue = ttest_ind(AL, UREA)\n",
    "print(f\"T-Stat value:{t_stat} ,\\nP-Value:{pvalue},\\nP_ValueBy2:{pvalue/2}\")\n",
    "\n",
    "alpha = 0.05 # 95% confidence\n",
    "print('Apha',alpha)\n",
    "if pvalue < alpha:\n",
    "  print('Reject H0')\n",
    "else:\n",
    "  print ('Fail to Reject H0')"
   ]
  },
  {
   "cell_type": "markdown",
   "metadata": {},
   "source": [
    "Q2. Smokers\n",
    "\n",
    "\n",
    "When smokers smoke, nicotine is transformed into cotinine, which can be tested.\n",
    "\n",
    "The average cotinine level in a group of 50 smokers was 243.5 ng ml.\n",
    "\n",
    "Assuming that the standard deviation is known to be 229.5 ng ml.\n",
    "\n",
    "Test the assertion that the mean cotinine level of all smokers is equal to 300.0 ng ml, at 95% confidence."
   ]
  },
  {
   "cell_type": "code",
   "execution_count": 48,
   "metadata": {},
   "outputs": [
    {
     "name": "stdout",
     "output_type": "stream",
     "text": [
      "Z Score: -1.7408075440976007\n",
      "P Value: 0.08171731915149638\n",
      "Fail to Reject Null Hypothesis\n"
     ]
    }
   ],
   "source": [
    "# Given Values \n",
    "avg_cotinine_level = 243.5 # sample mean\n",
    "std_dev = 229.5 # sample standard deviation\n",
    "n = 50 # sample size\n",
    "mean_cotinine_level = 300 # population mean\n",
    "confidence_level = 95 # 95% confidence i.e mu\n",
    "aplha = 0.5 # 5% significance level\n",
    "\n",
    "\n",
    "# Hypotheis \n",
    "# Null Hypothesis : The mean cotinine level is 300\n",
    "# Alternative Hypothesis : The mean cotinine level is not 300\n",
    "\n",
    "\n",
    "from scipy.stats import ttest_ind\n",
    "from scipy.stats import norm\n",
    "import numpy as np\n",
    "\n",
    "# calculate z score\n",
    "z = (avg_cotinine_level - mean_cotinine_level) / (std_dev / np.sqrt(n))\n",
    "print('Z Score:',z)\n",
    "\n",
    "# calculate p value\n",
    "p = 2 * (1 - norm.cdf(abs(z)))\n",
    "print('P Value:',p)\n",
    "\n",
    "# check if null hypothesis can be rejected\n",
    "if p < alpha:\n",
    "    print('Reject Null Hypothesis')\n",
    "else:\n",
    "    print('Fail to Reject Null Hypothesis')\n"
   ]
  },
  {
   "cell_type": "markdown",
   "metadata": {},
   "source": [
    "Q3. Pastries Produced Per Day\n",
    "\n",
    "A French cafe has historically maintained that their average daily pastry production is at most 500.\n",
    "\n",
    "With the installation of a new machine, they assert that the average daily pastry production has increased. The average number of pastries produced per day over a 70-day period was found to be 530.\n",
    "\n",
    "Assume that the population standard deviation for the pastries produced per day is 125.\n",
    "\n",
    "Perform a z-test with the critical z-value = 1.64 at the alpha (significance level) = 0.05 to evaluate if there's sufficient evidence to support their claim of the new machine producing more than 500 pastries daily.\n",
    "\n",
    "Note: Round off the z-score to two decimal places.# "
   ]
  },
  {
   "cell_type": "code",
   "execution_count": 51,
   "metadata": {},
   "outputs": [
    {
     "name": "stdout",
     "output_type": "stream",
     "text": [
      "Z Score: -2.007984063681781\n",
      "P Value: 0.04464498516258697\n",
      "Reject Null Hypothesis\n"
     ]
    }
   ],
   "source": [
    "# Given Data \n",
    "\n",
    "avg_pastry_production = 500 # sample mean\n",
    "avg_pastry_production_new = 530 # new sample mean\n",
    "std_dev = 125 # sample standard deviation from population mean\n",
    "\n",
    "\n",
    "n = 70 # sample size\n",
    "#mean_pastry_product = 480 # population mean\n",
    "confidence_level = 95 # 95% confidence i.e mu\n",
    "alpha = 0.05 # 5% significance level\n",
    "\n",
    "# Hypothesis\n",
    "# Null Hypothesis : The mean pastry production is more than 500\n",
    "# Alternative Hypothesis : The mean pastry production is less than 500\n",
    "\n",
    "from scipy.stats import ttest_ind\n",
    "from scipy.stats import norm\n",
    "import numpy as np\n",
    "\n",
    "# calculate z score with critical z-value of 1.645 for 95% confidence level\n",
    "z = (avg_pastry_production - avg_pastry_production_new) / (std_dev / np.sqrt(n))\n",
    "\n",
    "print('Z Score:',z)\n",
    "\n",
    "# calculate p value\n",
    "p = 2 * (1 - norm.cdf(abs(z)))\n",
    "print('P Value:',p)\n",
    "\n",
    "# check if null hypothesis can be rejected\n",
    "if p < alpha:\n",
    "    print('Reject Null Hypothesis')\n",
    "else:\n",
    "    print('Fail to Reject Null Hypothesis')\n",
    "\n"
   ]
  },
  {
   "cell_type": "markdown",
   "metadata": {},
   "source": [
    "Q4. India runs on Chai\n",
    "\n",
    "The Chai Point stall at Bengaluru airport estimates that each person visiting the store drinks an average of 1.7 small cups of tea.\n",
    "\n",
    "Assume a population standard deviation of 0.5 small cups. A sample of 30 customers collected over a few days averaged 1.85 small cups of tea per person.\n",
    "\n",
    "Test the claim using an appropriate test at an alpha = 0.05 significance value, with a critical z-score value of ±1.96.\n",
    "\n",
    "Note: Round off the z-score to two decimal places."
   ]
  },
  {
   "cell_type": "code",
   "execution_count": 63,
   "metadata": {},
   "outputs": [
    {
     "name": "stdout",
     "output_type": "stream",
     "text": [
      "Z Score: 1.6431676725155\n",
      "P Value: 0.10034824646229046\n",
      "Fail to Reject Null Hypothesis\n"
     ]
    }
   ],
   "source": [
    "# Given data \n",
    "\n",
    "avg_small_cups_tea_perperson = 1.85 # sample mean\n",
    "n = 30 # sample size\n",
    "std_dev = 0.5 # sample standard deviation\n",
    "confidence_level = 95 # 95% confidence i.e mu\n",
    "alpha = 0.05 # 5% significance level\n",
    "z_score = 1.96 # z-score for 95% confidence level\n",
    "\n",
    "# Hypothesis Claim\n",
    "# Null Hypothesis : The mean small cups of tea is 17\n",
    "# Alternative Hypothesis : The mean small cups of tea is not 17\n",
    "\n",
    "from scipy.stats import ttest_ind\n",
    "from scipy.stats import norm    \n",
    "import numpy as np\n",
    "\n",
    "# calculate z score\n",
    "z = (avg_small_cups_tea_perperson - 1.7) / (std_dev / np.sqrt(n))\n",
    "print(f\"Z Score:\",z)\n",
    "\n",
    "# hypothesis testing\n",
    "p = 2 * (1 - norm.cdf(abs(z)))\n",
    "print(f\"P Value:\",p)\n",
    "\n",
    "# check if null hypothesis can be rejected\n",
    "if p < alpha:\n",
    "    print('Reject Null Hypothesis')\n",
    "else:\n",
    "    print('Fail to Reject Null Hypothesis')\n"
   ]
  },
  {
   "cell_type": "markdown",
   "metadata": {},
   "source": [
    "Q5. Short state\n",
    "\n",
    "A country has a population average height of 65 inches with a standard deviation of 2.5. A person feels people from his state are shorter. He takes the average of 20 people and sees that it is 64.5.\n",
    "\n",
    "At a 5% significance level (or 95% confidence level), can we conclude that people from his state are shorter, using the Z-test? What is the p-value?"
   ]
  },
  {
   "cell_type": "code",
   "execution_count": 71,
   "metadata": {},
   "outputs": [
    {
     "name": "stdout",
     "output_type": "stream",
     "text": [
      "Z Score: -0.8944271909999159\n",
      "Z Score: -0.894\n",
      "P Value: 0.18554668476134878\n",
      "P Value: 0.186\n",
      "Fail to Reject Null Hypothesis\n"
     ]
    }
   ],
   "source": [
    "# Given Data\n",
    "population_mean = 65 # population mean\n",
    "std_dev = 2.5 # population standard deviation\n",
    "avg_height_1state = 64.5 # sample mean\n",
    "n = 20 # sample size\n",
    "confidence_level = 95 # 95% confidence i.e mu\n",
    "alpha = 0.05 # 5% significance level\n",
    "\n",
    "# Hypotheis\n",
    "\n",
    "# H0 : people from 1 state is shorter\n",
    "# H1 : people from the state are not shorter\n",
    "\n",
    "# Calculate p-value\n",
    "\n",
    "from scipy.stats import norm\n",
    "import numpy as np\n",
    "\n",
    "# calculate z score\n",
    "z = (avg_height_1state - population_mean) / (std_dev / np.sqrt(n))\n",
    "print('Z Score:',z)\n",
    "print('Z Score:', round(z, 3)) \n",
    "\n",
    "# calculate p value using one tail test\n",
    "#p = norm.cdf(abs(z))\n",
    "p = norm.cdf(z)\n",
    "print('P Value:',p)\n",
    "print('P Value:', round(p, 3))\n",
    "\n",
    "# check if null hypothesis can be rejected\n",
    "if p < alpha:\n",
    "    print('Reject Null Hypothesis')\n",
    "else:\n",
    "    print('Fail to Reject Null Hypothesis')\n",
    "\n"
   ]
  },
  {
   "cell_type": "markdown",
   "metadata": {},
   "source": [
    "Q6. Gym body fat percentage\n",
    "\n",
    "Samples of Body fat percentages of few gym going men and women are recorded.\n",
    "\n",
    "men = [13.3, 6.0, 20.0, 8.0, 14.0, 19.0, 18.0, 25.0, 16.0, 24.0, 15.0, 1.0, 15.0]\n",
    "women = [22.0, 16.0, 21.7, 21.0, 30.0, 26.0, 12.0, 23.2, 28.0, 23.0]\n",
    "Perform an appropriate test to check if the mean body fat percentage of men and women is statistically different.\n",
    "\n",
    "Assume the significance level to be 5%.\n",
    "\n",
    "Choose the correct option below :"
   ]
  },
  {
   "cell_type": "code",
   "execution_count": 78,
   "metadata": {},
   "outputs": [
    {
     "name": "stdout",
     "output_type": "stream",
     "text": [
      "T-Stat Value: -2.799960442832919\n",
      "P Value: 0.011\n",
      "Body fat percentage of gym going men and women are statistically different\n"
     ]
    }
   ],
   "source": [
    "# Given Data\n",
    "men = [13.3, 6.0, 20.0, 8.0, 14.0, 19.0, 18.0, 25.0, 16.0, 24.0, 15.0, 1.0, 15.0]\n",
    "women = [22.0, 16.0, 21.7, 21.0, 30.0, 26.0, 12.0, 23.2, 28.0, 23.0]\n",
    "significance_level = 0.05 # 5% significance level\n",
    "\n",
    "\n",
    "# Hypothesis\n",
    "\n",
    "# Null Hypothesis : Body fat percentage of gym going men and women are statistically different\n",
    "# Alternative Hypothesis : Body fat percentage of gym going men and women are same\n",
    "\n",
    "from scipy.stats import ttest_ind\n",
    "from scipy.stats import norm\n",
    "import numpy\n",
    "\n",
    "# calculate t-statistic and p-value\n",
    "\n",
    "t_stat, p = ttest_ind(men , women)\n",
    "print('T-Stat Value:',t_stat)\n",
    "print('P Value:', round(p,3)) \n",
    "\n",
    "# check if null hypothesis can be rejected\n",
    "\n",
    "if p < significance_level:\n",
    "    print('Body fat percentage of gym going men and women are statistically different')\n",
    "else:\n",
    "    print('Body fat percentage of gym going men and women are same') \n",
    "\n"
   ]
  },
  {
   "cell_type": "markdown",
   "metadata": {},
   "source": [
    "Q7. Two Schools IQ\n",
    "\n",
    "Samples of IQ scores are collected from two competing schools, as follows:\n",
    "\n",
    "school_1 = [115, 111, 112, 101, 95, 98, 100, 90, 89, 108]\n",
    "school_2 = [107, 103, 91, 99, 104, 98, 117, 113, 92, 96, 108, 115, 116, 88]\n",
    "Perform an appropriate test with a 5% significance level to check if there is any statistically significant difference in the mean IQ's of these schools.\n",
    "\n",
    "Choose the correct option below :"
   ]
  },
  {
   "cell_type": "code",
   "execution_count": 84,
   "metadata": {},
   "outputs": [
    {
     "name": "stdout",
     "output_type": "stream",
     "text": [
      "T-Stat Value: -0.36928503344341035\n",
      "P Value: 0.72\n",
      "Fail to Reject Null Hypothesis\n"
     ]
    }
   ],
   "source": [
    "# Given Data\n",
    "\n",
    "school_1 = [115, 111, 112, 101, 95, 98, 100, 90, 89, 108]\n",
    "school_2 = [107, 103, 91, 99, 104, 98, 117, 113, 92, 96, 108, 115, 116, 88]\n",
    "significance_level = 0.05 # 5% significance\n",
    "\n",
    "# Hypothesis\n",
    "\n",
    "H0 = \"IQ scores of the two schools are same\"\n",
    "H1 = \"IQ scores of the two schools are statistically different\"\n",
    "\n",
    "from scipy.stats import ttest_ind\n",
    "from scipy.stats import norm\n",
    "import numpy\n",
    "\n",
    "# calculate t-statistic and p-value\n",
    "t_stat, p = ttest_ind(school_1, school_2)\n",
    "print('T-Stat Value:',t_stat)\n",
    "print('P Value:', round(p,2))\n",
    "\n",
    "# check if null hypothesis can be rejected\n",
    "if p < significance_level:\n",
    "    print('Reject Null Hypothesis')\n",
    "else:\n",
    "    print('Fail to Reject Null Hypothesis')\n",
    "\n"
   ]
  },
  {
   "cell_type": "markdown",
   "metadata": {},
   "source": [
    "Q1. Institution's claim\n",
    "\n",
    "It is known that the mean IQ of high school students is 100, and the standard deviation is 15.\n",
    "\n",
    "A coaching institute claims that candidates who study there have more IQ than an average high school student. When the IQ of 50 candidates was calculated, the average turned out to be 110\n",
    "\n",
    "Conduct an appropriate hypothesis test to test the institute’s claim, with a significance level of 5%"
   ]
  },
  {
   "cell_type": "code",
   "execution_count": 95,
   "metadata": {},
   "outputs": [
    {
     "name": "stdout",
     "output_type": "stream",
     "text": [
      "Z Score: 4.714\n",
      "P Value: 1.2142337364462463e-06\n",
      "Candidates who study at this coaching institution have more IQ than an average high school student\n"
     ]
    }
   ],
   "source": [
    "# Given data\n",
    "avg_iq_highschool = 100 # population mean\n",
    "std_dev = 15 # population standard deviation\n",
    "sample_size = 50 \n",
    "avg_iq_coachinginstitute = 110  # sample mean\n",
    "confidence_level = 95 # 95% confidence i.e mu\n",
    "alpha = 0.05 # 5% significance level\n",
    "\n",
    "# Hypothesis\n",
    "\n",
    "# Null Hypothesis : Candidates who study at this coaching institution have the same IQ as an average high school student.\n",
    "# Alternate Hypothesis : Candidates who study at this coaching institution have more IQ than an average high school student.\n",
    "\n",
    "from scipy.stats import ttest_ind\n",
    "from scipy.stats import norm\n",
    "import numpy as np\n",
    "\n",
    "# calculate z score\n",
    "z = (avg_iq_coachinginstitute - avg_iq_highschool) / (std_dev / np.sqrt(sample_size))\n",
    "print('Z Score:',round(z,3))\n",
    "\n",
    "# calculate p value\n",
    "p = (1 - norm.cdf(z))\n",
    "print('P Value:',p)\n",
    "\n",
    "# check if null hypothesis can be rejected\n",
    "if p < alpha:\n",
    "    print('Candidates who study at this coaching institution have more IQ than an average high school student')\n",
    "else:\n",
    "    print('Candidates who study at this coaching institution have the same IQ as an average high school student')"
   ]
  },
  {
   "cell_type": "markdown",
   "metadata": {},
   "source": [
    "Q2. Coaching class\n",
    "\n",
    "There are 8 females and 12 males in a coaching class.\n",
    "After a practice test, the coach wants to know whether the average score of females is greater than the average score of males.\n",
    "Given data describes the scores of females and males in his class.\n",
    "\n",
    "female_scores=[25,30,45,49,47,35,32,42]\n",
    "male_scores=[45,47,25,22,29,32,27,28,40,49,50,33]\n",
    "\n",
    "Use an appropriate test to check whether the assumption of the coach is significant or not, at a 2% significance level?"
   ]
  },
  {
   "cell_type": "code",
   "execution_count": 102,
   "metadata": {},
   "outputs": [
    {
     "name": "stdout",
     "output_type": "stream",
     "text": [
      "T-Stat Value: 0.58\n",
      "P Value: 0.2845\n",
      "The average score of females is equal to or less than the average score of males\n"
     ]
    }
   ],
   "source": [
    "# Given Data\n",
    "female_scores=[25,30,45,49,47,35,32,42]\n",
    "male_scores=[45,47,25,22,29,32,27,28,40,49,50,33]\n",
    "female_count = 8 \n",
    "male_count = 12\n",
    "confidence_level = 98 # 98% confidence i.e mu\n",
    "alpha = 0.02 # 2% significance level\n",
    "\n",
    "# Hypothesis\n",
    "# null hypothesis : The average score of females is equal to or less than the average score of males.\n",
    "# alternate hypothesis : The average score of females is greater than the average score of males.\n",
    "\n",
    "\n",
    "from scipy.stats import ttest_ind\n",
    "# calculate t-statistic and p-value\n",
    "\n",
    "t_stat, p =ttest_ind(female_scores, male_scores)\n",
    "print('T-Stat Value:', round(t_stat,3))\n",
    "print('P Value:', round(p,3)/2)   \n",
    "\n",
    "# check if null hypothesis can be rejected\n",
    "if p < alpha:\n",
    "    print('The average score of females is greater than the average score of males')\n",
    "else:\n",
    "    print('The average score of females is equal to or less than the average score of males')  "
   ]
  },
  {
   "cell_type": "markdown",
   "metadata": {},
   "source": [
    "Q3. Water Regulation\n",
    "\n",
    "The student hostel office at IIT Madras estimates that each student uses more than 3.5 buckets of water per day.\n",
    "\n",
    "In order to verify this claim, the college trustees decide to monitor the water consuption over the next 45 days, and it is found that on an average, 3.72 buckets of water is consumed by a student, per day.\n",
    "\n",
    "Assume that the population standard deviation is 0.7 buckets. What is the critical sample mean, assuming a critical z-value of 1.28?\n",
    "\n",
    "Note: The critical sample mean is defined as the mean value for which the z-score is equal to the critical value. Also, round off the final answer to three decimal places."
   ]
  },
  {
   "cell_type": "code",
   "execution_count": 108,
   "metadata": {},
   "outputs": [
    {
     "name": "stdout",
     "output_type": "stream",
     "text": [
      "X: [3.63356779]\n",
      "Fail to Reject Null Hypothesis\n"
     ]
    }
   ],
   "source": [
    "# Given Data \n",
    "\n",
    "avg_water_consumption = 3.5 # population mean (μ)\n",
    "std_dev = 0.7  # population standard deveations (σ)\n",
    "\n",
    "n = 45 # sample size\n",
    "avg_water_sample_consumption = 3.72 # sample mean\n",
    "critical_zvalue= 1.28 # critical z value \n",
    "\n",
    "# Hypothesis\n",
    "# Null Hypothesis : The average water consumption is equal more than 3.5 liters\n",
    "# Alternative Hypothesis : The average water consumption is less than 3.5 liters\n",
    "\n",
    "from scipy.stats import norm\n",
    "\n",
    "mu=3.5,\n",
    "n=45,\n",
    "sigma=0.7,\n",
    "z_critical=1.28\n",
    "std_error=sigma/np.sqrt(n)\n",
    "x=(z_critical*std_error)+mu\n",
    "print('X:',x)\n",
    "\n",
    "\n",
    "# check if null hypothesis can be rejected\n",
    "\n",
    "if z < critical_zvalue:\n",
    "    print('Reject Null Hypothesis')\n",
    "else:\n",
    "    print('Fail to Reject Null Hypothesis')\n",
    "\n"
   ]
  },
  {
   "cell_type": "markdown",
   "metadata": {},
   "source": [
    "Q4. Testing efficacy of improving GRE score\n",
    "\n",
    "The verbal reasoning in the GRE has an average score of 150 and a standard deviation of 8.5.\n",
    "\n",
    "A coaching centre claims that their students are better. An average of 10 people showed that students from this coaching centre have an average score of 155.\n",
    "\n",
    "At a 5% significance level (or 95% confidence level), can we conclude that students from the coaching centre are better? Use the Z-test, and compute the p-value."
   ]
  },
  {
   "cell_type": "markdown",
   "metadata": {},
   "source": [
    "\n",
    "Choose the correct answer from below:\n",
    "\n",
    "p-value = 0.03, and hence students from the coaching center are better\n",
    "\n",
    "p-value = 0.96, and hence students from the coaching center are better\n",
    "\n",
    "p-value = 0.03, and hence students from the coaching center are not better\n",
    "\n",
    "p-value = 0.96, and hence students from the coaching center are not better"
   ]
  },
  {
   "cell_type": "code",
   "execution_count": 112,
   "metadata": {},
   "outputs": [
    {
     "name": "stdout",
     "output_type": "stream",
     "text": [
      "Z Score: 1.8601633295108115\n",
      "P Value: 0.031431210741779014\n",
      "students from coaching center are better than the population \n"
     ]
    }
   ],
   "source": [
    "# Given Data\n",
    "avg_score  = 150 # population mean\n",
    "std_dev = 8.5 # population standard dev\n",
    "n = 10 \n",
    "avg_coaching_score = 155 # sample mean\n",
    "confidence_level = 95 # 95% confidence i.e mu\n",
    "alpha = 0.05 # 5% significance level\n",
    "\n",
    "\n",
    "# hypothesis \n",
    "# Null Hypothesis : students from coaching center are the same as the population\n",
    "# Alternate Hypothesis: students from coaching center are better than the population\n",
    "\n",
    "from scipy.stats import norm\n",
    "\n",
    "# calculate z score\n",
    "z = (avg_coaching_score - avg_score) / (std_dev / np.sqrt(n))\n",
    "print('Z Score:',z)\n",
    "\n",
    "# calculate p value\n",
    "p = 1 - norm.cdf(z)\n",
    "print('P Value:',p)\n",
    "\n",
    "# check if null hypothesis can be rejected\n",
    "if p < alpha:\n",
    "    print('students from coaching center are better than the population ')\n",
    "else:\n",
    "    print('students from coaching center are the same as the population')\n",
    "\n",
    "\n"
   ]
  },
  {
   "cell_type": "markdown",
   "metadata": {},
   "source": [
    "Q5. What is the delivery time?\n",
    "\n",
    "A company claims that the average time it takes to deliver a product to customers is 3 days.\n",
    "\n",
    "The company's delivery process is under scrutiny, and a sample of 25 delivery times is collected. The sample mean delivery time is 3.5 days, and the population standard deviation is known to be 0.8 days.\n",
    "\n",
    "At a 5% significance level, can we conclude that the average delivery time is greater than 3 days?\n",
    "\n",
    "Conduct a one-sample Z-test to determine the same. Also, evaluate the z-score for observed average time."
   ]
  },
  {
   "cell_type": "markdown",
   "metadata": {},
   "source": [
    "Choose the correct answer from below, please note that this question may have multiple correct answers\n",
    "\n",
    "1. pvalue = 0.000889 ; Reject the null hypothesis; The average delivery time is greater than 3 days\n",
    "\n",
    "\n",
    "2. pvalue = 0.0889 ; Fail to reject the null hypothesis; The average delivery time is 3 days\n",
    "\n",
    "\n",
    "3. Z-score = 3.125\n",
    "\n",
    "\n",
    "4. Z-score = 1.5\n"
   ]
  },
  {
   "cell_type": "code",
   "execution_count": 114,
   "metadata": {},
   "outputs": [
    {
     "name": "stdout",
     "output_type": "stream",
     "text": [
      "Z Score: 3.125\n",
      "P Value: 0.0008890252991083925\n",
      "Reject Null Hypothesis\n"
     ]
    }
   ],
   "source": [
    "# given data \n",
    "\n",
    "avg_delivery_time = 3 # population mean \n",
    "std_dev = 0.8 # population standard deviation\n",
    "\n",
    "n = 25 \n",
    "avg_improved_delivery_time = 3.5 # sample mean\n",
    "\n",
    "confidence_level = 95 # 95% confidence i.e mu\n",
    "alpha = 0.05 # 5% significance level\n",
    "\n",
    "# Hypothesis\n",
    "# Null Hypothesis : The average delivery time is greater or equal to  3 days\n",
    "# Alternative Hypothesis : The average delivery time is more than 3 days\n",
    "\n",
    "from scipy.stats import norm\n",
    "\n",
    "# calculate z score\n",
    "\n",
    "z = (avg_improved_delivery_time - avg_delivery_time) / (std_dev / np.sqrt(n))\n",
    "print('Z Score:',z)\n",
    "\n",
    "# calculate p value\n",
    "\n",
    "p = 1 - norm.cdf(z)\n",
    "print('P Value:',p)\n",
    "\n",
    "\n",
    "# check if null hypothesis can be rejected\n",
    "\n",
    "if z > 1.645:\n",
    "    print('Reject Null Hypothesis')\n",
    "else:\n",
    "    print('Fail to Reject Null Hypothesis')\n",
    "\n",
    "\n"
   ]
  }
 ],
 "metadata": {
  "kernelspec": {
   "display_name": "base",
   "language": "python",
   "name": "python3"
  },
  "language_info": {
   "codemirror_mode": {
    "name": "ipython",
    "version": 3
   },
   "file_extension": ".py",
   "mimetype": "text/x-python",
   "name": "python",
   "nbconvert_exporter": "python",
   "pygments_lexer": "ipython3",
   "version": "3.12.7"
  }
 },
 "nbformat": 4,
 "nbformat_minor": 2
}
