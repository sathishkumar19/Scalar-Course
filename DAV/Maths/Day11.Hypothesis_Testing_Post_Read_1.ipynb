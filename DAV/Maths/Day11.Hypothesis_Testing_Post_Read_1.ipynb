{
  "nbformat": 4,
  "nbformat_minor": 0,
  "metadata": {
    "colab": {
      "provenance": [],
      "toc_visible": true
    },
    "kernelspec": {
      "name": "python3",
      "display_name": "Python 3"
    },
    "language_info": {
      "name": "python"
    }
  },
  "cells": [
    {
      "cell_type": "markdown",
      "source": [
        "# **Post-Read 1: Deeper Dive into Hypothesis Testing for One-Sample Tests**\n",
        "\n",
        "*This notebook is a **supplementary** resource for Main Lecture 1. It provides additional conceptual depth and practice for hypothesis testing fundamentals, focusing on Type I & II errors, power, confidence intervals, effect size (Cohen’s d), and the role of the Central Limit Theorem.*"
      ],
      "metadata": {
        "id": "8XyQGYKdKZLl"
      }
    },
    {
      "cell_type": "code",
      "execution_count": null,
      "metadata": {
        "colab": {
          "base_uri": "https://localhost:8080/"
        },
        "id": "hfm8qIF7KFiF",
        "outputId": "d33fecb3-f663-4a7f-a69e-ed7cd2a0a414"
      },
      "outputs": [
        {
          "output_type": "stream",
          "name": "stdout",
          "text": [
            "--2025-01-21 04:39:57--  https://d2beiqkhq929f0.cloudfront.net/public_assets/assets/000/102/634/original/medical_cost.zip\n",
            "Resolving d2beiqkhq929f0.cloudfront.net (d2beiqkhq929f0.cloudfront.net)... 13.224.9.24, 13.224.9.103, 13.224.9.181, ...\n",
            "Connecting to d2beiqkhq929f0.cloudfront.net (d2beiqkhq929f0.cloudfront.net)|13.224.9.24|:443... connected.\n",
            "HTTP request sent, awaiting response... 200 OK\n",
            "Length: 16425 (16K) [application/zip]\n",
            "Saving to: ‘medical_cost.zip’\n",
            "\n",
            "medical_cost.zip    100%[===================>]  16.04K  69.3KB/s    in 0.2s    \n",
            "\n",
            "2025-01-21 04:39:59 (69.3 KB/s) - ‘medical_cost.zip’ saved [16425/16425]\n",
            "\n"
          ]
        }
      ],
      "source": [
        "!wget https://d2beiqkhq929f0.cloudfront.net/public_assets/assets/000/102/634/original/medical_cost.zip"
      ]
    },
    {
      "cell_type": "code",
      "source": [
        "!unzip medical_cost.zip"
      ],
      "metadata": {
        "colab": {
          "base_uri": "https://localhost:8080/"
        },
        "id": "pmRPEDXpKNUa",
        "outputId": "4b758712-3719-40e9-e162-cb11b4b1fdea"
      },
      "execution_count": null,
      "outputs": [
        {
          "output_type": "stream",
          "name": "stdout",
          "text": [
            "Archive:  medical_cost.zip\n",
            "  inflating: insurance.csv           \n"
          ]
        }
      ]
    },
    {
      "cell_type": "code",
      "source": [
        "import pandas as pd\n",
        "\n",
        "df = pd.read_csv('insurance.csv')\n",
        "df.head()"
      ],
      "metadata": {
        "colab": {
          "base_uri": "https://localhost:8080/",
          "height": 206
        },
        "id": "rzL4QY7_KOS3",
        "outputId": "2c7272b2-1659-4a79-a5e4-0dbca4ee51f3"
      },
      "execution_count": null,
      "outputs": [
        {
          "output_type": "execute_result",
          "data": {
            "text/plain": [
              "   age     sex     bmi  children smoker     region      charges\n",
              "0   19  female  27.900         0    yes  southwest  16884.92400\n",
              "1   18    male  33.770         1     no  southeast   1725.55230\n",
              "2   28    male  33.000         3     no  southeast   4449.46200\n",
              "3   33    male  22.705         0     no  northwest  21984.47061\n",
              "4   32    male  28.880         0     no  northwest   3866.85520"
            ],
            "text/html": [
              "\n",
              "  <div id=\"df-77fe0bb7-f71e-42e7-98f6-e1d1df3419a0\" class=\"colab-df-container\">\n",
              "    <div>\n",
              "<style scoped>\n",
              "    .dataframe tbody tr th:only-of-type {\n",
              "        vertical-align: middle;\n",
              "    }\n",
              "\n",
              "    .dataframe tbody tr th {\n",
              "        vertical-align: top;\n",
              "    }\n",
              "\n",
              "    .dataframe thead th {\n",
              "        text-align: right;\n",
              "    }\n",
              "</style>\n",
              "<table border=\"1\" class=\"dataframe\">\n",
              "  <thead>\n",
              "    <tr style=\"text-align: right;\">\n",
              "      <th></th>\n",
              "      <th>age</th>\n",
              "      <th>sex</th>\n",
              "      <th>bmi</th>\n",
              "      <th>children</th>\n",
              "      <th>smoker</th>\n",
              "      <th>region</th>\n",
              "      <th>charges</th>\n",
              "    </tr>\n",
              "  </thead>\n",
              "  <tbody>\n",
              "    <tr>\n",
              "      <th>0</th>\n",
              "      <td>19</td>\n",
              "      <td>female</td>\n",
              "      <td>27.900</td>\n",
              "      <td>0</td>\n",
              "      <td>yes</td>\n",
              "      <td>southwest</td>\n",
              "      <td>16884.92400</td>\n",
              "    </tr>\n",
              "    <tr>\n",
              "      <th>1</th>\n",
              "      <td>18</td>\n",
              "      <td>male</td>\n",
              "      <td>33.770</td>\n",
              "      <td>1</td>\n",
              "      <td>no</td>\n",
              "      <td>southeast</td>\n",
              "      <td>1725.55230</td>\n",
              "    </tr>\n",
              "    <tr>\n",
              "      <th>2</th>\n",
              "      <td>28</td>\n",
              "      <td>male</td>\n",
              "      <td>33.000</td>\n",
              "      <td>3</td>\n",
              "      <td>no</td>\n",
              "      <td>southeast</td>\n",
              "      <td>4449.46200</td>\n",
              "    </tr>\n",
              "    <tr>\n",
              "      <th>3</th>\n",
              "      <td>33</td>\n",
              "      <td>male</td>\n",
              "      <td>22.705</td>\n",
              "      <td>0</td>\n",
              "      <td>no</td>\n",
              "      <td>northwest</td>\n",
              "      <td>21984.47061</td>\n",
              "    </tr>\n",
              "    <tr>\n",
              "      <th>4</th>\n",
              "      <td>32</td>\n",
              "      <td>male</td>\n",
              "      <td>28.880</td>\n",
              "      <td>0</td>\n",
              "      <td>no</td>\n",
              "      <td>northwest</td>\n",
              "      <td>3866.85520</td>\n",
              "    </tr>\n",
              "  </tbody>\n",
              "</table>\n",
              "</div>\n",
              "    <div class=\"colab-df-buttons\">\n",
              "\n",
              "  <div class=\"colab-df-container\">\n",
              "    <button class=\"colab-df-convert\" onclick=\"convertToInteractive('df-77fe0bb7-f71e-42e7-98f6-e1d1df3419a0')\"\n",
              "            title=\"Convert this dataframe to an interactive table.\"\n",
              "            style=\"display:none;\">\n",
              "\n",
              "  <svg xmlns=\"http://www.w3.org/2000/svg\" height=\"24px\" viewBox=\"0 -960 960 960\">\n",
              "    <path d=\"M120-120v-720h720v720H120Zm60-500h600v-160H180v160Zm220 220h160v-160H400v160Zm0 220h160v-160H400v160ZM180-400h160v-160H180v160Zm440 0h160v-160H620v160ZM180-180h160v-160H180v160Zm440 0h160v-160H620v160Z\"/>\n",
              "  </svg>\n",
              "    </button>\n",
              "\n",
              "  <style>\n",
              "    .colab-df-container {\n",
              "      display:flex;\n",
              "      gap: 12px;\n",
              "    }\n",
              "\n",
              "    .colab-df-convert {\n",
              "      background-color: #E8F0FE;\n",
              "      border: none;\n",
              "      border-radius: 50%;\n",
              "      cursor: pointer;\n",
              "      display: none;\n",
              "      fill: #1967D2;\n",
              "      height: 32px;\n",
              "      padding: 0 0 0 0;\n",
              "      width: 32px;\n",
              "    }\n",
              "\n",
              "    .colab-df-convert:hover {\n",
              "      background-color: #E2EBFA;\n",
              "      box-shadow: 0px 1px 2px rgba(60, 64, 67, 0.3), 0px 1px 3px 1px rgba(60, 64, 67, 0.15);\n",
              "      fill: #174EA6;\n",
              "    }\n",
              "\n",
              "    .colab-df-buttons div {\n",
              "      margin-bottom: 4px;\n",
              "    }\n",
              "\n",
              "    [theme=dark] .colab-df-convert {\n",
              "      background-color: #3B4455;\n",
              "      fill: #D2E3FC;\n",
              "    }\n",
              "\n",
              "    [theme=dark] .colab-df-convert:hover {\n",
              "      background-color: #434B5C;\n",
              "      box-shadow: 0px 1px 3px 1px rgba(0, 0, 0, 0.15);\n",
              "      filter: drop-shadow(0px 1px 2px rgba(0, 0, 0, 0.3));\n",
              "      fill: #FFFFFF;\n",
              "    }\n",
              "  </style>\n",
              "\n",
              "    <script>\n",
              "      const buttonEl =\n",
              "        document.querySelector('#df-77fe0bb7-f71e-42e7-98f6-e1d1df3419a0 button.colab-df-convert');\n",
              "      buttonEl.style.display =\n",
              "        google.colab.kernel.accessAllowed ? 'block' : 'none';\n",
              "\n",
              "      async function convertToInteractive(key) {\n",
              "        const element = document.querySelector('#df-77fe0bb7-f71e-42e7-98f6-e1d1df3419a0');\n",
              "        const dataTable =\n",
              "          await google.colab.kernel.invokeFunction('convertToInteractive',\n",
              "                                                    [key], {});\n",
              "        if (!dataTable) return;\n",
              "\n",
              "        const docLinkHtml = 'Like what you see? Visit the ' +\n",
              "          '<a target=\"_blank\" href=https://colab.research.google.com/notebooks/data_table.ipynb>data table notebook</a>'\n",
              "          + ' to learn more about interactive tables.';\n",
              "        element.innerHTML = '';\n",
              "        dataTable['output_type'] = 'display_data';\n",
              "        await google.colab.output.renderOutput(dataTable, element);\n",
              "        const docLink = document.createElement('div');\n",
              "        docLink.innerHTML = docLinkHtml;\n",
              "        element.appendChild(docLink);\n",
              "      }\n",
              "    </script>\n",
              "  </div>\n",
              "\n",
              "\n",
              "<div id=\"df-f3e4c1a2-5d22-4ed8-ace0-905e449cc1f2\">\n",
              "  <button class=\"colab-df-quickchart\" onclick=\"quickchart('df-f3e4c1a2-5d22-4ed8-ace0-905e449cc1f2')\"\n",
              "            title=\"Suggest charts\"\n",
              "            style=\"display:none;\">\n",
              "\n",
              "<svg xmlns=\"http://www.w3.org/2000/svg\" height=\"24px\"viewBox=\"0 0 24 24\"\n",
              "     width=\"24px\">\n",
              "    <g>\n",
              "        <path d=\"M19 3H5c-1.1 0-2 .9-2 2v14c0 1.1.9 2 2 2h14c1.1 0 2-.9 2-2V5c0-1.1-.9-2-2-2zM9 17H7v-7h2v7zm4 0h-2V7h2v10zm4 0h-2v-4h2v4z\"/>\n",
              "    </g>\n",
              "</svg>\n",
              "  </button>\n",
              "\n",
              "<style>\n",
              "  .colab-df-quickchart {\n",
              "      --bg-color: #E8F0FE;\n",
              "      --fill-color: #1967D2;\n",
              "      --hover-bg-color: #E2EBFA;\n",
              "      --hover-fill-color: #174EA6;\n",
              "      --disabled-fill-color: #AAA;\n",
              "      --disabled-bg-color: #DDD;\n",
              "  }\n",
              "\n",
              "  [theme=dark] .colab-df-quickchart {\n",
              "      --bg-color: #3B4455;\n",
              "      --fill-color: #D2E3FC;\n",
              "      --hover-bg-color: #434B5C;\n",
              "      --hover-fill-color: #FFFFFF;\n",
              "      --disabled-bg-color: #3B4455;\n",
              "      --disabled-fill-color: #666;\n",
              "  }\n",
              "\n",
              "  .colab-df-quickchart {\n",
              "    background-color: var(--bg-color);\n",
              "    border: none;\n",
              "    border-radius: 50%;\n",
              "    cursor: pointer;\n",
              "    display: none;\n",
              "    fill: var(--fill-color);\n",
              "    height: 32px;\n",
              "    padding: 0;\n",
              "    width: 32px;\n",
              "  }\n",
              "\n",
              "  .colab-df-quickchart:hover {\n",
              "    background-color: var(--hover-bg-color);\n",
              "    box-shadow: 0 1px 2px rgba(60, 64, 67, 0.3), 0 1px 3px 1px rgba(60, 64, 67, 0.15);\n",
              "    fill: var(--button-hover-fill-color);\n",
              "  }\n",
              "\n",
              "  .colab-df-quickchart-complete:disabled,\n",
              "  .colab-df-quickchart-complete:disabled:hover {\n",
              "    background-color: var(--disabled-bg-color);\n",
              "    fill: var(--disabled-fill-color);\n",
              "    box-shadow: none;\n",
              "  }\n",
              "\n",
              "  .colab-df-spinner {\n",
              "    border: 2px solid var(--fill-color);\n",
              "    border-color: transparent;\n",
              "    border-bottom-color: var(--fill-color);\n",
              "    animation:\n",
              "      spin 1s steps(1) infinite;\n",
              "  }\n",
              "\n",
              "  @keyframes spin {\n",
              "    0% {\n",
              "      border-color: transparent;\n",
              "      border-bottom-color: var(--fill-color);\n",
              "      border-left-color: var(--fill-color);\n",
              "    }\n",
              "    20% {\n",
              "      border-color: transparent;\n",
              "      border-left-color: var(--fill-color);\n",
              "      border-top-color: var(--fill-color);\n",
              "    }\n",
              "    30% {\n",
              "      border-color: transparent;\n",
              "      border-left-color: var(--fill-color);\n",
              "      border-top-color: var(--fill-color);\n",
              "      border-right-color: var(--fill-color);\n",
              "    }\n",
              "    40% {\n",
              "      border-color: transparent;\n",
              "      border-right-color: var(--fill-color);\n",
              "      border-top-color: var(--fill-color);\n",
              "    }\n",
              "    60% {\n",
              "      border-color: transparent;\n",
              "      border-right-color: var(--fill-color);\n",
              "    }\n",
              "    80% {\n",
              "      border-color: transparent;\n",
              "      border-right-color: var(--fill-color);\n",
              "      border-bottom-color: var(--fill-color);\n",
              "    }\n",
              "    90% {\n",
              "      border-color: transparent;\n",
              "      border-bottom-color: var(--fill-color);\n",
              "    }\n",
              "  }\n",
              "</style>\n",
              "\n",
              "  <script>\n",
              "    async function quickchart(key) {\n",
              "      const quickchartButtonEl =\n",
              "        document.querySelector('#' + key + ' button');\n",
              "      quickchartButtonEl.disabled = true;  // To prevent multiple clicks.\n",
              "      quickchartButtonEl.classList.add('colab-df-spinner');\n",
              "      try {\n",
              "        const charts = await google.colab.kernel.invokeFunction(\n",
              "            'suggestCharts', [key], {});\n",
              "      } catch (error) {\n",
              "        console.error('Error during call to suggestCharts:', error);\n",
              "      }\n",
              "      quickchartButtonEl.classList.remove('colab-df-spinner');\n",
              "      quickchartButtonEl.classList.add('colab-df-quickchart-complete');\n",
              "    }\n",
              "    (() => {\n",
              "      let quickchartButtonEl =\n",
              "        document.querySelector('#df-f3e4c1a2-5d22-4ed8-ace0-905e449cc1f2 button');\n",
              "      quickchartButtonEl.style.display =\n",
              "        google.colab.kernel.accessAllowed ? 'block' : 'none';\n",
              "    })();\n",
              "  </script>\n",
              "</div>\n",
              "\n",
              "    </div>\n",
              "  </div>\n"
            ],
            "application/vnd.google.colaboratory.intrinsic+json": {
              "type": "dataframe",
              "variable_name": "df",
              "summary": "{\n  \"name\": \"df\",\n  \"rows\": 1338,\n  \"fields\": [\n    {\n      \"column\": \"age\",\n      \"properties\": {\n        \"dtype\": \"number\",\n        \"std\": 14,\n        \"min\": 18,\n        \"max\": 64,\n        \"num_unique_values\": 47,\n        \"samples\": [\n          21,\n          45,\n          36\n        ],\n        \"semantic_type\": \"\",\n        \"description\": \"\"\n      }\n    },\n    {\n      \"column\": \"sex\",\n      \"properties\": {\n        \"dtype\": \"category\",\n        \"num_unique_values\": 2,\n        \"samples\": [\n          \"male\",\n          \"female\"\n        ],\n        \"semantic_type\": \"\",\n        \"description\": \"\"\n      }\n    },\n    {\n      \"column\": \"bmi\",\n      \"properties\": {\n        \"dtype\": \"number\",\n        \"std\": 6.098186911679017,\n        \"min\": 15.96,\n        \"max\": 53.13,\n        \"num_unique_values\": 548,\n        \"samples\": [\n          23.18,\n          26.885\n        ],\n        \"semantic_type\": \"\",\n        \"description\": \"\"\n      }\n    },\n    {\n      \"column\": \"children\",\n      \"properties\": {\n        \"dtype\": \"number\",\n        \"std\": 1,\n        \"min\": 0,\n        \"max\": 5,\n        \"num_unique_values\": 6,\n        \"samples\": [\n          0,\n          1\n        ],\n        \"semantic_type\": \"\",\n        \"description\": \"\"\n      }\n    },\n    {\n      \"column\": \"smoker\",\n      \"properties\": {\n        \"dtype\": \"category\",\n        \"num_unique_values\": 2,\n        \"samples\": [\n          \"no\",\n          \"yes\"\n        ],\n        \"semantic_type\": \"\",\n        \"description\": \"\"\n      }\n    },\n    {\n      \"column\": \"region\",\n      \"properties\": {\n        \"dtype\": \"category\",\n        \"num_unique_values\": 4,\n        \"samples\": [\n          \"southeast\",\n          \"northeast\"\n        ],\n        \"semantic_type\": \"\",\n        \"description\": \"\"\n      }\n    },\n    {\n      \"column\": \"charges\",\n      \"properties\": {\n        \"dtype\": \"number\",\n        \"std\": 12110.011236693994,\n        \"min\": 1121.8739,\n        \"max\": 63770.42801,\n        \"num_unique_values\": 1337,\n        \"samples\": [\n          8688.85885,\n          5708.867\n        ],\n        \"semantic_type\": \"\",\n        \"description\": \"\"\n      }\n    }\n  ]\n}"
            }
          },
          "metadata": {},
          "execution_count": 3
        }
      ]
    },
    {
      "cell_type": "markdown",
      "source": [
        "---\n",
        "\n",
        "\n",
        "## 1. Introduction\n",
        "\n",
        "In **Main Lecture 1**, you learned about:\n",
        "- Formulating a **one-sample hypothesis test** (e.g., is the average <font color=\"blue\">charges</font> equal to 12,000?).\n",
        "- Identifying **Type I** and **Type II** errors.\n",
        "- Calculating **confidence intervals**.\n",
        "- Leveraging the **Central Limit Theorem (CLT)**.\n",
        "- Conducting basic analyses in Python.\n",
        "\n",
        "Here, we extend those topics with deeper **theoretical explanations** and **practical code snippets**, focusing on:\n",
        "\n",
        "- **Type I & II errors** and test **power**.\n",
        "- **Confidence intervals** at various confidence levels.\n",
        "- **Central Limit Theorem** demonstrations with simulations.\n",
        "- **Effect size** (Cohen’s d) and its importance.\n",
        "- Basic **power analysis** using Python libraries.\n",
        "\n",
        "Feel free to **skim** or go in-depth; the goal is to enhance your understanding with **hands-on** examples."
      ],
      "metadata": {
        "id": "MbpQDeXgKfz4"
      }
    },
    {
      "cell_type": "markdown",
      "source": [
        "---\n",
        "\n",
        "## 3. Type I & II Errors, Power of a Test\n",
        "\n",
        "### 3.1 Conceptual Overview\n",
        "\n",
        "- **Type I Error (<font color=\"magenta\">α</font>):** Rejecting the null hypothesis when it is actually true (a \"false positive\").\n",
        "- **Type II Error (<font color=\"magenta\">β</font>):** Failing to reject the null hypothesis when it is actually false (a \"false negative\").\n",
        "- **Significance Level (<font color=\"magenta\">α</font>):** The probability of a Type I error, commonly set at 0.05.\n",
        "- **Power of a Test (<font color=\"magenta\">1 - β</font>):** The probability of rejecting a false null hypothesis (i.e., detecting an effect if one truly exists).\n",
        "\n",
        "In practical terms:\n",
        "- A **higher power** test means you’re more likely to **detect a true difference**.\n",
        "- Achieving higher power typically requires **larger sample sizes**.\n",
        "\n",
        "### 3.2 Code Example: One-Sample t-Test with Different α Levels\n",
        "\n",
        "Below is an illustrative code snippet showing how changing your <font color=\"magenta\">α</font> threshold might affect your decision. We’ll:\n",
        "1. Test whether the mean <font color=\"blue\">charges</font> differs from 12,000.\n",
        "2. Print the test statistic, p-value, and whether we reject the null for two α levels (0.05 and 0.01)."
      ],
      "metadata": {
        "id": "Vvafe07CKj2W"
      }
    },
    {
      "cell_type": "code",
      "source": [
        "import numpy as np\n",
        "import pandas as pd\n",
        "import matplotlib.pyplot as plt\n",
        "import seaborn as sns\n",
        "from scipy import stats\n",
        "\n",
        "# Hypothesized population mean\n",
        "mu_0 = 12000\n",
        "\n",
        "# Extract the charges column and remove missing values\n",
        "charges = df['charges'].dropna()\n",
        "\n",
        "# Perform a one-sample t-test\n",
        "t_stat, p_value = stats.ttest_1samp(charges, mu_0)\n",
        "\n",
        "print(f\"Test Statistic: {t_stat:.3f}\")\n",
        "print(f\"P-value: {p_value:.6f}\")\n",
        "\n",
        "# Decision for alpha = 0.05\n",
        "alpha_1 = 0.05\n",
        "decision_1 = \"Reject H0\" if p_value < alpha_1 else \"Fail to Reject H0\"\n",
        "print(f\"Decision at alpha={alpha_1}: {decision_1}\")\n",
        "\n",
        "# Decision for alpha = 0.01\n",
        "alpha_2 = 0.01\n",
        "decision_2 = \"Reject H0\" if p_value < alpha_2 else \"Fail to Reject H0\"\n",
        "print(f\"Decision at alpha={alpha_2}: {decision_2}\")"
      ],
      "metadata": {
        "colab": {
          "base_uri": "https://localhost:8080/"
        },
        "id": "8H_MOfabKPQS",
        "outputId": "15851245-b270-4bcc-e19d-ed62a988b28b"
      },
      "execution_count": null,
      "outputs": [
        {
          "output_type": "stream",
          "name": "stdout",
          "text": [
            "Test Statistic: 3.837\n",
            "P-value: 0.000130\n",
            "Decision at alpha=0.05: Reject H0\n",
            "Decision at alpha=0.01: Reject H0\n"
          ]
        }
      ]
    },
    {
      "cell_type": "markdown",
      "source": [
        "- As you **decrease** α from 0.05 to 0.01, it becomes **harder** to reject \\( H_0 \\), reducing the chance of a Type I error but **increasing** the chance of a Type II error."
      ],
      "metadata": {
        "id": "2iI3507nKrt9"
      }
    },
    {
      "cell_type": "markdown",
      "source": [
        "---\n",
        "\n",
        "## 4. Confidence Interval Deep Dive\n",
        "\n",
        "### 4.1 Mathematical Review\n",
        "\n",
        "A **confidence interval** for the mean using the **t-distribution** is typically:\n",
        "\n",
        "\\[\n",
        "\\bar{x} \\; \\pm \\; t_{\\alpha/2,\\, n-1} \\times \\frac{s}{\\sqrt{n}}\n",
        "\\]\n",
        "\n",
        "where:\n",
        "- \\(\\bar{x}\\) is the sample mean,\n",
        "- \\(s\\) is the sample standard deviation (using \\(n-1\\) in the denominator),\n",
        "- \\(n\\) is the sample size,\n",
        "- \\(t_{\\alpha/2,\\, n-1}\\) is the critical value from the t-distribution for a confidence level of \\(1 - \\alpha\\).\n",
        "\n",
        "### 4.2 Code Example: Confidence Intervals at Different Levels"
      ],
      "metadata": {
        "id": "AXvlOSjDMhln"
      }
    },
    {
      "cell_type": "code",
      "source": [
        "# We already have `charges = df['charges'].dropna()`\n",
        "mean_charges = np.mean(charges)\n",
        "std_charges = np.std(charges, ddof=1)\n",
        "n = len(charges)\n",
        "\n",
        "def t_confidence_interval(data_mean, data_std, sample_size, confidence=0.95):\n",
        "    \"\"\"\n",
        "    Returns the (lower_bound, upper_bound) of a t-based confidence interval\n",
        "    for the mean given a sample mean, standard deviation, and size.\n",
        "    \"\"\"\n",
        "    alpha = 1 - confidence\n",
        "    dof = sample_size - 1\n",
        "    t_crit = stats.t.ppf(1 - alpha/2, df=dof)\n",
        "    margin_of_error = t_crit * (data_std / np.sqrt(sample_size))\n",
        "    return (data_mean - margin_of_error, data_mean + margin_of_error)\n",
        "\n",
        "# Demonstrate intervals for 90%, 95%, 99%\n",
        "for level in [0.90, 0.95, 0.99]:\n",
        "    lower, upper = t_confidence_interval(mean_charges, std_charges, n, confidence=level)\n",
        "    print(f\"{int(level*100)}% CI: [{lower:.2f}, {upper:.2f}] (width = {upper - lower:.2f})\")"
      ],
      "metadata": {
        "colab": {
          "base_uri": "https://localhost:8080/"
        },
        "id": "q8Hat5OyK7T6",
        "outputId": "283975a8-229d-4d94-e05f-ce93b9cd95e5"
      },
      "execution_count": null,
      "outputs": [
        {
          "output_type": "stream",
          "name": "stdout",
          "text": [
            "90% CI: [12725.49, 13815.36] (width = 1089.87)\n",
            "95% CI: [12620.95, 13919.89] (width = 1298.94)\n",
            "99% CI: [12416.43, 14124.41] (width = 1707.98)\n"
          ]
        }
      ]
    },
    {
      "cell_type": "markdown",
      "source": [
        "Observe how the **interval width** grows as confidence level increases (e.g., 99% > 95% > 90%).\n"
      ],
      "metadata": {
        "id": "J1XaR0BLMp_O"
      }
    },
    {
      "cell_type": "markdown",
      "source": [
        "---\n",
        "\n",
        "## 5. Central Limit Theorem (CLT)\n",
        "\n",
        "### 5.1 Why CLT Is Vital\n",
        "\n",
        "Because of the **CLT**, we can often assume the **sampling distribution** of the mean is (approximately) normal for sufficiently large \\(n\\). This justifies applying **t-tests** and computing **confidence intervals** even if <font color=\"blue\">charges</font> itself is somewhat skewed.\n",
        "\n",
        "### 5.2 Code Example: CLT Simulation (Synthetic Data)\n",
        "\n",
        "Below, we illustrate how sample means of a **non-normal** distribution approach normality. (Here we use an **exponential** distribution to mimic right-skewed data—similar to what might happen with some cost data.)"
      ],
      "metadata": {
        "id": "EESXo7ocMrsW"
      }
    },
    {
      "cell_type": "code",
      "source": [
        "# Simulation parameters\n",
        "num_samples = 5000  # how many repeated samples\n",
        "sample_size = 50    # each sample's size\n",
        "\n",
        "# Create a large population from an exponential distribution\n",
        "# (scale=1000 roughly sets the mean to 1000)\n",
        "population = np.random.exponential(scale=1000, size=200000)\n",
        "\n",
        "# Draw samples repeatedly, compute means\n",
        "sample_means = []\n",
        "for _ in range(num_samples):\n",
        "    sample = np.random.choice(population, size=sample_size, replace=False)\n",
        "    sample_means.append(np.mean(sample))\n",
        "\n",
        "# Plot histogram of sample means\n",
        "plt.figure(figsize=(8,5))\n",
        "sns.histplot(sample_means, kde=True, color=\"purple\", alpha=0.6)\n",
        "plt.title(f\"Distribution of Sample Means\\n(Exponential Population, n={sample_size})\")\n",
        "plt.xlabel(\"Sample Mean\")\n",
        "plt.ylabel(\"Count\")\n",
        "plt.show()"
      ],
      "metadata": {
        "colab": {
          "base_uri": "https://localhost:8080/",
          "height": 508
        },
        "id": "HdfdwoG9Mn91",
        "outputId": "57a6c399-d8c9-4c38-dc7b-54e0eb83185f"
      },
      "execution_count": null,
      "outputs": [
        {
          "output_type": "display_data",
          "data": {
            "text/plain": [
              "<Figure size 800x500 with 1 Axes>"
            ],
            "image/png": "[encoded data removed]"
          },
          "metadata": {}
        }
      ]
    },
    {
      "cell_type": "markdown",
      "source": [
        "💡 **Insight:** Even with a skewed underlying population, the distribution of **sample means** is more **bell-shaped**, demonstrating the CLT in action."
      ],
      "metadata": {
        "id": "pCkeX2A_MvlT"
      }
    },
    {
      "cell_type": "markdown",
      "source": [
        "---\n",
        "\n",
        "## 6. Effect Size (Cohen’s d)\n",
        "\n",
        "### 6.1 Why Effect Size Matters\n",
        "\n",
        "- **Statistical significance** (via p-values) tells us *whether* there’s a detectable difference.\n",
        "- **Effect size** tells us *how large* that difference is in a standardized manner.\n",
        "\n",
        "For a **one-sample** scenario, **Cohen’s d** is:\n",
        "\n",
        "\\[\n",
        "d = \\frac{\\bar{x} - \\mu_0}{s}\n",
        "\\]\n",
        "\n",
        "where:\n",
        "- \\(\\bar{x}\\) = sample mean,\n",
        "- \\(\\mu_0\\) = hypothesized mean,\n",
        "- \\(s\\) = sample standard deviation.\n",
        "\n",
        "Typical interpretation (though context-dependent):\n",
        "- 0.2: small  \n",
        "- 0.5: medium  \n",
        "- 0.8+: large  \n",
        "\n",
        "### 6.2 Code Example: Calculating Cohen’s d\n",
        "\n",
        "Below, we compute **Cohen’s d** to assess the magnitude of the difference between our sample mean and a hypothesized mean (12,000)."
      ],
      "metadata": {
        "id": "ARW1ti1-MyDh"
      }
    },
    {
      "cell_type": "code",
      "source": [
        "# Hypothesized mean\n",
        "mu_0 = 12000\n",
        "\n",
        "mean_charges = np.mean(charges)\n",
        "std_charges = np.std(charges, ddof=1)\n",
        "\n",
        "cohens_d = (mean_charges - mu_0) / std_charges\n",
        "\n",
        "print(f\"Sample mean: {mean_charges:.2f}\")\n",
        "print(f\"Hypothesized mean: {mu_0}\")\n",
        "print(f\"Sample standard deviation: {std_charges:.2f}\")\n",
        "print(f\"Cohen's d: {cohens_d:.3f}\")\n",
        "\n",
        "# Interpret based on general guidelines\n",
        "if abs(cohens_d) < 0.2:\n",
        "    interpretation = \"Very small or negligible\"\n",
        "elif abs(cohens_d) < 0.5:\n",
        "    interpretation = \"Small\"\n",
        "elif abs(cohens_d) < 0.8:\n",
        "    interpretation = \"Medium\"\n",
        "else:\n",
        "    interpretation = \"Large\"\n",
        "print(f\"Interpretation: {interpretation} effect size\")"
      ],
      "metadata": {
        "colab": {
          "base_uri": "https://localhost:8080/"
        },
        "id": "iid85vN4MtTY",
        "outputId": "19b7044e-96d4-46ef-e34a-00e9a8988be2"
      },
      "execution_count": null,
      "outputs": [
        {
          "output_type": "stream",
          "name": "stdout",
          "text": [
            "Sample mean: 13270.42\n",
            "Hypothesized mean: 12000\n",
            "Sample standard deviation: 12110.01\n",
            "Cohen's d: 0.105\n",
            "Interpretation: Very small or negligible effect size\n"
          ]
        }
      ]
    },
    {
      "cell_type": "markdown",
      "source": [
        "---\n",
        "\n",
        "## 7. Basic Power Analysis\n",
        "\n",
        "### 7.1 Rationale\n",
        "\n",
        "- A test with **low power** might fail to detect a practically significant effect (Type II error).\n",
        "- Determining **appropriate sample sizes** can ensure you have sufficient power (commonly 80% or 90%).\n",
        "\n",
        "### 7.2 Code Example: Power Analysis with `statsmodels`\n",
        "\n",
        "Using `statsmodels.stats.power`, we can do a **rough** calculation of sample size needed for a certain effect size, α, and power."
      ],
      "metadata": {
        "id": "fZKWJAv8M830"
      }
    },
    {
      "cell_type": "code",
      "source": [
        "from statsmodels.stats.power import TTestPower\n",
        "\n",
        "analysis = TTestPower()\n",
        "\n",
        "# Suppose we want to detect a difference of 1000 in charges from 12000\n",
        "# We estimate std_charges from our sample as stdev\n",
        "# effect_size = difference / std\n",
        "desired_difference = 1000\n",
        "estimated_std = std_charges  # from our data\n",
        "effect_size = desired_difference / estimated_std\n",
        "\n",
        "alpha = 0.05\n",
        "power = 0.80\n",
        "\n",
        "required_n = analysis.solve_power(effect_size=effect_size,\n",
        "                                  alpha=alpha,\n",
        "                                  power=power,\n",
        "                                  alternative='two-sided')\n",
        "\n",
        "print(f\"Required sample size for 80% power (effect size={effect_size:.3f}): {required_n:.2f}\")"
      ],
      "metadata": {
        "colab": {
          "base_uri": "https://localhost:8080/"
        },
        "id": "zfiSzu3JM50p",
        "outputId": "e46c4228-081d-4acd-fdef-e2a236b57efc"
      },
      "execution_count": null,
      "outputs": [
        {
          "output_type": "stream",
          "name": "stdout",
          "text": [
            "Required sample size for 80% power (effect size=0.083): 1152.98\n"
          ]
        }
      ]
    },
    {
      "cell_type": "markdown",
      "source": [
        "- Adjust **desired_difference** based on the minimum difference you find practically significant.\n",
        "- If your real-world effect is **smaller**, you need **larger** sample sizes to detect it with high power.\n"
      ],
      "metadata": {
        "id": "6P1s4mFSNBqL"
      }
    },
    {
      "cell_type": "markdown",
      "source": [
        "---\n",
        "\n",
        "## 8. Extra Practice Problems\n",
        "\n",
        "Below are **short exercises** to check your understanding. Try them before peeking at hints!\n",
        "\n",
        "### 8.1 Type I vs. Type II Errors\n",
        "\n",
        "**Q:** In a test that compares mean <font color=\"blue\">charges</font> to 12,000, if you set α to 0.01 instead of 0.05, how does this affect Type I and Type II errors (qualitatively)?\n",
        "\n",
        "<details>\n",
        "<summary><em>Hint/Answer</em></summary>\n",
        "- Lowering α to 0.01 **reduces** the probability of a Type I error (false positive).\n",
        "- However, it may **increase** the probability of a Type II error (false negative), because the test is more “conservative” about rejecting \\(H_0\\).\n",
        "</details>\n",
        "\n",
        "---\n",
        "\n",
        "### 8.2 Confidence Intervals\n",
        "\n",
        "**Q:** If you construct a 95% CI for the mean <font color=\"blue\">charges</font> and it **excludes** 12,000, what does that imply for a one-sample t-test at α=0.05?\n",
        "\n",
        "<details>\n",
        "<summary><em>Hint/Answer</em></summary>\n",
        "If 12,000 is outside the 95% CI, it suggests the p-value < 0.05 (for a two-sided test). Therefore, you would **reject** \\(H_0\\) at α=0.05.\n",
        "</details>\n",
        "\n",
        "---\n",
        "\n",
        "### 8.3 CLT Simulation Reflection\n",
        "\n",
        "**Q:** Why can a t-test still be valid for skewed data like insurance charges when the sample size is large?\n",
        "\n",
        "<details>\n",
        "<summary><em>Hint/Answer</em></summary>\n",
        "Due to the **Central Limit Theorem**, as sample size grows, the distribution of the *sample mean* becomes more normal, making the t-test assumptions more reasonable.\n",
        "</details>\n",
        "\n",
        "---\n",
        "\n",
        "### 8.4 Cohen’s d Interpretation\n",
        "\n",
        "**Q:** If Cohen’s d = 0.35, how would you describe the effect size, and why is this useful?\n",
        "\n",
        "<details>\n",
        "<summary><em>Hint/Answer</em></summary>\n",
        "- 0.35 lies between 0.2 and 0.5, typically indicating a **small** to **medium** effect.  \n",
        "- It’s useful because it quantifies how large the difference is in standardized units, complementing the p-value’s focus on significance.\n",
        "</details>\n",
        "\n",
        "---\n",
        "\n",
        "### 8.5 Power Analysis\n",
        "\n",
        "**Q:** Suppose we want 90% power (α=0.05) to detect a difference of 800 in <font color=\"blue\">charges</font>. List two factors that would influence the sample size calculation.\n",
        "\n",
        "<details>\n",
        "<summary><em>Hint/Answer</em></summary>\n",
        "1. The **standard deviation** of <font color=\"blue\">charges</font> (larger variability -> larger required \\(n\\)).  \n",
        "2. The **magnitude** of the difference itself (800). Smaller differences generally require bigger sample sizes to detect with the same power.\n",
        "</details>\n",
        "\n",
        "---"
      ],
      "metadata": {
        "id": "eghoPCqKNF9c"
      }
    }
  ]
}