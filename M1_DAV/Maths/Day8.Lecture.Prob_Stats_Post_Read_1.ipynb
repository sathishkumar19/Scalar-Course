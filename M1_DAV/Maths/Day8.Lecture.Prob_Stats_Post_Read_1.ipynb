{
  "nbformat": 4,
  "nbformat_minor": 0,
  "metadata": {
    "colab": {
      "provenance": []
    },
    "kernelspec": {
      "name": "python3",
      "display_name": "Python 3"
    },
    "language_info": {
      "name": "python"
    }
  },
  "cells": [
    {
      "cell_type": "markdown",
      "source": [
        "# Post Read 1: Combinatorics & Additional Probability Methods"
      ],
      "metadata": {
        "id": "e4IUGNGjohAQ"
      }
    },
    {
      "cell_type": "markdown",
      "source": [
        "## Introduction 💡\n",
        "\n",
        "Welcome to the **Post Read** material on **<font color=\"magenta\">Combinatorics</font>** and **<font color=\"blue\">Probability Methods</font>**! This self-study guide is designed to provide you with additional practice and deepen your understanding of these fundamental topics using **synthetic data** and engaging puzzles. Whether you're looking to reinforce your knowledge or tackle more challenging problems, this material has got you covered.\n"
      ],
      "metadata": {
        "id": "OBe-4PFsokag"
      }
    },
    {
      "cell_type": "markdown",
      "source": [
        "## Combinatorics Section\n",
        "\n",
        "### Understanding <font color=\"magenta\">Permutations</font> vs. <font color=\"blue\">Combinations</font>\n",
        "\n",
        "**<font color=\"magenta\">Permutations</font>** and **<font color=\"blue\">Combinations</font>** are two core concepts in combinatorics that deal with counting arrangements and selections.\n",
        "\n",
        "- **Permutations**: The number of ways to arrange **_n_** distinct objects where the order **_does matter_**.\n",
        "  \n",
        "- **Combinations**: The number of ways to select **_k_** objects from a set of **_n_** distinct objects where the order **_does not matter_**.\n",
        "\n",
        "### Key Formulas\n",
        "\n",
        "- **Permutations (Order Matters)**:\n",
        "  \n",
        "  $\n",
        "  P(n, k) = \\frac{n!}{(n - k)!}\n",
        "  $\n",
        "  \n",
        "- **Combinations (Order Doesn't Matter)**:\n",
        "  \n",
        "  $\n",
        "  C(n, k) = \\binom{n}{k} = \\frac{n!}{k!(n - k)!}\n",
        "  $\n",
        "\n",
        "### Examples\n",
        "\n",
        "#### 1. Arranging Books (<font color=\"magenta\">Permutations</font>)\n",
        "\n",
        "*Problem:*  \n",
        "You have **5 distinct books**. How many ways can you arrange **3** of them on a shelf?\n",
        "\n",
        "*Solution:*  \n",
        "Since the order matters, we use permutations.\n",
        "\n",
        "$\n",
        "P(5, 3) = \\frac{5!}{(5 - 3)!} = \\frac{120}{2} = 60 \\text{ ways}\n",
        "$\n",
        "\n",
        "#### 2. Choosing Team Members (<font color=\"blue\">Combinations</font>)\n",
        "\n",
        "*Problem:*  \n",
        "From a group of **10 students**, how many ways can you choose a **team of 4**?\n",
        "\n",
        "*Solution:*  \n",
        "Since the order doesn't matter, we use combinations.\n",
        "\n",
        "$\n",
        "C(10, 4) = \\binom{10}{4} = \\frac{10!}{4!6!} = 210 \\text{ ways}\n",
        "$"
      ],
      "metadata": {
        "id": "ihXI81Coopoi"
      }
    },
    {
      "cell_type": "code",
      "execution_count": null,
      "metadata": {
        "colab": {
          "base_uri": "https://localhost:8080/"
        },
        "id": "TFESesqmoFN8",
        "outputId": "1c6e4672-57e3-41cc-96ae-59282709cd6b"
      },
      "outputs": [
        {
          "output_type": "stream",
          "name": "stdout",
          "text": [
            "Permutations P(5, 3) = 60\n",
            "Total Permutations: 60\n",
            "Sample Permutations: [(1, 2, 3), (1, 2, 4), (1, 2, 5), (1, 3, 2), (1, 3, 4)]\n",
            "\n",
            "Combinations C(10, 4) = 210\n",
            "Total Combinations: 210\n",
            "Sample Combinations: [(1, 2, 3, 4), (1, 2, 3, 5), (1, 2, 3, 6), (1, 2, 3, 7), (1, 2, 3, 8)]\n"
          ]
        }
      ],
      "source": [
        "import math\n",
        "from itertools import permutations, combinations\n",
        "\n",
        "# Calculating Permutations\n",
        "n = 5\n",
        "k = 3\n",
        "perm = math.perm(n, k)  # Available in Python 3.10+\n",
        "print(f\"Permutations P({n}, {k}) = {perm}\")\n",
        "\n",
        "# Alternatively, using itertools.permutations\n",
        "perm_list = list(permutations(range(1, n+1), k))\n",
        "print(f\"Total Permutations: {len(perm_list)}\")\n",
        "print(\"Sample Permutations:\", perm_list[:5])  # Display first 5 permutations\n",
        "\n",
        "# Calculating Combinations\n",
        "comb = math.comb(10, 4)  # Use positional arguments\n",
        "print(f\"\\nCombinations C(10, 4) = {comb}\")\n",
        "\n",
        "# Alternatively, using itertools.combinations\n",
        "comb_list = list(combinations(range(1, 11), 4))\n",
        "print(f\"Total Combinations: {len(comb_list)}\")\n",
        "print(\"Sample Combinations:\", comb_list[:5])  # Display first 5 combinations"
      ]
    },
    {
      "cell_type": "markdown",
      "source": [
        "**Explanation:**\n",
        "\n",
        "- **`math.perm(n, k)`**: Calculates the number of **<font color=\"magenta\">permutations</font>**.\n",
        "- **`itertools.permutations()`**: Generates all possible permutation tuples.\n",
        "- **`math.comb(n, k)`**: Calculates the number of **<font color=\"blue\">combinations</font>** using positional arguments.\n",
        "- **`itertools.combinations()`**: Generates all possible combination tuples."
      ],
      "metadata": {
        "id": "sLVb89KFosQ9"
      }
    },
    {
      "cell_type": "markdown",
      "source": [
        "\n",
        "\n",
        "---\n",
        "\n",
        "\n",
        "\n",
        "## Probability Problem-Solving\n",
        "\n",
        "### Utilizing <font color=\"blue\">Tree Diagrams</font>\n",
        "\n",
        "**<font color=\"blue\">Tree Diagrams</font>** are a visual tool to map out all possible outcomes of a sequence of events, making it easier to calculate probabilities.\n",
        "\n",
        "#### Example: Rolling a Die Twice\n",
        "\n",
        "*Scenario:*  \n",
        "Calculate the probability of rolling a **6** on the first roll and an **even number** on the second roll.\n",
        "\n",
        "*Solution:*  \n",
        "1. **First Roll:** 6 (1 outcome)\n",
        "2. **Second Roll:** 2, 4, or 6 (3 outcomes)\n",
        "\n",
        "Total possible outcomes: $6 \\times 6 = 36$\n",
        "\n",
        "Favorable outcomes: $1 \\times 3 = 3$\n",
        "\n",
        "$\n",
        "P(\\text{6 on first and even on second}) = \\frac{3}{36} = \\frac{1}{12}\n",
        "$\n",
        "\n",
        "\n",
        "\n"
      ],
      "metadata": {
        "id": "UNRHKTX2ou_C"
      }
    },
    {
      "cell_type": "markdown",
      "source": [
        "[Open this link to see the tree diagram](https://d2beiqkhq929f0.cloudfront.net/public_assets/assets/000/101/934/original/tree.png)"
      ],
      "metadata": {
        "id": "qKCn43dXqkHv"
      }
    },
    {
      "cell_type": "markdown",
      "source": [
        "### Dice Example: Probability of Rolling At Least Two 6’s in Three Rolls\n",
        "\n",
        "*Problem:*  \n",
        "What is the probability of rolling **at least two 6’s** in **three** fair dice rolls?\n",
        "\n",
        "*Solution:*  \n",
        "Calculate the probability of exactly two 6’s and exactly three 6’s, then sum them.\n",
        "\n",
        "1. **Exactly Two 6’s:**\n",
        "   - Number of ways to choose which two rolls are 6: $C(3, 2) = 3$\n",
        "   - Probability for each: $(\\frac{1}{6})^2 \\times (\\frac{5}{6}) = \\frac{5}{216}$\n",
        "   - Total: $3 \\times \\frac{5}{216} = \\frac{15}{216}$\n",
        "\n",
        "2. **Exactly Three 6’s:**\n",
        "   - Only 1 way\n",
        "   - Probability: $(\\frac{1}{6})^3 = \\frac{1}{216}$\n",
        "\n",
        "$\n",
        "P(\\text{At least two 6's}) = \\frac{15}{216} + \\frac{1}{216} = \\frac{16}{216} = \\frac{2}{27}\n",
        "$"
      ],
      "metadata": {
        "id": "MmRggiRZqjj_"
      }
    },
    {
      "cell_type": "code",
      "source": [
        "import math\n",
        "\n",
        "# Total possible outcomes\n",
        "total_outcomes = 6**3\n",
        "\n",
        "# Calculating exactly two 6's\n",
        "# Number of combinations: C(3,2) = 3\n",
        "exactly_two_sixes = 3 * (1/6)**2 * (5/6)\n",
        "\n",
        "# Calculating exactly three 6's\n",
        "exactly_three_sixes = (1/6)**3\n",
        "\n",
        "# Total probability\n",
        "prob_at_least_two = exactly_two_sixes + exactly_three_sixes\n",
        "\n",
        "print(f\"Probability of at least two 6's in three rolls: {prob_at_least_two:.4f} ({prob_at_least_two*100:.2f}%)\")"
      ],
      "metadata": {
        "colab": {
          "base_uri": "https://localhost:8080/"
        },
        "id": "a_eDIme2orP4",
        "outputId": "9534a0a6-00f0-423f-fd0d-84e7f8c1e94a"
      },
      "execution_count": null,
      "outputs": [
        {
          "output_type": "stream",
          "name": "stdout",
          "text": [
            "Probability of at least two 6's in three rolls: 0.0741 (7.41%)\n"
          ]
        }
      ]
    },
    {
      "cell_type": "markdown",
      "source": [
        "**Explanation:**\n",
        "\n",
        "- **`exactly_two_sixes`**: Probability of exactly two 6’s.\n",
        "- **`exactly_three_sixes`**: Probability of exactly three 6’s.\n",
        "- **`prob_at_least_two`**: Sum of both probabilities."
      ],
      "metadata": {
        "id": "WXIUJ020pLJs"
      }
    },
    {
      "cell_type": "markdown",
      "source": [
        "## Extended Bayes’ Theorem (Advanced Problems)\n",
        "\n",
        "### Applying Bayes’ Theorem to Complex Scenarios\n",
        "\n",
        "**<font color=\"green\">Bayes’ Theorem</font>** allows us to update the probability of a hypothesis based on new evidence.\n",
        "\n",
        "#### Example: Medical Test Accuracy\n",
        "\n",
        "*Scenario:*  \n",
        "A disease affects **1%** of the population. A test for the disease has:\n",
        "- **98% sensitivity** (true positive rate)\n",
        "- **95% specificity** (true negative rate)\n",
        "\n",
        "*Question:*  \n",
        "If a randomly selected person tests **positive**, what is the probability that they actually have the disease?\n",
        "\n",
        "*Solution:*  \n",
        "Let:\n",
        "- $ D $ = Person has the disease\n",
        "- $ \\neg D $ = Person does not have the disease\n",
        "- $ T^+ $ = Test is positive\n",
        "\n",
        "Given:\n",
        "- $ P(D) = 0.01 $\n",
        "- $ P(\\neg D) = 0.99 $\n",
        "- $ P(T^+ | D) = 0.98 $ (sensitivity)\n",
        "- $ P(T^+ | \\neg D) = 1 - 0.95 = 0.05 $ (false positive rate)\n",
        "\n",
        "Using Bayes’ Theorem:\n",
        "\n",
        "$\n",
        "P(D | T^+) = \\frac{P(T^+ | D) \\cdot P(D)}{P(T^+ | D) \\cdot P(D) + P(T^+ | \\neg D) \\cdot P(\\neg D)}\n",
        "$\n",
        "\n",
        "$\n",
        "P(D | T^+) = \\frac{0.98 \\times 0.01}{0.98 \\times 0.01 + 0.05 \\times 0.99} = \\frac{0.0098}{0.0098 + 0.0495} \\approx \\frac{0.0098}{0.0593} \\approx 0.165\n",
        "$\n",
        "\n",
        "$\n",
        "P(D | T^+) \\approx 16.5\\%\n",
        "$\n",
        "\n",
        "**Interpretation:**  \n",
        "Even with a positive test result, there's only a **16.5%** chance the person actually has the disease due to the low prevalence and false positive rate."
      ],
      "metadata": {
        "id": "qsfuvXjSpNSq"
      }
    },
    {
      "cell_type": "code",
      "source": [
        "# Given probabilities\n",
        "P_D = 0.01  # Probability of having the disease\n",
        "P_not_D = 1 - P_D\n",
        "\n",
        "P_T_given_D = 0.98  # Sensitivity\n",
        "P_T_given_not_D = 0.05  # False positive rate\n",
        "\n",
        "# Applying Bayes' Theorem\n",
        "P_D_given_T = (P_T_given_D * P_D) / (P_T_given_D * P_D + P_T_given_not_D * P_not_D)\n",
        "\n",
        "print(f\"Probability of having the disease given a positive test: {P_D_given_T:.4f} ({P_D_given_T*100:.2f}%)\")"
      ],
      "metadata": {
        "colab": {
          "base_uri": "https://localhost:8080/"
        },
        "id": "sFvbQJjopJbC",
        "outputId": "a44ee7d7-0a27-4945-b34e-e1bb00a487ad"
      },
      "execution_count": null,
      "outputs": [
        {
          "output_type": "stream",
          "name": "stdout",
          "text": [
            "Probability of having the disease given a positive test: 0.1653 (16.53%)\n"
          ]
        }
      ]
    },
    {
      "cell_type": "markdown",
      "source": [
        "**Explanation:**\n",
        "\n",
        "- **Numerator**: Probability of true positive.\n",
        "- **Denominator**: Total probability of testing positive (true positives + false positives).\n",
        "- **Result**: Updated probability after observing a positive test.\n"
      ],
      "metadata": {
        "id": "ZHp4RjwapQhI"
      }
    },
    {
      "cell_type": "markdown",
      "source": [
        "## Practice Questions & Hints 🔍\n",
        "\n",
        "### Combinatorics\n",
        "\n",
        "1. **Permutations Problem:**\n",
        "   \n",
        "   *Question:*  \n",
        "   How many different 4-letter codes can be formed using the letters A, B, C, D, E without repetition?\n",
        "\n",
        "   *Hint:*  \n",
        "   Use the permutation formula $ P(n, k) $.\n",
        "\n",
        "2. **Combinations Problem:**\n",
        "   \n",
        "   *Question:*  \n",
        "   From a deck of 12 cards, how many ways can you select 5 cards?\n",
        "\n",
        "   *Hint:*  \n",
        "   Use the combination formula $ C(n, k) $.\n",
        "\n",
        "### Probability\n",
        "\n",
        "3. **Tree Diagram Challenge:**\n",
        "   \n",
        "   *Question:*  \n",
        "   A coin is flipped twice. What is the probability of getting at least one head?\n",
        "\n",
        "   *Hint:*  \n",
        "   Calculate the complement probability (no heads) and subtract from 1.\n",
        "\n",
        "4. **Dice Puzzle:**\n",
        "   \n",
        "   *Question:*  \n",
        "   What is the probability of rolling a sum of 8 with two six-sided dice?\n",
        "\n",
        "   *Hint:*  \n",
        "   List all possible outcomes that sum to 8 and divide by total outcomes.\n",
        "\n",
        "### Bayes’ Theorem\n",
        "\n",
        "5. **Advanced Scenario:**\n",
        "   \n",
        "   *Question:*  \n",
        "   In a population, 2% have a particular trait. A test for the trait has a 90% true positive rate and a 10% false positive rate. If a person tests positive, what is the probability they have the trait?\n",
        "\n",
        "   *Hint:*  \n",
        "   Apply Bayes’ Theorem with the given probabilities.\n",
        "\n",
        "   ---"
      ],
      "metadata": {
        "id": "-m3ehIDGpTKO"
      }
    }
  ]
}