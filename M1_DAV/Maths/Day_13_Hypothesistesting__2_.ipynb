{
  "nbformat": 4,
  "nbformat_minor": 0,
  "metadata": {
    "colab": {
      "provenance": []
    },
    "kernelspec": {
      "name": "python3",
      "display_name": "Python 3"
    },
    "language_info": {
      "name": "python"
    }
  },
  "cells": [
    {
      "cell_type": "code",
      "execution_count": null,
      "metadata": {
        "id": "MpQuZ0gXa0mT"
      },
      "outputs": [],
      "source": []
    },
    {
      "cell_type": "code",
      "execution_count": 1,
      "metadata": {
        "colab": {
          "base_uri": "https://localhost:8080/"
        },
        "collapsed": true,
        "id": "D-Q5BRM9-Fw5",
        "outputId": "b937f157-2a4f-460f-8c69-e0e943dbb462"
      },
      "outputs": [
        {
          "output_type": "stream",
          "name": "stdout",
          "text": [
            "--2025-03-19 13:59:40--  https://d2beiqkhq929f0.cloudfront.net/public_assets/assets/000/102/634/original/medical_cost.zip\n",
            "Resolving d2beiqkhq929f0.cloudfront.net (d2beiqkhq929f0.cloudfront.net)... 3.167.84.148, 3.167.84.196, 3.167.84.9, ...\n",
            "Connecting to d2beiqkhq929f0.cloudfront.net (d2beiqkhq929f0.cloudfront.net)|3.167.84.148|:443... connected.\n",
            "HTTP request sent, awaiting response... 200 OK\n",
            "Length: 16425 (16K) [application/zip]\n",
            "Saving to: ‘medical_cost.zip’\n",
            "\n",
            "\rmedical_cost.zip      0%[                    ]       0  --.-KB/s               \rmedical_cost.zip    100%[===================>]  16.04K  --.-KB/s    in 0s      \n",
            "\n",
            "2025-03-19 13:59:40 (128 MB/s) - ‘medical_cost.zip’ saved [16425/16425]\n",
            "\n"
          ]
        }
      ],
      "source": [
        "!wget https://d2beiqkhq929f0.cloudfront.net/public_assets/assets/000/102/634/original/medical_cost.zip"
      ]
    },
    {
      "cell_type": "code",
      "source": [
        "!unzip medical_cost.zip"
      ],
      "metadata": {
        "colab": {
          "base_uri": "https://localhost:8080/"
        },
        "id": "cRYp4vS1bRLz",
        "outputId": "9bf1ea05-ab04-431e-bd07-269f56ccad6b"
      },
      "execution_count": 2,
      "outputs": [
        {
          "output_type": "stream",
          "name": "stdout",
          "text": [
            "Archive:  medical_cost.zip\n",
            "  inflating: insurance.csv           \n"
          ]
        }
      ]
    },
    {
      "cell_type": "code",
      "source": [
        "import pandas as pd\n",
        "\n",
        "df = pd.read_csv('insurance.csv')\n",
        "df.head()"
      ],
      "metadata": {
        "colab": {
          "base_uri": "https://localhost:8080/",
          "height": 206
        },
        "id": "KSuDhsSIbU9O",
        "outputId": "41e67e0f-134a-44d9-dfe1-84e254eaf6e9"
      },
      "execution_count": 3,
      "outputs": [
        {
          "output_type": "execute_result",
          "data": {
            "text/plain": [
              "   age     sex     bmi  children smoker     region      charges\n",
              "0   19  female  27.900         0    yes  southwest  16884.92400\n",
              "1   18    male  33.770         1     no  southeast   1725.55230\n",
              "2   28    male  33.000         3     no  southeast   4449.46200\n",
              "3   33    male  22.705         0     no  northwest  21984.47061\n",
              "4   32    male  28.880         0     no  northwest   3866.85520"
            ],
            "text/html": [
              "\n",
              "  <div id=\"df-f55386c0-d6bd-4d41-a2b8-1c7c647a0c9d\" class=\"colab-df-container\">\n",
              "    <div>\n",
              "<style scoped>\n",
              "    .dataframe tbody tr th:only-of-type {\n",
              "        vertical-align: middle;\n",
              "    }\n",
              "\n",
              "    .dataframe tbody tr th {\n",
              "        vertical-align: top;\n",
              "    }\n",
              "\n",
              "    .dataframe thead th {\n",
              "        text-align: right;\n",
              "    }\n",
              "</style>\n",
              "<table border=\"1\" class=\"dataframe\">\n",
              "  <thead>\n",
              "    <tr style=\"text-align: right;\">\n",
              "      <th></th>\n",
              "      <th>age</th>\n",
              "      <th>sex</th>\n",
              "      <th>bmi</th>\n",
              "      <th>children</th>\n",
              "      <th>smoker</th>\n",
              "      <th>region</th>\n",
              "      <th>charges</th>\n",
              "    </tr>\n",
              "  </thead>\n",
              "  <tbody>\n",
              "    <tr>\n",
              "      <th>0</th>\n",
              "      <td>19</td>\n",
              "      <td>female</td>\n",
              "      <td>27.900</td>\n",
              "      <td>0</td>\n",
              "      <td>yes</td>\n",
              "      <td>southwest</td>\n",
              "      <td>16884.92400</td>\n",
              "    </tr>\n",
              "    <tr>\n",
              "      <th>1</th>\n",
              "      <td>18</td>\n",
              "      <td>male</td>\n",
              "      <td>33.770</td>\n",
              "      <td>1</td>\n",
              "      <td>no</td>\n",
              "      <td>southeast</td>\n",
              "      <td>1725.55230</td>\n",
              "    </tr>\n",
              "    <tr>\n",
              "      <th>2</th>\n",
              "      <td>28</td>\n",
              "      <td>male</td>\n",
              "      <td>33.000</td>\n",
              "      <td>3</td>\n",
              "      <td>no</td>\n",
              "      <td>southeast</td>\n",
              "      <td>4449.46200</td>\n",
              "    </tr>\n",
              "    <tr>\n",
              "      <th>3</th>\n",
              "      <td>33</td>\n",
              "      <td>male</td>\n",
              "      <td>22.705</td>\n",
              "      <td>0</td>\n",
              "      <td>no</td>\n",
              "      <td>northwest</td>\n",
              "      <td>21984.47061</td>\n",
              "    </tr>\n",
              "    <tr>\n",
              "      <th>4</th>\n",
              "      <td>32</td>\n",
              "      <td>male</td>\n",
              "      <td>28.880</td>\n",
              "      <td>0</td>\n",
              "      <td>no</td>\n",
              "      <td>northwest</td>\n",
              "      <td>3866.85520</td>\n",
              "    </tr>\n",
              "  </tbody>\n",
              "</table>\n",
              "</div>\n",
              "    <div class=\"colab-df-buttons\">\n",
              "\n",
              "  <div class=\"colab-df-container\">\n",
              "    <button class=\"colab-df-convert\" onclick=\"convertToInteractive('df-f55386c0-d6bd-4d41-a2b8-1c7c647a0c9d')\"\n",
              "            title=\"Convert this dataframe to an interactive table.\"\n",
              "            style=\"display:none;\">\n",
              "\n",
              "  <svg xmlns=\"http://www.w3.org/2000/svg\" height=\"24px\" viewBox=\"0 -960 960 960\">\n",
              "    <path d=\"M120-120v-720h720v720H120Zm60-500h600v-160H180v160Zm220 220h160v-160H400v160Zm0 220h160v-160H400v160ZM180-400h160v-160H180v160Zm440 0h160v-160H620v160ZM180-180h160v-160H180v160Zm440 0h160v-160H620v160Z\"/>\n",
              "  </svg>\n",
              "    </button>\n",
              "\n",
              "  <style>\n",
              "    .colab-df-container {\n",
              "      display:flex;\n",
              "      gap: 12px;\n",
              "    }\n",
              "\n",
              "    .colab-df-convert {\n",
              "      background-color: #E8F0FE;\n",
              "      border: none;\n",
              "      border-radius: 50%;\n",
              "      cursor: pointer;\n",
              "      display: none;\n",
              "      fill: #1967D2;\n",
              "      height: 32px;\n",
              "      padding: 0 0 0 0;\n",
              "      width: 32px;\n",
              "    }\n",
              "\n",
              "    .colab-df-convert:hover {\n",
              "      background-color: #E2EBFA;\n",
              "      box-shadow: 0px 1px 2px rgba(60, 64, 67, 0.3), 0px 1px 3px 1px rgba(60, 64, 67, 0.15);\n",
              "      fill: #174EA6;\n",
              "    }\n",
              "\n",
              "    .colab-df-buttons div {\n",
              "      margin-bottom: 4px;\n",
              "    }\n",
              "\n",
              "    [theme=dark] .colab-df-convert {\n",
              "      background-color: #3B4455;\n",
              "      fill: #D2E3FC;\n",
              "    }\n",
              "\n",
              "    [theme=dark] .colab-df-convert:hover {\n",
              "      background-color: #434B5C;\n",
              "      box-shadow: 0px 1px 3px 1px rgba(0, 0, 0, 0.15);\n",
              "      filter: drop-shadow(0px 1px 2px rgba(0, 0, 0, 0.3));\n",
              "      fill: #FFFFFF;\n",
              "    }\n",
              "  </style>\n",
              "\n",
              "    <script>\n",
              "      const buttonEl =\n",
              "        document.querySelector('#df-f55386c0-d6bd-4d41-a2b8-1c7c647a0c9d button.colab-df-convert');\n",
              "      buttonEl.style.display =\n",
              "        google.colab.kernel.accessAllowed ? 'block' : 'none';\n",
              "\n",
              "      async function convertToInteractive(key) {\n",
              "        const element = document.querySelector('#df-f55386c0-d6bd-4d41-a2b8-1c7c647a0c9d');\n",
              "        const dataTable =\n",
              "          await google.colab.kernel.invokeFunction('convertToInteractive',\n",
              "                                                    [key], {});\n",
              "        if (!dataTable) return;\n",
              "\n",
              "        const docLinkHtml = 'Like what you see? Visit the ' +\n",
              "          '<a target=\"_blank\" href=https://colab.research.google.com/notebooks/data_table.ipynb>data table notebook</a>'\n",
              "          + ' to learn more about interactive tables.';\n",
              "        element.innerHTML = '';\n",
              "        dataTable['output_type'] = 'display_data';\n",
              "        await google.colab.output.renderOutput(dataTable, element);\n",
              "        const docLink = document.createElement('div');\n",
              "        docLink.innerHTML = docLinkHtml;\n",
              "        element.appendChild(docLink);\n",
              "      }\n",
              "    </script>\n",
              "  </div>\n",
              "\n",
              "\n",
              "<div id=\"df-fd729945-383d-4943-a8f7-a07ea22b1f07\">\n",
              "  <button class=\"colab-df-quickchart\" onclick=\"quickchart('df-fd729945-383d-4943-a8f7-a07ea22b1f07')\"\n",
              "            title=\"Suggest charts\"\n",
              "            style=\"display:none;\">\n",
              "\n",
              "<svg xmlns=\"http://www.w3.org/2000/svg\" height=\"24px\"viewBox=\"0 0 24 24\"\n",
              "     width=\"24px\">\n",
              "    <g>\n",
              "        <path d=\"M19 3H5c-1.1 0-2 .9-2 2v14c0 1.1.9 2 2 2h14c1.1 0 2-.9 2-2V5c0-1.1-.9-2-2-2zM9 17H7v-7h2v7zm4 0h-2V7h2v10zm4 0h-2v-4h2v4z\"/>\n",
              "    </g>\n",
              "</svg>\n",
              "  </button>\n",
              "\n",
              "<style>\n",
              "  .colab-df-quickchart {\n",
              "      --bg-color: #E8F0FE;\n",
              "      --fill-color: #1967D2;\n",
              "      --hover-bg-color: #E2EBFA;\n",
              "      --hover-fill-color: #174EA6;\n",
              "      --disabled-fill-color: #AAA;\n",
              "      --disabled-bg-color: #DDD;\n",
              "  }\n",
              "\n",
              "  [theme=dark] .colab-df-quickchart {\n",
              "      --bg-color: #3B4455;\n",
              "      --fill-color: #D2E3FC;\n",
              "      --hover-bg-color: #434B5C;\n",
              "      --hover-fill-color: #FFFFFF;\n",
              "      --disabled-bg-color: #3B4455;\n",
              "      --disabled-fill-color: #666;\n",
              "  }\n",
              "\n",
              "  .colab-df-quickchart {\n",
              "    background-color: var(--bg-color);\n",
              "    border: none;\n",
              "    border-radius: 50%;\n",
              "    cursor: pointer;\n",
              "    display: none;\n",
              "    fill: var(--fill-color);\n",
              "    height: 32px;\n",
              "    padding: 0;\n",
              "    width: 32px;\n",
              "  }\n",
              "\n",
              "  .colab-df-quickchart:hover {\n",
              "    background-color: var(--hover-bg-color);\n",
              "    box-shadow: 0 1px 2px rgba(60, 64, 67, 0.3), 0 1px 3px 1px rgba(60, 64, 67, 0.15);\n",
              "    fill: var(--button-hover-fill-color);\n",
              "  }\n",
              "\n",
              "  .colab-df-quickchart-complete:disabled,\n",
              "  .colab-df-quickchart-complete:disabled:hover {\n",
              "    background-color: var(--disabled-bg-color);\n",
              "    fill: var(--disabled-fill-color);\n",
              "    box-shadow: none;\n",
              "  }\n",
              "\n",
              "  .colab-df-spinner {\n",
              "    border: 2px solid var(--fill-color);\n",
              "    border-color: transparent;\n",
              "    border-bottom-color: var(--fill-color);\n",
              "    animation:\n",
              "      spin 1s steps(1) infinite;\n",
              "  }\n",
              "\n",
              "  @keyframes spin {\n",
              "    0% {\n",
              "      border-color: transparent;\n",
              "      border-bottom-color: var(--fill-color);\n",
              "      border-left-color: var(--fill-color);\n",
              "    }\n",
              "    20% {\n",
              "      border-color: transparent;\n",
              "      border-left-color: var(--fill-color);\n",
              "      border-top-color: var(--fill-color);\n",
              "    }\n",
              "    30% {\n",
              "      border-color: transparent;\n",
              "      border-left-color: var(--fill-color);\n",
              "      border-top-color: var(--fill-color);\n",
              "      border-right-color: var(--fill-color);\n",
              "    }\n",
              "    40% {\n",
              "      border-color: transparent;\n",
              "      border-right-color: var(--fill-color);\n",
              "      border-top-color: var(--fill-color);\n",
              "    }\n",
              "    60% {\n",
              "      border-color: transparent;\n",
              "      border-right-color: var(--fill-color);\n",
              "    }\n",
              "    80% {\n",
              "      border-color: transparent;\n",
              "      border-right-color: var(--fill-color);\n",
              "      border-bottom-color: var(--fill-color);\n",
              "    }\n",
              "    90% {\n",
              "      border-color: transparent;\n",
              "      border-bottom-color: var(--fill-color);\n",
              "    }\n",
              "  }\n",
              "</style>\n",
              "\n",
              "  <script>\n",
              "    async function quickchart(key) {\n",
              "      const quickchartButtonEl =\n",
              "        document.querySelector('#' + key + ' button');\n",
              "      quickchartButtonEl.disabled = true;  // To prevent multiple clicks.\n",
              "      quickchartButtonEl.classList.add('colab-df-spinner');\n",
              "      try {\n",
              "        const charts = await google.colab.kernel.invokeFunction(\n",
              "            'suggestCharts', [key], {});\n",
              "      } catch (error) {\n",
              "        console.error('Error during call to suggestCharts:', error);\n",
              "      }\n",
              "      quickchartButtonEl.classList.remove('colab-df-spinner');\n",
              "      quickchartButtonEl.classList.add('colab-df-quickchart-complete');\n",
              "    }\n",
              "    (() => {\n",
              "      let quickchartButtonEl =\n",
              "        document.querySelector('#df-fd729945-383d-4943-a8f7-a07ea22b1f07 button');\n",
              "      quickchartButtonEl.style.display =\n",
              "        google.colab.kernel.accessAllowed ? 'block' : 'none';\n",
              "    })();\n",
              "  </script>\n",
              "</div>\n",
              "\n",
              "    </div>\n",
              "  </div>\n"
            ],
            "application/vnd.google.colaboratory.intrinsic+json": {
              "type": "dataframe",
              "variable_name": "df",
              "summary": "{\n  \"name\": \"df\",\n  \"rows\": 1338,\n  \"fields\": [\n    {\n      \"column\": \"age\",\n      \"properties\": {\n        \"dtype\": \"number\",\n        \"std\": 14,\n        \"min\": 18,\n        \"max\": 64,\n        \"num_unique_values\": 47,\n        \"samples\": [\n          21,\n          45,\n          36\n        ],\n        \"semantic_type\": \"\",\n        \"description\": \"\"\n      }\n    },\n    {\n      \"column\": \"sex\",\n      \"properties\": {\n        \"dtype\": \"category\",\n        \"num_unique_values\": 2,\n        \"samples\": [\n          \"male\",\n          \"female\"\n        ],\n        \"semantic_type\": \"\",\n        \"description\": \"\"\n      }\n    },\n    {\n      \"column\": \"bmi\",\n      \"properties\": {\n        \"dtype\": \"number\",\n        \"std\": 6.098186911679017,\n        \"min\": 15.96,\n        \"max\": 53.13,\n        \"num_unique_values\": 548,\n        \"samples\": [\n          23.18,\n          26.885\n        ],\n        \"semantic_type\": \"\",\n        \"description\": \"\"\n      }\n    },\n    {\n      \"column\": \"children\",\n      \"properties\": {\n        \"dtype\": \"number\",\n        \"std\": 1,\n        \"min\": 0,\n        \"max\": 5,\n        \"num_unique_values\": 6,\n        \"samples\": [\n          0,\n          1\n        ],\n        \"semantic_type\": \"\",\n        \"description\": \"\"\n      }\n    },\n    {\n      \"column\": \"smoker\",\n      \"properties\": {\n        \"dtype\": \"category\",\n        \"num_unique_values\": 2,\n        \"samples\": [\n          \"no\",\n          \"yes\"\n        ],\n        \"semantic_type\": \"\",\n        \"description\": \"\"\n      }\n    },\n    {\n      \"column\": \"region\",\n      \"properties\": {\n        \"dtype\": \"category\",\n        \"num_unique_values\": 4,\n        \"samples\": [\n          \"southeast\",\n          \"northeast\"\n        ],\n        \"semantic_type\": \"\",\n        \"description\": \"\"\n      }\n    },\n    {\n      \"column\": \"charges\",\n      \"properties\": {\n        \"dtype\": \"number\",\n        \"std\": 12110.011236693994,\n        \"min\": 1121.8739,\n        \"max\": 63770.42801,\n        \"num_unique_values\": 1337,\n        \"samples\": [\n          8688.85885,\n          5708.867\n        ],\n        \"semantic_type\": \"\",\n        \"description\": \"\"\n      }\n    }\n  ]\n}"
            }
          },
          "metadata": {},
          "execution_count": 3
        }
      ]
    },
    {
      "cell_type": "code",
      "source": [
        "# h0 : medical charges are less than or equal to 13000\n",
        "# ha : The medical charges are greater than 13000\n",
        "# confidence level - 95%\n",
        "# signifincace - alpha 0.05"
      ],
      "metadata": {
        "id": "HzkahrpG_sE3"
      },
      "execution_count": 4,
      "outputs": []
    },
    {
      "cell_type": "code",
      "source": [
        "import numpy as np\n",
        "from scipy import stats\n",
        "\n",
        "# Calculate sample mean, standard deviation, and sample size\n",
        "sample_mean = df['charges'].mean()\n",
        "sample_std = df['charges'].std()\n",
        "n = df.shape[0]\n",
        "\n",
        "print(\"sample mean:\", sample_mean)"
      ],
      "metadata": {
        "colab": {
          "base_uri": "https://localhost:8080/"
        },
        "id": "NgRyvTRzALeM",
        "outputId": "0ad7d6df-2edf-48ad-86e3-99f14dfc10d6"
      },
      "execution_count": 5,
      "outputs": [
        {
          "output_type": "stream",
          "name": "stdout",
          "text": [
            "sample mean: 13270.422265141257\n"
          ]
        }
      ]
    },
    {
      "cell_type": "code",
      "source": [
        "sample_std"
      ],
      "metadata": {
        "colab": {
          "base_uri": "https://localhost:8080/"
        },
        "id": "0fpR81zKq7mQ",
        "outputId": "567dfad9-c6d5-4ee1-8930-5517bead1f03"
      },
      "execution_count": 6,
      "outputs": [
        {
          "output_type": "execute_result",
          "data": {
            "text/plain": [
              "12110.011236693994"
            ]
          },
          "metadata": {},
          "execution_count": 6
        }
      ]
    },
    {
      "cell_type": "code",
      "source": [
        "# Null : The avg treatment cost is equal to 13000\n",
        "# Alternate Hypothesis : The avg treatment cose is not equal to 130000"
      ],
      "metadata": {
        "id": "twwa8Dm_nNdI"
      },
      "execution_count": 7,
      "outputs": []
    },
    {
      "cell_type": "code",
      "source": [
        "# Hypothesized population mean\n",
        "mu_0 = 13000\n",
        "\n",
        "# Calculate standard error\n",
        "standard_error = sample_std / np.sqrt(n)\n",
        "\n",
        "# Calculate Z statistic\n",
        "z = (sample_mean - mu_0) / standard_error\n",
        "\n",
        "print(f\"Z-Statistic: {z:.4f}\")"
      ],
      "metadata": {
        "colab": {
          "base_uri": "https://localhost:8080/"
        },
        "id": "_jpmPFKpATQo",
        "outputId": "0793d74f-2d8c-4959-bd66-191687b701e4"
      },
      "execution_count": 8,
      "outputs": [
        {
          "output_type": "stream",
          "name": "stdout",
          "text": [
            "Z-Statistic: 0.8168\n"
          ]
        }
      ]
    },
    {
      "cell_type": "code",
      "source": [
        "standard_error"
      ],
      "metadata": {
        "colab": {
          "base_uri": "https://localhost:8080/"
        },
        "id": "9nLmgPRnrAlI",
        "outputId": "36db1eb9-80ef-4d21-c072-d8b5774be47e"
      },
      "execution_count": 9,
      "outputs": [
        {
          "output_type": "execute_result",
          "data": {
            "text/plain": [
              "np.float64(331.06745431568226)"
            ]
          },
          "metadata": {},
          "execution_count": 9
        }
      ]
    },
    {
      "cell_type": "code",
      "source": [
        "# Calculate p-value for two-tailed test\n",
        "p_value = 2 * (1 - stats.norm.cdf(abs(z)))\n",
        "print(f\"P-Value: {p_value:.4f}\")"
      ],
      "metadata": {
        "colab": {
          "base_uri": "https://localhost:8080/"
        },
        "id": "ZXLdCRfBBIUI",
        "outputId": "2815e0a6-0449-4393-df1c-5fd7d623a52d"
      },
      "execution_count": 10,
      "outputs": [
        {
          "output_type": "stream",
          "name": "stdout",
          "text": [
            "P-Value: 0.4140\n"
          ]
        }
      ]
    },
    {
      "cell_type": "code",
      "source": [
        "# Define confidence level\n",
        "confidence_level = 0.95\n",
        "\n",
        "# Calculate the standard error\n",
        "standard_error = sample_std / np.sqrt(n)\n",
        "\n",
        "# Determine the critical value for 95% confidence\n",
        "z_critical = stats.norm.ppf((1 + confidence_level) / 2)\n",
        "\n",
        "# Calculate the margin of error\n",
        "margin_of_error = z_critical * standard_error\n",
        "\n",
        "# Determine the confidence interval\n",
        "ci_lower = sample_mean - margin_of_error\n",
        "ci_upper = sample_mean + margin_of_error"
      ],
      "metadata": {
        "id": "yJSOXdpNsgQw"
      },
      "execution_count": 11,
      "outputs": []
    },
    {
      "cell_type": "code",
      "source": [
        "print(f\"95% Confidence Interval for Mean Charges: (${ci_lower:.2f}, ${ci_upper:.2f})\")"
      ],
      "metadata": {
        "colab": {
          "base_uri": "https://localhost:8080/"
        },
        "id": "DmRuVdzqsnqw",
        "outputId": "3bb83f9f-c597-4631-faaa-84dcc6b90f4b"
      },
      "execution_count": 12,
      "outputs": [
        {
          "output_type": "stream",
          "name": "stdout",
          "text": [
            "95% Confidence Interval for Mean Charges: ($12621.54, $13919.30)\n"
          ]
        }
      ]
    },
    {
      "cell_type": "code",
      "source": [
        "# Filter the dataset for individuals with BMI > 30\n",
        "df_bmi_over_30 = df[df['bmi'] > 30]"
      ],
      "metadata": {
        "id": "ytw7xa9Vspuh"
      },
      "execution_count": 13,
      "outputs": []
    },
    {
      "cell_type": "code",
      "source": [
        "# 4. Calculate sample mean, standard deviation, and sample size\n",
        "sample_mean_bmi = df_bmi_over_30['charges'].mean()\n",
        "sample_std_bmi = df_bmi_over_30['charges'].std()\n",
        "n_bmi = df_bmi_over_30.shape[0]\n",
        "\n",
        "print(f\"Sample Mean (𝑥̄): ${sample_mean_bmi:.2f}\")\n",
        "print(f\"Sample Standard Deviation (s): ${sample_std_bmi:.2f}\")\n",
        "print(f\"Sample Size (n): {n_bmi}\")"
      ],
      "metadata": {
        "colab": {
          "base_uri": "https://localhost:8080/"
        },
        "id": "sKjsSs0syCnN",
        "outputId": "6a9e3d74-a3cb-44d1-f2e8-47bd8c2654b8"
      },
      "execution_count": 14,
      "outputs": [
        {
          "output_type": "stream",
          "name": "stdout",
          "text": [
            "Sample Mean (𝑥̄): $15560.93\n",
            "Sample Standard Deviation (s): $14563.06\n",
            "Sample Size (n): 705\n"
          ]
        }
      ]
    },
    {
      "cell_type": "code",
      "source": [
        "mu_0 = 13000\n",
        "\n",
        "# Calculate standard error\n",
        "standard_error_bmi = sample_std_bmi / np.sqrt(n_bmi)\n",
        "\n",
        "# Calculate Z statistic\n",
        "z_bmi = (sample_mean_bmi - mu_0) / standard_error_bmi\n",
        "\n",
        "print(f\"Z-Statistic: {z_bmi:.4f}\")"
      ],
      "metadata": {
        "colab": {
          "base_uri": "https://localhost:8080/"
        },
        "id": "Gm38NIb3yVRG",
        "outputId": "d807e2bb-c7af-473e-9de6-bfba5cb9522c"
      },
      "execution_count": 15,
      "outputs": [
        {
          "output_type": "stream",
          "name": "stdout",
          "text": [
            "Z-Statistic: 4.6692\n"
          ]
        }
      ]
    },
    {
      "cell_type": "code",
      "source": [
        "p_value_bmi = 2 * (1 - stats.norm.cdf(abs(z_bmi)))\n",
        "print(f\"P-Value: {p_value_bmi:.4f}\")"
      ],
      "metadata": {
        "colab": {
          "base_uri": "https://localhost:8080/"
        },
        "id": "R3ic-f2oyd8N",
        "outputId": "a3df7e1b-f6d5-458e-ca09-f997268b1cb7"
      },
      "execution_count": 16,
      "outputs": [
        {
          "output_type": "stream",
          "name": "stdout",
          "text": [
            "P-Value: 0.0000\n"
          ]
        }
      ]
    },
    {
      "cell_type": "code",
      "source": [
        "# Confidecne is 95%\n",
        "# if Pvalue <= 0.05, reject null hypothesis ( ha)\n",
        "# if pvalue >0.05 fail to reject the null hypothesis\n"
      ],
      "metadata": {
        "id": "xlkl5t5v0MUT"
      },
      "execution_count": 17,
      "outputs": []
    },
    {
      "cell_type": "code",
      "source": [
        "# Separate smokers and non-smokers\n",
        "smokers = df[df['smoker'] == 'yes']['charges']\n",
        "non_smokers = df[df['smoker'] == 'no']['charges']"
      ],
      "metadata": {
        "id": "fM768Yo00nXT"
      },
      "execution_count": 18,
      "outputs": []
    },
    {
      "cell_type": "code",
      "source": [
        "mean_smokers = smokers.mean()\n",
        "std_smokers = smokers.std()\n",
        "n_smokers = smokers.shape[0]\n",
        "\n",
        "mean_non_smokers = non_smokers.mean()\n",
        "std_non_smokers = non_smokers.std()\n",
        "n_non_smokers = non_smokers.shape[0]\n",
        "\n",
        "print(f\"Smokers - Mean: ${mean_smokers:.2f}, Std Dev: ${std_smokers:.2f}, Sample Size: {n_smokers}\")\n",
        "print(f\"Non-Smokers - Mean: ${mean_non_smokers:.2f}, Std Dev: ${std_non_smokers:.2f}, Sample Size: {n_non_smokers}\")"
      ],
      "metadata": {
        "colab": {
          "base_uri": "https://localhost:8080/"
        },
        "id": "Mfn3e_Qg2ncz",
        "outputId": "0a10cbbd-dacc-4f49-ad83-1bd8ae1166c2"
      },
      "execution_count": 19,
      "outputs": [
        {
          "output_type": "stream",
          "name": "stdout",
          "text": [
            "Smokers - Mean: $32050.23, Std Dev: $11541.55, Sample Size: 274\n",
            "Non-Smokers - Mean: $8434.27, Std Dev: $5993.78, Sample Size: 1064\n"
          ]
        }
      ]
    },
    {
      "cell_type": "markdown",
      "source": [],
      "metadata": {
        "id": "edZD9Rya5m0S"
      }
    },
    {
      "cell_type": "code",
      "source": [
        "standard_error = np.sqrt((std_smokers**2) / n_smokers + (std_non_smokers**2) / n_non_smokers)\n",
        "\n",
        "# Calculate Z statistic\n",
        "z = (mean_smokers - mean_non_smokers) / standard_error\n",
        "\n",
        "print(f\"Z-Statistic: {z:.4f}\")"
      ],
      "metadata": {
        "colab": {
          "base_uri": "https://localhost:8080/"
        },
        "id": "UEMZVdyk23hj",
        "outputId": "f3fce580-622c-43d6-be08-ca28620f1425"
      },
      "execution_count": 20,
      "outputs": [
        {
          "output_type": "stream",
          "name": "stdout",
          "text": [
            "Z-Statistic: 32.7519\n"
          ]
        }
      ]
    },
    {
      "cell_type": "code",
      "source": [
        "# Calculate p-value for one-tailed test\n",
        "p_value = 1 - stats.norm.cdf(z)\n",
        "print(f\"P-Value: {p_value:.4f}\")"
      ],
      "metadata": {
        "colab": {
          "base_uri": "https://localhost:8080/"
        },
        "id": "zIjJRUsn5vJU",
        "outputId": "cbd3cb80-bade-4e4f-c036-d7bdeebdb652"
      },
      "execution_count": 21,
      "outputs": [
        {
          "output_type": "stream",
          "name": "stdout",
          "text": [
            "P-Value: 0.0000\n"
          ]
        }
      ]
    },
    {
      "cell_type": "code",
      "source": [
        "# Separate the dataset into smokers and non-smokers based on the 'smoker' column\n",
        "smokers = df[df['smoker'] == 'yes']['charges']\n",
        "non_smokers = df[df['smoker'] == 'no']['charges']\n",
        "\n",
        "# Display basic statistics for both groups\n",
        "print(\"Smokers - Charges Statistics:\")\n",
        "print(smokers.describe())\n",
        "print(\"\\nNon-Smokers - Charges Statistics:\")\n",
        "print(non_smokers.describe())"
      ],
      "metadata": {
        "colab": {
          "base_uri": "https://localhost:8080/"
        },
        "id": "ea4iox1V51qN",
        "outputId": "23e8e628-8fc6-4e5d-eb79-9622929bd177"
      },
      "execution_count": 22,
      "outputs": [
        {
          "output_type": "stream",
          "name": "stdout",
          "text": [
            "Smokers - Charges Statistics:\n",
            "count      274.000000\n",
            "mean     32050.231832\n",
            "std      11541.547176\n",
            "min      12829.455100\n",
            "25%      20826.244213\n",
            "50%      34456.348450\n",
            "75%      41019.207275\n",
            "max      63770.428010\n",
            "Name: charges, dtype: float64\n",
            "\n",
            "Non-Smokers - Charges Statistics:\n",
            "count     1064.000000\n",
            "mean      8434.268298\n",
            "std       5993.781819\n",
            "min       1121.873900\n",
            "25%       3986.438700\n",
            "50%       7345.405300\n",
            "75%      11362.887050\n",
            "max      36910.608030\n",
            "Name: charges, dtype: float64\n"
          ]
        }
      ]
    },
    {
      "cell_type": "code",
      "source": [
        "import numpy as np\n",
        "from scipy import stats\n",
        "import matplotlib.pyplot as plt\n",
        "import seaborn as sns\n",
        "\n",
        "## Visualizing the Difference in Medical Charges\n",
        "\n",
        "# Box Plot\n",
        "plt.figure(figsize=(10, 6))\n",
        "sns.boxplot(x='smoker', y='charges', data=df, palette=\"Set2\")\n",
        "plt.title('Box Plot of Medical Charges by Smoking Status')\n",
        "plt.xlabel('Smoker')\n",
        "plt.ylabel('Charges')\n",
        "plt.show()\n",
        "\n",
        "# Histogram\n",
        "plt.figure(figsize=(12, 5))\n",
        "\n",
        "# Histogram for Smokers\n",
        "plt.subplot(1, 2, 1)\n",
        "sns.histplot(smokers, bins=30, kde=True, color='green')\n",
        "plt.title('Distribution of Charges for Smokers')\n",
        "plt.xlabel('Charges')\n",
        "\n",
        "# Histogram for Non-Smokers\n",
        "plt.subplot(1, 2, 2)\n",
        "sns.histplot(non_smokers, bins=30, kde=True, color='skyblue')\n",
        "plt.title('Distribution of Charges for Non-Smokers')\n",
        "plt.xlabel('Charges')\n",
        "\n",
        "plt.tight_layout()\n",
        "plt.show()"
      ],
      "metadata": {
        "colab": {
          "base_uri": "https://localhost:8080/",
          "height": 1000
        },
        "id": "NKuRwvVK642J",
        "outputId": "d69e0687-149a-42be-b091-3eba3e03a572"
      },
      "execution_count": 23,
      "outputs": [
        {
          "output_type": "stream",
          "name": "stderr",
          "text": [
            "<ipython-input-23-e6f716038c40>:10: FutureWarning: \n",
            "\n",
            "Passing `palette` without assigning `hue` is deprecated and will be removed in v0.14.0. Assign the `x` variable to `hue` and set `legend=False` for the same effect.\n",
            "\n",
            "  sns.boxplot(x='smoker', y='charges', data=df, palette=\"Set2\")\n"
          ]
        },
        {
          "output_type": "display_data",
          "data": {
            "text/plain": [
              "<Figure size 1000x600 with 1 Axes>"
            ],
            "image/png": "[encoded data removed]"
          },
          "metadata": {}
        },
        {
          "output_type": "display_data",
          "data": {
            "text/plain": [
              "<Figure size 1200x500 with 2 Axes>"
            ],
            "image/png": "[encoded data removed]"
          },
          "metadata": {}
        }
      ]
    },
    {
      "cell_type": "code",
      "source": [
        "# Separate the dataset into males and females based on the 'sex' column\n",
        "males = df[df['sex'] == 'male']['bmi']\n",
        "females = df[df['sex'] == 'female']['bmi']\n",
        "\n",
        "# Display basic statistics for both groups\n",
        "print(\"Males - BMI Statistics:\")\n",
        "print(males.describe())\n",
        "print(\"\\nFemales - BMI Statistics:\")\n",
        "print(females.describe())"
      ],
      "metadata": {
        "colab": {
          "base_uri": "https://localhost:8080/"
        },
        "id": "dDKu90Az4SYT",
        "outputId": "482a26f7-445d-4ab7-f789-90255dae4b98"
      },
      "execution_count": 25,
      "outputs": [
        {
          "output_type": "stream",
          "name": "stdout",
          "text": [
            "Males - BMI Statistics:\n",
            "count    676.000000\n",
            "mean      30.943129\n",
            "std        6.140435\n",
            "min       15.960000\n",
            "25%       26.410000\n",
            "50%       30.687500\n",
            "75%       34.992500\n",
            "max       53.130000\n",
            "Name: bmi, dtype: float64\n",
            "\n",
            "Females - BMI Statistics:\n",
            "count    662.000000\n",
            "mean      30.377749\n",
            "std        6.046023\n",
            "min       16.815000\n",
            "25%       26.125000\n",
            "50%       30.107500\n",
            "75%       34.313750\n",
            "max       48.070000\n",
            "Name: bmi, dtype: float64\n"
          ]
        }
      ]
    },
    {
      "cell_type": "code",
      "source": [
        "# Box Plot\n",
        "plt.figure(figsize=(10, 6))\n",
        "sns.boxplot(x='sex', y='bmi', data=df, palette=\"Set3\")\n",
        "plt.title('Box Plot of BMI by Gender')\n",
        "plt.xlabel('Gender')\n",
        "plt.ylabel('BMI')\n",
        "plt.show()\n",
        "\n",
        "# Histogram\n",
        "plt.figure(figsize=(12, 5))\n",
        "\n",
        "# Histogram for Males\n",
        "plt.subplot(1, 2, 1)\n",
        "sns.histplot(males, bins=30, kde=True, color='salmon')\n",
        "plt.title('Distribution of BMI for Males')\n",
        "plt.xlabel('BMI')\n",
        "\n",
        "# Histogram for Females\n",
        "plt.subplot(1, 2, 2)\n",
        "sns.histplot(females, bins=30, kde=True, color='lightgreen')\n",
        "plt.title('Distribution of BMI for Females')\n",
        "plt.xlabel('BMI')\n",
        "\n",
        "plt.tight_layout()\n",
        "plt.show()"
      ],
      "metadata": {
        "colab": {
          "base_uri": "https://localhost:8080/",
          "height": 1000
        },
        "id": "7DaYUlF83n8u",
        "outputId": "9b52352a-0139-4597-90eb-ee1403c3aeb1"
      },
      "execution_count": 26,
      "outputs": [
        {
          "output_type": "stream",
          "name": "stderr",
          "text": [
            "<ipython-input-26-a30fc630a191>:3: FutureWarning: \n",
            "\n",
            "Passing `palette` without assigning `hue` is deprecated and will be removed in v0.14.0. Assign the `x` variable to `hue` and set `legend=False` for the same effect.\n",
            "\n",
            "  sns.boxplot(x='sex', y='bmi', data=df, palette=\"Set3\")\n"
          ]
        },
        {
          "output_type": "display_data",
          "data": {
            "text/plain": [
              "<Figure size 1000x600 with 1 Axes>"
            ],
            "image/png": "[encoded data removed]"
          },
          "metadata": {}
        },
        {
          "output_type": "display_data",
          "data": {
            "text/plain": [
              "<Figure size 1200x500 with 2 Axes>"
            ],
            "image/png": "[encoded data removed]"
          },
          "metadata": {}
        }
      ]
    },
    {
      "cell_type": "code",
      "source": [],
      "metadata": {
        "id": "k1WU6teg4RP6"
      },
      "execution_count": null,
      "outputs": []
    },
    {
      "cell_type": "code",
      "source": [
        "# two sample t-test\n",
        "# Sample sizes\n",
        "n1 = len(males)\n",
        "n2 = len(females)\n",
        "\n",
        "# Sample means\n",
        "mean1 = males.mean()\n",
        "mean2 = females.mean()\n",
        "\n",
        "# Sample standard deviations\n",
        "std1 = males.std(ddof=1)\n",
        "std2 = females.std(ddof=1)\n",
        "\n",
        "# Display the calculated values\n",
        "print(f\"Males - Mean BMI: {mean1:.2f}, Standard Deviation: {std1:.2f}, Sample Size: {n1}\")\n",
        "print(f\"Females - Mean BMI: {mean2:.2f}, Standard Deviation: {std2:.2f}, Sample Size: {n2}\")\n",
        "\n",
        "# Perform Levene's Test for equality of variances\n",
        "levene_stat, levene_p = stats.levene(males, females)\n",
        "print(f\"Levene's Test Statistic: {levene_stat:.4f}\")\n",
        "print(f\"Levene's Test P-Value: {levene_p:.4f}\")\n",
        "\n",
        "# Determine if variances are equal\n",
        "equal_var = True if levene_p > 0.05 else False\n",
        "print(f\"Equal Variances Assumed: {equal_var}\")\n",
        "\n",
        "# Perform Two-Sample T-Test\n",
        "t_stat, p_val = stats.ttest_ind(males, females, equal_var=equal_var) # independet samples\n",
        "print(f\"T-Statistic: {t_stat:.4f}\")\n",
        "print(f\"P-Value: {p_val:.4f}\")"
      ],
      "metadata": {
        "colab": {
          "base_uri": "https://localhost:8080/"
        },
        "id": "obDkA-2m66Ih",
        "outputId": "66f83ad7-6ae4-4aab-bb94-600314f1a0c9"
      },
      "execution_count": 27,
      "outputs": [
        {
          "output_type": "stream",
          "name": "stdout",
          "text": [
            "Males - Mean BMI: 30.94, Standard Deviation: 6.14, Sample Size: 676\n",
            "Females - Mean BMI: 30.38, Standard Deviation: 6.05, Sample Size: 662\n",
            "Levene's Test Statistic: 0.0039\n",
            "Levene's Test P-Value: 0.9500\n",
            "Equal Variances Assumed: True\n",
            "T-Statistic: 1.6968\n",
            "P-Value: 0.0900\n"
          ]
        }
      ]
    },
    {
      "cell_type": "code",
      "source": [
        "# Define the known population proportion\n",
        "p0 = 0.20\n",
        "\n",
        "# Total number of individuals in the dataset\n",
        "n = len(df)\n",
        "\n",
        "# Number of smokers in the dataset\n",
        "x = df[df['smoker'] == 'yes'].shape[0]\n",
        "\n",
        "# Sample proportion\n",
        "p_hat = x / n\n",
        "\n",
        "# Display the results\n",
        "print(f\"Total Individuals (n): {n}\")\n",
        "print(f\"Number of Smokers (x): {x}\")\n",
        "print(f\"Sample Proportion (p̂): {p_hat:.4f}\")"
      ],
      "metadata": {
        "colab": {
          "base_uri": "https://localhost:8080/"
        },
        "id": "K_aLxk1vBudS",
        "outputId": "18fdf87e-1dd8-4279-c5c5-70daf29fcfdf"
      },
      "execution_count": 29,
      "outputs": [
        {
          "output_type": "stream",
          "name": "stdout",
          "text": [
            "Total Individuals (n): 1338\n",
            "Number of Smokers (x): 274\n",
            "Sample Proportion (p̂): 0.2048\n"
          ]
        }
      ]
    },
    {
      "cell_type": "code",
      "source": [
        "# Calculate the standard error (SE)\n",
        "SE = np.sqrt(p0 * (1 - p0) / n)\n",
        "\n",
        "# Calculate the Z-Statistic\n",
        "z = (p_hat - p0) / SE\n",
        "\n",
        "# Calculate the P-Value for a one-tailed test\n",
        "p_value = 1 - stats.norm.cdf(z)\n",
        "\n",
        "# Display the results\n",
        "print(f\"Sample Proportion (p̂): {p_hat:.4f}\")\n",
        "print(f\"Z-Statistic: {z:.4f}\")\n",
        "print(f\"P-Value: {p_value:.4f}\")"
      ],
      "metadata": {
        "colab": {
          "base_uri": "https://localhost:8080/"
        },
        "id": "_98i_wAVBaFH",
        "outputId": "59d61c15-3b29-4130-8f94-934a6f4a59a4"
      },
      "execution_count": 30,
      "outputs": [
        {
          "output_type": "stream",
          "name": "stdout",
          "text": [
            "Sample Proportion (p̂): 0.2048\n",
            "Z-Statistic: 0.4374\n",
            "P-Value: 0.3309\n"
          ]
        }
      ]
    },
    {
      "cell_type": "code",
      "source": [
        "# Define the regions to compare\n",
        "region_a = 'southeast'\n",
        "region_b = 'southwest'\n",
        "\n",
        "# Filter the dataset for each region\n",
        "data_a = df[df['region'] == region_a]\n",
        "data_b = df[df['region'] == region_b]\n",
        "\n",
        "# Number of smokers in each region\n",
        "x1 = data_a[data_a['smoker'] == 'yes'].shape[0]\n",
        "x2 = data_b[data_b['smoker'] == 'yes'].shape[0]\n",
        "\n",
        "# Total number of individuals in each region\n",
        "n1 = len(data_a)\n",
        "n2 = len(data_b)\n",
        "\n",
        "# Sample proportions\n",
        "p1_hat = x1 / n1\n",
        "p2_hat = x2 / n2\n",
        "\n",
        "# Combined proportion\n",
        "\n",
        "\n",
        "p_combined = (x1 + x2) / (n1 + n2)\n",
        "\n",
        "print(\"Porportin on east: \", p1_hat)\n",
        "print(\"Porportin on west: \", p2_hat)\n",
        "\n",
        "print(\"Porportin on overall: \", p_combined)\n"
      ],
      "metadata": {
        "colab": {
          "base_uri": "https://localhost:8080/"
        },
        "id": "V_2RynqtBqRY",
        "outputId": "32b7429f-fe92-40b2-8caa-b72bde738e0d"
      },
      "execution_count": 32,
      "outputs": [
        {
          "output_type": "stream",
          "name": "stdout",
          "text": [
            "Porportin on east:  0.25\n",
            "Porportin on west:  0.17846153846153845\n",
            "Porportin on overall:  0.216255442670537\n"
          ]
        }
      ]
    },
    {
      "cell_type": "code",
      "source": [
        "\n",
        "# Standard Error (SE)\n",
        "SE = np.sqrt(p_combined * (1 - p_combined) * (1/n1 + 1/n2))\n",
        "\n",
        "# Z-Statistic\n",
        "z = (p1_hat - p2_hat) / SE\n",
        "\n",
        "# P-Value for two-tailed test\n",
        "p_value = (1 - stats.norm.cdf(abs(z)))\n",
        "\n",
        "# Display the results\n",
        "print(f\"Region A ({region_a.capitalize()}) - Smokers: {x1}/{n1} ({p1_hat:.4f})\")\n",
        "print(f\"Region B ({region_b.capitalize()}) - Smokers: {x2}/{n2} ({p2_hat:.4f})\")\n",
        "print(f\"Combined Proportion (p̂): {p_combined:.4f}\")\n",
        "print(f\"Z-Statistic: {z:.4f}\")\n",
        "print(f\"P-Value: {p_value:.4f}\")"
      ],
      "metadata": {
        "colab": {
          "base_uri": "https://localhost:8080/"
        },
        "id": "pH2Z5Z63Btik",
        "outputId": "0d3fcd56-3f5e-4f59-9b84-110ff7aabd5a"
      },
      "execution_count": 33,
      "outputs": [
        {
          "output_type": "stream",
          "name": "stdout",
          "text": [
            "Region A (Southeast) - Smokers: 91/364 (0.2500)\n",
            "Region B (Southwest) - Smokers: 58/325 (0.1785)\n",
            "Combined Proportion (p̂): 0.2163\n",
            "Z-Statistic: 2.2769\n",
            "P-Value: 0.0114\n"
          ]
        }
      ]
    },
    {
      "cell_type": "code",
      "source": [],
      "metadata": {
        "id": "yu4BfFJVGbrj"
      },
      "execution_count": null,
      "outputs": []
    }
  ]
}