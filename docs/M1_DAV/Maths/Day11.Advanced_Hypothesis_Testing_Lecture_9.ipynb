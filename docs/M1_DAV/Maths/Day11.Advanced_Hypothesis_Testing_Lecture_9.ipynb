{
  "cells": [
    {
      "cell_type": "markdown",
      "metadata": {
        "id": "nwOTNnUe_82b"
      },
      "source": [
        "## **1. Introduction to the Dataset & Business Context** 🏥📈\n",
        "\n",
        "### About the Dataset and Business Case\n",
        "\n",
        "**Dataset:** <font color=\"violet\">**Medical Cost Dataset**</font> 💊💰  \n",
        "We are analyzing healthcare insurance data, focusing on individual medical costs and related factors. By examining this data, we can understand:\n",
        "\n",
        "- **Distribution of Demographics and Lifestyle Factors:**\n",
        "  - **<font color=\"green\">Age</font>**\n",
        "  - **<font color=\"green\">Sex</font>**\n",
        "  - **<font color=\"green\">BMI (Body Mass Index)</font>**\n",
        "  - **<font color=\"green\">Number of Children</font>**\n",
        "  \n",
        "- **Patterns in Health and Regional Data:**\n",
        "  - **<font color=\"purple\">Smoking Status</font>** (`yes` or `no`)\n",
        "  - **<font color=\"purple\">Region</font>** (`northeast`, `southeast`, `southwest`, `northwest`)\n",
        "  \n",
        "- **Impact on Medical Charges:**\n",
        "  - **<font color=\"orange\">Medical Charges</font>**: Individual medical costs billed by health insurance"
      ]
    },
    {
      "cell_type": "code",
      "execution_count": null,
      "metadata": {
        "colab": {
          "base_uri": "https://localhost:8080/"
        },
        "collapsed": true,
        "id": "D-Q5BRM9-Fw5",
        "outputId": "8c0f20dc-a314-49c7-c203-9f5454e8cdc9"
      },
      "outputs": [
        {
          "name": "stdout",
          "output_type": "stream",
          "text": [
            "--2025-01-09 02:50:56--  https://d2beiqkhq929f0.cloudfront.net/public_assets/assets/000/102/634/original/medical_cost.zip\n",
            "Resolving d2beiqkhq929f0.cloudfront.net (d2beiqkhq929f0.cloudfront.net)... 18.64.229.71, 18.64.229.172, 18.64.229.135, ...\n",
            "Connecting to d2beiqkhq929f0.cloudfront.net (d2beiqkhq929f0.cloudfront.net)|18.64.229.71|:443... connected.\n",
            "HTTP request sent, awaiting response... 200 OK\n",
            "Length: 16425 (16K) [application/zip]\n",
            "Saving to: ‘medical_cost.zip’\n",
            "\n",
            "medical_cost.zip    100%[===================>]  16.04K  --.-KB/s    in 0.001s  \n",
            "\n",
            "2025-01-09 02:50:57 (12.5 MB/s) - ‘medical_cost.zip’ saved [16425/16425]\n",
            "\n"
          ]
        }
      ],
      "source": [
        "!wget https://d2beiqkhq929f0.cloudfront.net/public_assets/assets/000/102/634/original/medical_cost.zip"
      ]
    },
    {
      "cell_type": "code",
      "execution_count": null,
      "metadata": {
        "colab": {
          "base_uri": "https://localhost:8080/"
        },
        "id": "KnGwNIr3-JUT",
        "outputId": "6e0c63d4-86df-4ffa-d6b6-efb9e1b80393"
      },
      "outputs": [
        {
          "name": "stdout",
          "output_type": "stream",
          "text": [
            "Archive:  medical_cost.zip\n",
            "  inflating: insurance.csv           \n"
          ]
        }
      ],
      "source": [
        "!unzip medical_cost.zip"
      ]
    },
    {
      "cell_type": "code",
      "execution_count": null,
      "metadata": {
        "colab": {
          "base_uri": "https://localhost:8080/",
          "height": 206
        },
        "id": "eEsRs98R-QkS",
        "outputId": "60150295-7f3c-40be-82a9-7a52d31a559d"
      },
      "outputs": [
        {
          "data": {
            "application/vnd.google.colaboratory.intrinsic+json": {
              "summary": "{\n  \"name\": \"df\",\n  \"rows\": 1338,\n  \"fields\": [\n    {\n      \"column\": \"age\",\n      \"properties\": {\n        \"dtype\": \"number\",\n        \"std\": 14,\n        \"min\": 18,\n        \"max\": 64,\n        \"num_unique_values\": 47,\n        \"samples\": [\n          21,\n          45,\n          36\n        ],\n        \"semantic_type\": \"\",\n        \"description\": \"\"\n      }\n    },\n    {\n      \"column\": \"sex\",\n      \"properties\": {\n        \"dtype\": \"category\",\n        \"num_unique_values\": 2,\n        \"samples\": [\n          \"male\",\n          \"female\"\n        ],\n        \"semantic_type\": \"\",\n        \"description\": \"\"\n      }\n    },\n    {\n      \"column\": \"bmi\",\n      \"properties\": {\n        \"dtype\": \"number\",\n        \"std\": 6.098186911679017,\n        \"min\": 15.96,\n        \"max\": 53.13,\n        \"num_unique_values\": 548,\n        \"samples\": [\n          23.18,\n          26.885\n        ],\n        \"semantic_type\": \"\",\n        \"description\": \"\"\n      }\n    },\n    {\n      \"column\": \"children\",\n      \"properties\": {\n        \"dtype\": \"number\",\n        \"std\": 1,\n        \"min\": 0,\n        \"max\": 5,\n        \"num_unique_values\": 6,\n        \"samples\": [\n          0,\n          1\n        ],\n        \"semantic_type\": \"\",\n        \"description\": \"\"\n      }\n    },\n    {\n      \"column\": \"smoker\",\n      \"properties\": {\n        \"dtype\": \"category\",\n        \"num_unique_values\": 2,\n        \"samples\": [\n          \"no\",\n          \"yes\"\n        ],\n        \"semantic_type\": \"\",\n        \"description\": \"\"\n      }\n    },\n    {\n      \"column\": \"region\",\n      \"properties\": {\n        \"dtype\": \"category\",\n        \"num_unique_values\": 4,\n        \"samples\": [\n          \"southeast\",\n          \"northeast\"\n        ],\n        \"semantic_type\": \"\",\n        \"description\": \"\"\n      }\n    },\n    {\n      \"column\": \"charges\",\n      \"properties\": {\n        \"dtype\": \"number\",\n        \"std\": 12110.011236693994,\n        \"min\": 1121.8739,\n        \"max\": 63770.42801,\n        \"num_unique_values\": 1337,\n        \"samples\": [\n          8688.85885,\n          5708.867\n        ],\n        \"semantic_type\": \"\",\n        \"description\": \"\"\n      }\n    }\n  ]\n}",
              "type": "dataframe",
              "variable_name": "df"
            },
            "text/html": [
              "\n",
              "  <div id=\"df-b7b5d502-82f0-4868-a33e-06ae58502acc\" class=\"colab-df-container\">\n",
              "    <div>\n",
              "<style scoped>\n",
              "    .dataframe tbody tr th:only-of-type {\n",
              "        vertical-align: middle;\n",
              "    }\n",
              "\n",
              "    .dataframe tbody tr th {\n",
              "        vertical-align: top;\n",
              "    }\n",
              "\n",
              "    .dataframe thead th {\n",
              "        text-align: right;\n",
              "    }\n",
              "</style>\n",
              "<table border=\"1\" class=\"dataframe\">\n",
              "  <thead>\n",
              "    <tr style=\"text-align: right;\">\n",
              "      <th></th>\n",
              "      <th>age</th>\n",
              "      <th>sex</th>\n",
              "      <th>bmi</th>\n",
              "      <th>children</th>\n",
              "      <th>smoker</th>\n",
              "      <th>region</th>\n",
              "      <th>charges</th>\n",
              "    </tr>\n",
              "  </thead>\n",
              "  <tbody>\n",
              "    <tr>\n",
              "      <th>0</th>\n",
              "      <td>19</td>\n",
              "      <td>female</td>\n",
              "      <td>27.900</td>\n",
              "      <td>0</td>\n",
              "      <td>yes</td>\n",
              "      <td>southwest</td>\n",
              "      <td>16884.92400</td>\n",
              "    </tr>\n",
              "    <tr>\n",
              "      <th>1</th>\n",
              "      <td>18</td>\n",
              "      <td>male</td>\n",
              "      <td>33.770</td>\n",
              "      <td>1</td>\n",
              "      <td>no</td>\n",
              "      <td>southeast</td>\n",
              "      <td>1725.55230</td>\n",
              "    </tr>\n",
              "    <tr>\n",
              "      <th>2</th>\n",
              "      <td>28</td>\n",
              "      <td>male</td>\n",
              "      <td>33.000</td>\n",
              "      <td>3</td>\n",
              "      <td>no</td>\n",
              "      <td>southeast</td>\n",
              "      <td>4449.46200</td>\n",
              "    </tr>\n",
              "    <tr>\n",
              "      <th>3</th>\n",
              "      <td>33</td>\n",
              "      <td>male</td>\n",
              "      <td>22.705</td>\n",
              "      <td>0</td>\n",
              "      <td>no</td>\n",
              "      <td>northwest</td>\n",
              "      <td>21984.47061</td>\n",
              "    </tr>\n",
              "    <tr>\n",
              "      <th>4</th>\n",
              "      <td>32</td>\n",
              "      <td>male</td>\n",
              "      <td>28.880</td>\n",
              "      <td>0</td>\n",
              "      <td>no</td>\n",
              "      <td>northwest</td>\n",
              "      <td>3866.85520</td>\n",
              "    </tr>\n",
              "  </tbody>\n",
              "</table>\n",
              "</div>\n",
              "    <div class=\"colab-df-buttons\">\n",
              "\n",
              "  <div class=\"colab-df-container\">\n",
              "    <button class=\"colab-df-convert\" onclick=\"convertToInteractive('df-b7b5d502-82f0-4868-a33e-06ae58502acc')\"\n",
              "            title=\"Convert this dataframe to an interactive table.\"\n",
              "            style=\"display:none;\">\n",
              "\n",
              "  <svg xmlns=\"http://www.w3.org/2000/svg\" height=\"24px\" viewBox=\"0 -960 960 960\">\n",
              "    <path d=\"M120-120v-720h720v720H120Zm60-500h600v-160H180v160Zm220 220h160v-160H400v160Zm0 220h160v-160H400v160ZM180-400h160v-160H180v160Zm440 0h160v-160H620v160ZM180-180h160v-160H180v160Zm440 0h160v-160H620v160Z\"/>\n",
              "  </svg>\n",
              "    </button>\n",
              "\n",
              "  <style>\n",
              "    .colab-df-container {\n",
              "      display:flex;\n",
              "      gap: 12px;\n",
              "    }\n",
              "\n",
              "    .colab-df-convert {\n",
              "      background-color: #E8F0FE;\n",
              "      border: none;\n",
              "      border-radius: 50%;\n",
              "      cursor: pointer;\n",
              "      display: none;\n",
              "      fill: #1967D2;\n",
              "      height: 32px;\n",
              "      padding: 0 0 0 0;\n",
              "      width: 32px;\n",
              "    }\n",
              "\n",
              "    .colab-df-convert:hover {\n",
              "      background-color: #E2EBFA;\n",
              "      box-shadow: 0px 1px 2px rgba(60, 64, 67, 0.3), 0px 1px 3px 1px rgba(60, 64, 67, 0.15);\n",
              "      fill: #174EA6;\n",
              "    }\n",
              "\n",
              "    .colab-df-buttons div {\n",
              "      margin-bottom: 4px;\n",
              "    }\n",
              "\n",
              "    [theme=dark] .colab-df-convert {\n",
              "      background-color: #3B4455;\n",
              "      fill: #D2E3FC;\n",
              "    }\n",
              "\n",
              "    [theme=dark] .colab-df-convert:hover {\n",
              "      background-color: #434B5C;\n",
              "      box-shadow: 0px 1px 3px 1px rgba(0, 0, 0, 0.15);\n",
              "      filter: drop-shadow(0px 1px 2px rgba(0, 0, 0, 0.3));\n",
              "      fill: #FFFFFF;\n",
              "    }\n",
              "  </style>\n",
              "\n",
              "    <script>\n",
              "      const buttonEl =\n",
              "        document.querySelector('#df-b7b5d502-82f0-4868-a33e-06ae58502acc button.colab-df-convert');\n",
              "      buttonEl.style.display =\n",
              "        google.colab.kernel.accessAllowed ? 'block' : 'none';\n",
              "\n",
              "      async function convertToInteractive(key) {\n",
              "        const element = document.querySelector('#df-b7b5d502-82f0-4868-a33e-06ae58502acc');\n",
              "        const dataTable =\n",
              "          await google.colab.kernel.invokeFunction('convertToInteractive',\n",
              "                                                    [key], {});\n",
              "        if (!dataTable) return;\n",
              "\n",
              "        const docLinkHtml = 'Like what you see? Visit the ' +\n",
              "          '<a target=\"_blank\" href=https://colab.research.google.com/notebooks/data_table.ipynb>data table notebook</a>'\n",
              "          + ' to learn more about interactive tables.';\n",
              "        element.innerHTML = '';\n",
              "        dataTable['output_type'] = 'display_data';\n",
              "        await google.colab.output.renderOutput(dataTable, element);\n",
              "        const docLink = document.createElement('div');\n",
              "        docLink.innerHTML = docLinkHtml;\n",
              "        element.appendChild(docLink);\n",
              "      }\n",
              "    </script>\n",
              "  </div>\n",
              "\n",
              "\n",
              "<div id=\"df-d558027a-7722-456c-95b8-8afdd56363a2\">\n",
              "  <button class=\"colab-df-quickchart\" onclick=\"quickchart('df-d558027a-7722-456c-95b8-8afdd56363a2')\"\n",
              "            title=\"Suggest charts\"\n",
              "            style=\"display:none;\">\n",
              "\n",
              "<svg xmlns=\"http://www.w3.org/2000/svg\" height=\"24px\"viewBox=\"0 0 24 24\"\n",
              "     width=\"24px\">\n",
              "    <g>\n",
              "        <path d=\"M19 3H5c-1.1 0-2 .9-2 2v14c0 1.1.9 2 2 2h14c1.1 0 2-.9 2-2V5c0-1.1-.9-2-2-2zM9 17H7v-7h2v7zm4 0h-2V7h2v10zm4 0h-2v-4h2v4z\"/>\n",
              "    </g>\n",
              "</svg>\n",
              "  </button>\n",
              "\n",
              "<style>\n",
              "  .colab-df-quickchart {\n",
              "      --bg-color: #E8F0FE;\n",
              "      --fill-color: #1967D2;\n",
              "      --hover-bg-color: #E2EBFA;\n",
              "      --hover-fill-color: #174EA6;\n",
              "      --disabled-fill-color: #AAA;\n",
              "      --disabled-bg-color: #DDD;\n",
              "  }\n",
              "\n",
              "  [theme=dark] .colab-df-quickchart {\n",
              "      --bg-color: #3B4455;\n",
              "      --fill-color: #D2E3FC;\n",
              "      --hover-bg-color: #434B5C;\n",
              "      --hover-fill-color: #FFFFFF;\n",
              "      --disabled-bg-color: #3B4455;\n",
              "      --disabled-fill-color: #666;\n",
              "  }\n",
              "\n",
              "  .colab-df-quickchart {\n",
              "    background-color: var(--bg-color);\n",
              "    border: none;\n",
              "    border-radius: 50%;\n",
              "    cursor: pointer;\n",
              "    display: none;\n",
              "    fill: var(--fill-color);\n",
              "    height: 32px;\n",
              "    padding: 0;\n",
              "    width: 32px;\n",
              "  }\n",
              "\n",
              "  .colab-df-quickchart:hover {\n",
              "    background-color: var(--hover-bg-color);\n",
              "    box-shadow: 0 1px 2px rgba(60, 64, 67, 0.3), 0 1px 3px 1px rgba(60, 64, 67, 0.15);\n",
              "    fill: var(--button-hover-fill-color);\n",
              "  }\n",
              "\n",
              "  .colab-df-quickchart-complete:disabled,\n",
              "  .colab-df-quickchart-complete:disabled:hover {\n",
              "    background-color: var(--disabled-bg-color);\n",
              "    fill: var(--disabled-fill-color);\n",
              "    box-shadow: none;\n",
              "  }\n",
              "\n",
              "  .colab-df-spinner {\n",
              "    border: 2px solid var(--fill-color);\n",
              "    border-color: transparent;\n",
              "    border-bottom-color: var(--fill-color);\n",
              "    animation:\n",
              "      spin 1s steps(1) infinite;\n",
              "  }\n",
              "\n",
              "  @keyframes spin {\n",
              "    0% {\n",
              "      border-color: transparent;\n",
              "      border-bottom-color: var(--fill-color);\n",
              "      border-left-color: var(--fill-color);\n",
              "    }\n",
              "    20% {\n",
              "      border-color: transparent;\n",
              "      border-left-color: var(--fill-color);\n",
              "      border-top-color: var(--fill-color);\n",
              "    }\n",
              "    30% {\n",
              "      border-color: transparent;\n",
              "      border-left-color: var(--fill-color);\n",
              "      border-top-color: var(--fill-color);\n",
              "      border-right-color: var(--fill-color);\n",
              "    }\n",
              "    40% {\n",
              "      border-color: transparent;\n",
              "      border-right-color: var(--fill-color);\n",
              "      border-top-color: var(--fill-color);\n",
              "    }\n",
              "    60% {\n",
              "      border-color: transparent;\n",
              "      border-right-color: var(--fill-color);\n",
              "    }\n",
              "    80% {\n",
              "      border-color: transparent;\n",
              "      border-right-color: var(--fill-color);\n",
              "      border-bottom-color: var(--fill-color);\n",
              "    }\n",
              "    90% {\n",
              "      border-color: transparent;\n",
              "      border-bottom-color: var(--fill-color);\n",
              "    }\n",
              "  }\n",
              "</style>\n",
              "\n",
              "  <script>\n",
              "    async function quickchart(key) {\n",
              "      const quickchartButtonEl =\n",
              "        document.querySelector('#' + key + ' button');\n",
              "      quickchartButtonEl.disabled = true;  // To prevent multiple clicks.\n",
              "      quickchartButtonEl.classList.add('colab-df-spinner');\n",
              "      try {\n",
              "        const charts = await google.colab.kernel.invokeFunction(\n",
              "            'suggestCharts', [key], {});\n",
              "      } catch (error) {\n",
              "        console.error('Error during call to suggestCharts:', error);\n",
              "      }\n",
              "      quickchartButtonEl.classList.remove('colab-df-spinner');\n",
              "      quickchartButtonEl.classList.add('colab-df-quickchart-complete');\n",
              "    }\n",
              "    (() => {\n",
              "      let quickchartButtonEl =\n",
              "        document.querySelector('#df-d558027a-7722-456c-95b8-8afdd56363a2 button');\n",
              "      quickchartButtonEl.style.display =\n",
              "        google.colab.kernel.accessAllowed ? 'block' : 'none';\n",
              "    })();\n",
              "  </script>\n",
              "</div>\n",
              "\n",
              "    </div>\n",
              "  </div>\n"
            ],
            "text/plain": [
              "   age     sex     bmi  children smoker     region      charges\n",
              "0   19  female  27.900         0    yes  southwest  16884.92400\n",
              "1   18    male  33.770         1     no  southeast   1725.55230\n",
              "2   28    male  33.000         3     no  southeast   4449.46200\n",
              "3   33    male  22.705         0     no  northwest  21984.47061\n",
              "4   32    male  28.880         0     no  northwest   3866.85520"
            ]
          },
          "execution_count": 3,
          "metadata": {},
          "output_type": "execute_result"
        }
      ],
      "source": [
        "import pandas as pd\n",
        "\n",
        "df = pd.read_csv('insurance.csv')\n",
        "df.head()"
      ]
    },
    {
      "cell_type": "code",
      "execution_count": null,
      "metadata": {
        "colab": {
          "base_uri": "https://localhost:8080/",
          "height": 300
        },
        "id": "vO6uBDBg-Vbh",
        "outputId": "c8c020d8-6c59-4d25-87d4-7856bf9fe665"
      },
      "outputs": [
        {
          "data": {
            "application/vnd.google.colaboratory.intrinsic+json": {
              "summary": "{\n  \"name\": \"df\",\n  \"rows\": 8,\n  \"fields\": [\n    {\n      \"column\": \"age\",\n      \"properties\": {\n        \"dtype\": \"number\",\n        \"std\": 460.6106090399993,\n        \"min\": 14.049960379216172,\n        \"max\": 1338.0,\n        \"num_unique_values\": 8,\n        \"samples\": [\n          39.20702541106129,\n          39.0,\n          1338.0\n        ],\n        \"semantic_type\": \"\",\n        \"description\": \"\"\n      }\n    },\n    {\n      \"column\": \"bmi\",\n      \"properties\": {\n        \"dtype\": \"number\",\n        \"std\": 463.29524977918294,\n        \"min\": 6.098186911679017,\n        \"max\": 1338.0,\n        \"num_unique_values\": 8,\n        \"samples\": [\n          30.66339686098655,\n          30.4,\n          1338.0\n        ],\n        \"semantic_type\": \"\",\n        \"description\": \"\"\n      }\n    },\n    {\n      \"column\": \"children\",\n      \"properties\": {\n        \"dtype\": \"number\",\n        \"std\": 472.5368318870757,\n        \"min\": 0.0,\n        \"max\": 1338.0,\n        \"num_unique_values\": 7,\n        \"samples\": [\n          1338.0,\n          1.0949177877429,\n          2.0\n        ],\n        \"semantic_type\": \"\",\n        \"description\": \"\"\n      }\n    },\n    {\n      \"column\": \"charges\",\n      \"properties\": {\n        \"dtype\": \"number\",\n        \"std\": 20381.922846226596,\n        \"min\": 1121.8739,\n        \"max\": 63770.42801,\n        \"num_unique_values\": 8,\n        \"samples\": [\n          13270.422265141257,\n          9382.033,\n          1338.0\n        ],\n        \"semantic_type\": \"\",\n        \"description\": \"\"\n      }\n    }\n  ]\n}",
              "type": "dataframe"
            },
            "text/html": [
              "\n",
              "  <div id=\"df-c88f4d0d-31a3-4303-94ee-5c61e1d6690e\" class=\"colab-df-container\">\n",
              "    <div>\n",
              "<style scoped>\n",
              "    .dataframe tbody tr th:only-of-type {\n",
              "        vertical-align: middle;\n",
              "    }\n",
              "\n",
              "    .dataframe tbody tr th {\n",
              "        vertical-align: top;\n",
              "    }\n",
              "\n",
              "    .dataframe thead th {\n",
              "        text-align: right;\n",
              "    }\n",
              "</style>\n",
              "<table border=\"1\" class=\"dataframe\">\n",
              "  <thead>\n",
              "    <tr style=\"text-align: right;\">\n",
              "      <th></th>\n",
              "      <th>age</th>\n",
              "      <th>bmi</th>\n",
              "      <th>children</th>\n",
              "      <th>charges</th>\n",
              "    </tr>\n",
              "  </thead>\n",
              "  <tbody>\n",
              "    <tr>\n",
              "      <th>count</th>\n",
              "      <td>1338.000000</td>\n",
              "      <td>1338.000000</td>\n",
              "      <td>1338.000000</td>\n",
              "      <td>1338.000000</td>\n",
              "    </tr>\n",
              "    <tr>\n",
              "      <th>mean</th>\n",
              "      <td>39.207025</td>\n",
              "      <td>30.663397</td>\n",
              "      <td>1.094918</td>\n",
              "      <td>13270.422265</td>\n",
              "    </tr>\n",
              "    <tr>\n",
              "      <th>std</th>\n",
              "      <td>14.049960</td>\n",
              "      <td>6.098187</td>\n",
              "      <td>1.205493</td>\n",
              "      <td>12110.011237</td>\n",
              "    </tr>\n",
              "    <tr>\n",
              "      <th>min</th>\n",
              "      <td>18.000000</td>\n",
              "      <td>15.960000</td>\n",
              "      <td>0.000000</td>\n",
              "      <td>1121.873900</td>\n",
              "    </tr>\n",
              "    <tr>\n",
              "      <th>25%</th>\n",
              "      <td>27.000000</td>\n",
              "      <td>26.296250</td>\n",
              "      <td>0.000000</td>\n",
              "      <td>4740.287150</td>\n",
              "    </tr>\n",
              "    <tr>\n",
              "      <th>50%</th>\n",
              "      <td>39.000000</td>\n",
              "      <td>30.400000</td>\n",
              "      <td>1.000000</td>\n",
              "      <td>9382.033000</td>\n",
              "    </tr>\n",
              "    <tr>\n",
              "      <th>75%</th>\n",
              "      <td>51.000000</td>\n",
              "      <td>34.693750</td>\n",
              "      <td>2.000000</td>\n",
              "      <td>16639.912515</td>\n",
              "    </tr>\n",
              "    <tr>\n",
              "      <th>max</th>\n",
              "      <td>64.000000</td>\n",
              "      <td>53.130000</td>\n",
              "      <td>5.000000</td>\n",
              "      <td>63770.428010</td>\n",
              "    </tr>\n",
              "  </tbody>\n",
              "</table>\n",
              "</div>\n",
              "    <div class=\"colab-df-buttons\">\n",
              "\n",
              "  <div class=\"colab-df-container\">\n",
              "    <button class=\"colab-df-convert\" onclick=\"convertToInteractive('df-c88f4d0d-31a3-4303-94ee-5c61e1d6690e')\"\n",
              "            title=\"Convert this dataframe to an interactive table.\"\n",
              "            style=\"display:none;\">\n",
              "\n",
              "  <svg xmlns=\"http://www.w3.org/2000/svg\" height=\"24px\" viewBox=\"0 -960 960 960\">\n",
              "    <path d=\"M120-120v-720h720v720H120Zm60-500h600v-160H180v160Zm220 220h160v-160H400v160Zm0 220h160v-160H400v160ZM180-400h160v-160H180v160Zm440 0h160v-160H620v160ZM180-180h160v-160H180v160Zm440 0h160v-160H620v160Z\"/>\n",
              "  </svg>\n",
              "    </button>\n",
              "\n",
              "  <style>\n",
              "    .colab-df-container {\n",
              "      display:flex;\n",
              "      gap: 12px;\n",
              "    }\n",
              "\n",
              "    .colab-df-convert {\n",
              "      background-color: #E8F0FE;\n",
              "      border: none;\n",
              "      border-radius: 50%;\n",
              "      cursor: pointer;\n",
              "      display: none;\n",
              "      fill: #1967D2;\n",
              "      height: 32px;\n",
              "      padding: 0 0 0 0;\n",
              "      width: 32px;\n",
              "    }\n",
              "\n",
              "    .colab-df-convert:hover {\n",
              "      background-color: #E2EBFA;\n",
              "      box-shadow: 0px 1px 2px rgba(60, 64, 67, 0.3), 0px 1px 3px 1px rgba(60, 64, 67, 0.15);\n",
              "      fill: #174EA6;\n",
              "    }\n",
              "\n",
              "    .colab-df-buttons div {\n",
              "      margin-bottom: 4px;\n",
              "    }\n",
              "\n",
              "    [theme=dark] .colab-df-convert {\n",
              "      background-color: #3B4455;\n",
              "      fill: #D2E3FC;\n",
              "    }\n",
              "\n",
              "    [theme=dark] .colab-df-convert:hover {\n",
              "      background-color: #434B5C;\n",
              "      box-shadow: 0px 1px 3px 1px rgba(0, 0, 0, 0.15);\n",
              "      filter: drop-shadow(0px 1px 2px rgba(0, 0, 0, 0.3));\n",
              "      fill: #FFFFFF;\n",
              "    }\n",
              "  </style>\n",
              "\n",
              "    <script>\n",
              "      const buttonEl =\n",
              "        document.querySelector('#df-c88f4d0d-31a3-4303-94ee-5c61e1d6690e button.colab-df-convert');\n",
              "      buttonEl.style.display =\n",
              "        google.colab.kernel.accessAllowed ? 'block' : 'none';\n",
              "\n",
              "      async function convertToInteractive(key) {\n",
              "        const element = document.querySelector('#df-c88f4d0d-31a3-4303-94ee-5c61e1d6690e');\n",
              "        const dataTable =\n",
              "          await google.colab.kernel.invokeFunction('convertToInteractive',\n",
              "                                                    [key], {});\n",
              "        if (!dataTable) return;\n",
              "\n",
              "        const docLinkHtml = 'Like what you see? Visit the ' +\n",
              "          '<a target=\"_blank\" href=https://colab.research.google.com/notebooks/data_table.ipynb>data table notebook</a>'\n",
              "          + ' to learn more about interactive tables.';\n",
              "        element.innerHTML = '';\n",
              "        dataTable['output_type'] = 'display_data';\n",
              "        await google.colab.output.renderOutput(dataTable, element);\n",
              "        const docLink = document.createElement('div');\n",
              "        docLink.innerHTML = docLinkHtml;\n",
              "        element.appendChild(docLink);\n",
              "      }\n",
              "    </script>\n",
              "  </div>\n",
              "\n",
              "\n",
              "<div id=\"df-d32a0cfc-6eda-4158-a7f2-07fe30c84e3c\">\n",
              "  <button class=\"colab-df-quickchart\" onclick=\"quickchart('df-d32a0cfc-6eda-4158-a7f2-07fe30c84e3c')\"\n",
              "            title=\"Suggest charts\"\n",
              "            style=\"display:none;\">\n",
              "\n",
              "<svg xmlns=\"http://www.w3.org/2000/svg\" height=\"24px\"viewBox=\"0 0 24 24\"\n",
              "     width=\"24px\">\n",
              "    <g>\n",
              "        <path d=\"M19 3H5c-1.1 0-2 .9-2 2v14c0 1.1.9 2 2 2h14c1.1 0 2-.9 2-2V5c0-1.1-.9-2-2-2zM9 17H7v-7h2v7zm4 0h-2V7h2v10zm4 0h-2v-4h2v4z\"/>\n",
              "    </g>\n",
              "</svg>\n",
              "  </button>\n",
              "\n",
              "<style>\n",
              "  .colab-df-quickchart {\n",
              "      --bg-color: #E8F0FE;\n",
              "      --fill-color: #1967D2;\n",
              "      --hover-bg-color: #E2EBFA;\n",
              "      --hover-fill-color: #174EA6;\n",
              "      --disabled-fill-color: #AAA;\n",
              "      --disabled-bg-color: #DDD;\n",
              "  }\n",
              "\n",
              "  [theme=dark] .colab-df-quickchart {\n",
              "      --bg-color: #3B4455;\n",
              "      --fill-color: #D2E3FC;\n",
              "      --hover-bg-color: #434B5C;\n",
              "      --hover-fill-color: #FFFFFF;\n",
              "      --disabled-bg-color: #3B4455;\n",
              "      --disabled-fill-color: #666;\n",
              "  }\n",
              "\n",
              "  .colab-df-quickchart {\n",
              "    background-color: var(--bg-color);\n",
              "    border: none;\n",
              "    border-radius: 50%;\n",
              "    cursor: pointer;\n",
              "    display: none;\n",
              "    fill: var(--fill-color);\n",
              "    height: 32px;\n",
              "    padding: 0;\n",
              "    width: 32px;\n",
              "  }\n",
              "\n",
              "  .colab-df-quickchart:hover {\n",
              "    background-color: var(--hover-bg-color);\n",
              "    box-shadow: 0 1px 2px rgba(60, 64, 67, 0.3), 0 1px 3px 1px rgba(60, 64, 67, 0.15);\n",
              "    fill: var(--button-hover-fill-color);\n",
              "  }\n",
              "\n",
              "  .colab-df-quickchart-complete:disabled,\n",
              "  .colab-df-quickchart-complete:disabled:hover {\n",
              "    background-color: var(--disabled-bg-color);\n",
              "    fill: var(--disabled-fill-color);\n",
              "    box-shadow: none;\n",
              "  }\n",
              "\n",
              "  .colab-df-spinner {\n",
              "    border: 2px solid var(--fill-color);\n",
              "    border-color: transparent;\n",
              "    border-bottom-color: var(--fill-color);\n",
              "    animation:\n",
              "      spin 1s steps(1) infinite;\n",
              "  }\n",
              "\n",
              "  @keyframes spin {\n",
              "    0% {\n",
              "      border-color: transparent;\n",
              "      border-bottom-color: var(--fill-color);\n",
              "      border-left-color: var(--fill-color);\n",
              "    }\n",
              "    20% {\n",
              "      border-color: transparent;\n",
              "      border-left-color: var(--fill-color);\n",
              "      border-top-color: var(--fill-color);\n",
              "    }\n",
              "    30% {\n",
              "      border-color: transparent;\n",
              "      border-left-color: var(--fill-color);\n",
              "      border-top-color: var(--fill-color);\n",
              "      border-right-color: var(--fill-color);\n",
              "    }\n",
              "    40% {\n",
              "      border-color: transparent;\n",
              "      border-right-color: var(--fill-color);\n",
              "      border-top-color: var(--fill-color);\n",
              "    }\n",
              "    60% {\n",
              "      border-color: transparent;\n",
              "      border-right-color: var(--fill-color);\n",
              "    }\n",
              "    80% {\n",
              "      border-color: transparent;\n",
              "      border-right-color: var(--fill-color);\n",
              "      border-bottom-color: var(--fill-color);\n",
              "    }\n",
              "    90% {\n",
              "      border-color: transparent;\n",
              "      border-bottom-color: var(--fill-color);\n",
              "    }\n",
              "  }\n",
              "</style>\n",
              "\n",
              "  <script>\n",
              "    async function quickchart(key) {\n",
              "      const quickchartButtonEl =\n",
              "        document.querySelector('#' + key + ' button');\n",
              "      quickchartButtonEl.disabled = true;  // To prevent multiple clicks.\n",
              "      quickchartButtonEl.classList.add('colab-df-spinner');\n",
              "      try {\n",
              "        const charts = await google.colab.kernel.invokeFunction(\n",
              "            'suggestCharts', [key], {});\n",
              "      } catch (error) {\n",
              "        console.error('Error during call to suggestCharts:', error);\n",
              "      }\n",
              "      quickchartButtonEl.classList.remove('colab-df-spinner');\n",
              "      quickchartButtonEl.classList.add('colab-df-quickchart-complete');\n",
              "    }\n",
              "    (() => {\n",
              "      let quickchartButtonEl =\n",
              "        document.querySelector('#df-d32a0cfc-6eda-4158-a7f2-07fe30c84e3c button');\n",
              "      quickchartButtonEl.style.display =\n",
              "        google.colab.kernel.accessAllowed ? 'block' : 'none';\n",
              "    })();\n",
              "  </script>\n",
              "</div>\n",
              "\n",
              "    </div>\n",
              "  </div>\n"
            ],
            "text/plain": [
              "               age          bmi     children       charges\n",
              "count  1338.000000  1338.000000  1338.000000   1338.000000\n",
              "mean     39.207025    30.663397     1.094918  13270.422265\n",
              "std      14.049960     6.098187     1.205493  12110.011237\n",
              "min      18.000000    15.960000     0.000000   1121.873900\n",
              "25%      27.000000    26.296250     0.000000   4740.287150\n",
              "50%      39.000000    30.400000     1.000000   9382.033000\n",
              "75%      51.000000    34.693750     2.000000  16639.912515\n",
              "max      64.000000    53.130000     5.000000  63770.428010"
            ]
          },
          "execution_count": 5,
          "metadata": {},
          "output_type": "execute_result"
        }
      ],
      "source": [
        "# Summary statistics\n",
        "df.describe()"
      ]
    },
    {
      "cell_type": "markdown",
      "metadata": {
        "id": "3zo7_qwSB-iR"
      },
      "source": [
        "\n",
        "\n",
        "---\n",
        "\n",
        "## **2. Hypothesis Testing Fundamentals** 📊🔍\n",
        "\n",
        "### 🎯 **What is Hypothesis Testing?**\n",
        "\n",
        "Hypothesis Testing is a fundamental statistical method used to make decisions or inferences about a population based on sample data. It allows us to determine whether there is enough evidence to support a specific belief or claim about a parameter.\n",
        "\n",
        "### 🏛️ **Real-World Analogy: The Courtroom**\n",
        "\n",
        "Imagine a courtroom scenario to understand the basics of hypothesis testing:\n",
        "\n",
        "- **<font color=\"magenta\">Null Hypothesis (H₀)</font>**: The defendant is innocent.\n",
        "- **<font color=\"magenta\">Alternative Hypothesis (H₁)</font>**: The defendant is guilty.\n",
        "\n",
        "The jury examines the evidence (sample data) to decide whether to reject the null hypothesis (innocence) in favor of the alternative hypothesis (guilt).\n",
        "\n",
        "### 📌 **Key Terminologies**\n",
        "\n",
        "1. **<font color=\"magenta\">Null Hypothesis (H₀)</font>**:\n",
        "   - A statement that there is no effect or no difference.\n",
        "   - It serves as the default or starting assumption.\n",
        "   - *Example*: In our Medical Cost dataset, H₀ could state that the average medical charges are equal to the industry average of \\$13,000.\n",
        "\n",
        "2. **<font color=\"magenta\">Alternative Hypothesis (H₁)</font>**:\n",
        "   - A statement that indicates the presence of an effect or a difference.\n",
        "   - It represents what you aim to support.\n",
        "   - *Example*: H₁ could state that the average medical charges are different from \\$13,000.\n",
        "\n",
        "3. **<font color=\"magenta\">p-value</font>**:\n",
        "   - The probability of obtaining test results at least as extreme as the observed results, assuming that H₀ is true.\n",
        "   - A smaller p-value indicates stronger evidence against H₀.\n",
        "   - *Example*: A p-value of 0.03 suggests there is a 3% chance that the observed difference in medical charges occurred under H₀.\n",
        "\n",
        "4. **<font color=\"magenta\">Significance Level (α)</font>**:\n",
        "   - A threshold set by the researcher (commonly 0.05) to decide whether to reject H₀.\n",
        "   - If p-value ≤ α, reject H₀.\n",
        "   - *Example*: With α = 0.05, a p-value of 0.03 leads to rejecting H₀.\n",
        "\n",
        "5. **<font color=\"magenta\">Test Statistic</font>**:\n",
        "   - A standardized value calculated from sample data during a hypothesis test.\n",
        "   - It helps determine the p-value.\n",
        "   - *Example*: In a Z-Test, the test statistic measures how many standard deviations the sample mean is from the population mean.\n",
        "\n",
        "### 🔍 **Types of Errors**\n",
        "\n",
        "1. **<font color=\"blue\">Type I Error (False Positive)</font>**:\n",
        "   - Occurs when H₀ is true, but we incorrectly reject it.\n",
        "   - *Example*: Convicting an innocent defendant.\n",
        "\n",
        "2. **<font color=\"blue\">Type II Error (False Negative)</font>**:\n",
        "   - Occurs when H₀ is false, but we fail to reject it.\n",
        "   - *Example*: Acquitting a guilty defendant.\n",
        "\n",
        "### 💡 **Why Hypothesis Testing Matters in Business**\n",
        "\n",
        "In the context of our **Medical Cost dataset**, hypothesis testing enables businesses to:\n",
        "\n",
        "- **Make Informed Decisions**: Determine if changes in policies or demographics significantly impact medical costs.\n",
        "- **Validate Assumptions**: Confirm whether observed differences in data reflect true population differences or are due to random variation.\n",
        "- **Optimize Strategies**: Tailor insurance plans and pricing based on statistically significant factors affecting costs.\n",
        "\n",
        "### 🧩 **Connecting to Our Dataset**\n",
        "\n",
        "Let's relate these concepts to our **Medical Cost dataset**:\n",
        "\n",
        "- **Scenario**: An insurance company believes that their average medical charges are aligned with the industry average of \\$13,000. They want to test this belief.\n",
        "  \n",
        "  - **H₀**: The average medical charge is \\$13,000.\n",
        "  - **H₁**: The average medical charge is not \\$13,000.\n",
        "\n",
        "- By conducting a hypothesis test, the company can determine whether to maintain, adjust, or overhaul their pricing strategy based on statistical evidence.\n",
        "\n",
        "### 🧮 **Simple Example with Our Dataset**\n",
        "\n",
        "Suppose we want to test if the average BMI of individuals in our dataset is significantly different from the national average BMI of 30.\n",
        "\n",
        "- **H₀**: The average BMI is 30.\n",
        "- **H₁**: The average BMI is not 30.\n",
        "\n",
        "By performing a hypothesis test, we can assess whether our sample provides enough evidence to conclude that the average BMI in our dataset deviates from the national average.\n",
        "\n",
        "---\n",
        "\n"
      ]
    },
    {
      "cell_type": "markdown",
      "metadata": {
        "id": "6-MCbr6yCQ7K"
      },
      "source": [
        "## **3. One-Sample Hypothesis Test** 📏🔬\n",
        "\n",
        "### 🎯 **Objective**\n",
        "In this section, we'll learn how to perform a **One-Sample Hypothesis Test** using our **Medical Cost dataset**. This test helps us determine whether the average value of a specific variable in our dataset significantly differs from a known or hypothesized population value.\n",
        "\n",
        "### 🏥 **Business Scenario**\n",
        "\n",
        "**Scenario:**  \n",
        "An insurance company claims that their average medical charges align with the industry average of **\\$13,000**. The company wants to verify this claim to ensure their pricing strategy is competitive and sustainable.\n",
        "\n",
        "**Question:**  \n",
        "*Is the average medical charge in our dataset different from the industry average of \\$13,000?*\n",
        "\n",
        "### 📌 **Step-by-Step Hypothesis Setup**\n",
        "\n",
        "1. **Define the Hypotheses:**\n",
        "   - **<font color=\"magenta\">Null Hypothesis (H₀)</font>:**  \n",
        "     The average medical charge is equal to \\$13,000.\n",
        "     $\n",
        "     H₀: \\mu = 13,000\n",
        "     $\n",
        "   \n",
        "   - **<font color=\"magenta\">Alternative Hypothesis (H₁)</font>:**  \n",
        "     The average medical charge is not equal to \\$13,000.\n",
        "     $\n",
        "     H₁: \\mu \\neq 13,000\n",
        "     $\n",
        "   \n",
        "2. **Choose the Significance Level (α):**  \n",
        "   Commonly set at **0.05** (5%). This means there's a 5% risk of rejecting H₀ when it's actually true.\n",
        "\n",
        "3. **Collect and Summarize the Data:**\n",
        "   - **Sample Mean ($\\bar{x}$)**: The average medical charge from our dataset.\n",
        "   - **Sample Standard Deviation (s)**: Measures the variability of medical charges.\n",
        "   - **Sample Size (n)**: Number of observations in the dataset.\n",
        "\n",
        "4. **Calculate the Test Statistic:**  \n",
        "   Since the population standard deviation is unknown and the sample size is large, we'll use the **Z-Test**.\n",
        "\n",
        "   $\n",
        "   Z = \\frac{\\bar{x} - \\mu_0}{\\frac{s}{\\sqrt{n}}}\n",
        "   $\n",
        "   \n",
        "   Where:\n",
        "   - $\\bar{x}$ = Sample mean\n",
        "   - $\\mu_0$ = Hypothesized population mean (\\$13,000)\n",
        "   - $s$ = Sample standard deviation\n",
        "   - $n$ = Sample size\n",
        "\n",
        "5. **Determine the p-value:**  \n",
        "   The p-value indicates the probability of observing the sample results, or something more extreme, assuming H₀ is true.\n",
        "\n",
        "6. **Make a Decision:**  \n",
        "   - **If p-value ≤ α:** Reject H₀ (evidence suggests the average charge is different from \\$13,000).\n",
        "   - **If p-value > α:** Fail to reject H₀ (insufficient evidence to conclude a difference)."
      ]
    },
    {
      "cell_type": "code",
      "execution_count": null,
      "metadata": {
        "colab": {
          "base_uri": "https://localhost:8080/"
        },
        "id": "N6UzwpjJAI85",
        "outputId": "69065619-610b-466f-b5bc-2b3249743929"
      },
      "outputs": [
        {
          "name": "stdout",
          "output_type": "stream",
          "text": [
            "Sample Mean (𝑥̄): $13270.42\n",
            "Sample Standard Deviation (s): $12110.01\n",
            "Sample Size (n): 1338\n"
          ]
        }
      ],
      "source": [
        "import numpy as np\n",
        "from scipy import stats\n",
        "\n",
        "# Calculate sample mean, standard deviation, and sample size\n",
        "sample_mean = df['charges'].mean()\n",
        "sample_std = df['charges'].std()\n",
        "n = df.shape[0]\n",
        "\n",
        "print(f\"Sample Mean (𝑥̄): ${sample_mean:.2f}\")\n",
        "print(f\"Sample Standard Deviation (s): ${sample_std:.2f}\")\n",
        "print(f\"Sample Size (n): {n}\")"
      ]
    },
    {
      "cell_type": "code",
      "execution_count": null,
      "metadata": {
        "colab": {
          "base_uri": "https://localhost:8080/"
        },
        "id": "vgkJqfxyCU3v",
        "outputId": "9b615466-2227-487a-8a63-ac04cd9a3188"
      },
      "outputs": [
        {
          "name": "stdout",
          "output_type": "stream",
          "text": [
            "Z-Statistic: 0.8168\n"
          ]
        }
      ],
      "source": [
        "# Hypothesized population mean\n",
        "mu_0 = 13000\n",
        "\n",
        "# Calculate standard error\n",
        "standard_error = sample_std / np.sqrt(n)\n",
        "\n",
        "# Calculate Z statistic\n",
        "z = (sample_mean - mu_0) / standard_error\n",
        "\n",
        "print(f\"Z-Statistic: {z:.4f}\")"
      ]
    },
    {
      "cell_type": "code",
      "execution_count": null,
      "metadata": {
        "colab": {
          "base_uri": "https://localhost:8080/"
        },
        "id": "F77xLtGRCXY-",
        "outputId": "d2793c17-bb0f-4b21-d530-1fbf74ac79c2"
      },
      "outputs": [
        {
          "name": "stdout",
          "output_type": "stream",
          "text": [
            "P-Value: 0.4140\n"
          ]
        }
      ],
      "source": [
        "# Calculate p-value for two-tailed test\n",
        "p_value = 2 * (1 - stats.norm.cdf(abs(z)))\n",
        "print(f\"P-Value: {p_value:.4f}\")"
      ]
    },
    {
      "cell_type": "markdown",
      "metadata": {
        "id": "kneTAUb6Ccmm"
      },
      "source": [
        "- **If p-value ≤ 0.05:**  \n",
        "  *Reject H₀.*  \n",
        "  There is significant evidence to suggest that the average medical charge differs from \\$13,000.\n",
        "\n",
        "- **If p-value > 0.05:**  \n",
        "  *Fail to reject H₀.*  \n",
        "  There is not enough evidence to conclude that the average medical charge is different from \\$13,000."
      ]
    },
    {
      "cell_type": "markdown",
      "metadata": {
        "id": "85u3PWRSC25q"
      },
      "source": [
        "**Scenario:**  \n",
        "A pharmaceutical company claims that their new drug reduces the average recovery time for patients to **7 days**. Researchers collect a sample of patients treated with the drug and perform a one-sample hypothesis test to verify this claim.\n",
        "\n",
        "**Hypotheses:**\n",
        "- **H₀:** The average recovery time is 7 days.\n",
        "- **H₁:** The average recovery time is not 7 days.\n",
        "\n",
        "**Outcome:**  \n",
        "If the test results in a p-value of 0.03, which is less than α = 0.05, researchers would reject H₀, suggesting that the drug significantly changes the average recovery time.\n",
        "\n",
        "---"
      ]
    },
    {
      "cell_type": "markdown",
      "metadata": {
        "id": "Q91uNUKjDMUP"
      },
      "source": [
        "## **4. Confidence Intervals** 📏🔍\n",
        "\n",
        "### 🎯 **Objective**\n",
        "In this section, we'll explore **Confidence Intervals (CI)** and understand how they complement hypothesis testing. Confidence intervals provide a range of plausible values for a population parameter, offering more insight than a single point estimate.\n",
        "\n",
        "### 📚 **What is a Confidence Interval?**\n",
        "A **Confidence Interval** is a range of values, derived from sample data, that is likely to contain the true population parameter (e.g., mean) with a specified level of confidence (commonly 95%).\n",
        "\n",
        "- **95% Confidence Level:**  \n",
        "  We are 95% confident that the interval contains the true population mean.\n",
        "\n",
        "### 🏥 **Business Relevance in Medical Costs**\n",
        "Using our **Medical Cost dataset**, confidence intervals help insurance companies:\n",
        "\n",
        "- **Estimate Average Costs:** Understand the range within which the true average medical charge lies.\n",
        "- **Make Pricing Decisions:** Set premiums based on reliable estimates of average costs.\n",
        "- **Assess Risk:** Determine the variability and uncertainty in medical charges to manage financial risk.\n",
        "\n",
        "### 📌 **Connecting Confidence Intervals to Hypothesis Testing**\n",
        "- **Hypothesis Testing:**  \n",
        "  Tests a specific claim (e.g., average charge is \\$13,000) and provides a decision to reject or fail to reject the null hypothesis.\n",
        "\n",
        "- **Confidence Intervals:**  \n",
        "  Provide a range of plausible values for the population mean and indicate whether a specific value (e.g., \\$13,000) lies within this range.\n",
        "\n",
        "**Key Insight:**  \n",
        "If the hypothesized value (\\$13,000) lies **outside** the 95% CI, it suggests that the average medical charge is significantly different from \\$13,000, aligning with rejecting the null hypothesis in hypothesis testing.\n",
        "\n",
        "### 🧮 **Calculating a 95% Confidence Interval for Mean Charges**\n",
        "\n",
        "Let's calculate the 95% Confidence Interval for the average medical charges in our dataset."
      ]
    },
    {
      "cell_type": "code",
      "execution_count": null,
      "metadata": {
        "colab": {
          "base_uri": "https://localhost:8080/"
        },
        "id": "_6Jeo2kdCa2W",
        "outputId": "2511802d-08f2-4f13-d7fe-85bcbb61b00f"
      },
      "outputs": [
        {
          "name": "stdout",
          "output_type": "stream",
          "text": [
            "Sample Mean (𝑥̄): $13270.42\n",
            "Sample Standard Deviation (s): $12110.01\n",
            "Sample Size (n): 1338\n"
          ]
        }
      ],
      "source": [
        "# Sample statistics\n",
        "sample_mean = df['charges'].mean()\n",
        "sample_std = df['charges'].std()\n",
        "n = df.shape[0]\n",
        "\n",
        "# Display the statistics\n",
        "print(f\"Sample Mean (𝑥̄): ${sample_mean:.2f}\")\n",
        "print(f\"Sample Standard Deviation (s): ${sample_std:.2f}\")\n",
        "print(f\"Sample Size (n): {n}\")"
      ]
    },
    {
      "cell_type": "code",
      "execution_count": null,
      "metadata": {
        "colab": {
          "base_uri": "https://localhost:8080/"
        },
        "id": "iqrdEmVCDQeH",
        "outputId": "6c6bcd64-83cd-4a15-bc0b-8132c5c24a76"
      },
      "outputs": [
        {
          "name": "stdout",
          "output_type": "stream",
          "text": [
            "95% Confidence Interval for Mean Charges: ($12621.54, $13919.30)\n"
          ]
        }
      ],
      "source": [
        "# Define confidence level\n",
        "confidence_level = 0.95\n",
        "\n",
        "# Calculate the standard error\n",
        "standard_error = sample_std / np.sqrt(n)\n",
        "\n",
        "# Determine the critical value for 95% confidence\n",
        "z_critical = stats.norm.ppf((1 + confidence_level) / 2)\n",
        "\n",
        "# Calculate the margin of error\n",
        "margin_of_error = z_critical * standard_error\n",
        "\n",
        "# Determine the confidence interval\n",
        "ci_lower = sample_mean - margin_of_error\n",
        "ci_upper = sample_mean + margin_of_error\n",
        "\n",
        "print(f\"95% Confidence Interval for Mean Charges: (${ci_lower:.2f}, ${ci_upper:.2f})\")"
      ]
    },
    {
      "cell_type": "markdown",
      "metadata": {
        "id": "uZSxHY78DV75"
      },
      "source": [
        "- **Interpretation:**  \n",
        "  We are 95% confident that the true average medical charge lies between \\$12,620 and \\$13,919.\n",
        "\n",
        "- **Decision Based on Hypothesis Testing:**\n",
        "  - **If \\$13,000 is within the CI:**  \n",
        "    *Fail to reject H₀.*  \n",
        "    There is insufficient evidence to say the average charge differs from \\$13,000.\n",
        "\n",
        "  - **If \\$13,000 is outside the CI:**  \n",
        "    *Reject H₀.*  \n",
        "    There is sufficient evidence to conclude that the average charge is different from \\$13,000."
      ]
    },
    {
      "cell_type": "markdown",
      "metadata": {
        "id": "XMpRnvM0DdE_"
      },
      "source": [
        "**Scenario:**  \n",
        "An insurance company wants to estimate the average medical charges for their policyholders to set appropriate premium rates.\n",
        "\n",
        "**Action:**  \n",
        "They calculate a 95% confidence interval for the mean charges.\n",
        "\n",
        "**Outcome:**  \n",
        "If the interval is (\\$12,800, \\$13,200), and their current pricing is based on \\$13,000, they can be confident that their pricing strategy is aligned with the actual average charges.\n",
        "\n",
        "---"
      ]
    },
    {
      "cell_type": "markdown",
      "metadata": {
        "id": "ZAes0fZcEUJ-"
      },
      "source": [
        "## **5. Applied Scenarios & Practice Problems** 🧩💡\n",
        "\n",
        "### 🎯 **Objective**\n",
        "To reinforce the concepts learned, we'll work through real-life scenarios using different columns from our **Medical Cost dataset**. These examples will integrate **Hypothesis Testing Fundamentals**, **One-Sample Tests**, and **Confidence Intervals**. By the end of this section, you'll be able to apply these concepts confidently to various data-driven questions."
      ]
    },
    {
      "cell_type": "markdown",
      "metadata": {
        "id": "oWT9E4h4EZDS"
      },
      "source": [
        "### 📚 **Scenario 1: Evaluating BMI Influence on Medical Charges**\n",
        "\n",
        "**Business Context:**  \n",
        "A health organization wants to assess whether individuals with a BMI greater than 30 have higher medical charges compared to the national average. This insight can help in designing targeted health programs.\n",
        "\n",
        "#### 📝 **Question 2:**\n",
        "*Do individuals with a BMI greater than 30 have average medical charges significantly different from \\$13,000?*\n",
        "\n",
        "#### 🔍 **Step-by-Step Solution**\n",
        "\n",
        "1. **Define the Hypotheses:**\n",
        "   - **<font color=\"magenta\">Null Hypothesis (H₀)</font>:**  \n",
        "     The average medical charge for individuals with BMI > 30 is \\$13,000.\n",
        "     $\n",
        "     H₀: \\mu = 13,000\n",
        "     $\n",
        "     \n",
        "   - **<font color=\"magenta\">Alternative Hypothesis (H₁)</font>:**  \n",
        "     The average medical charge for individuals with BMI > 30 is not \\$13,000.\n",
        "     $\n",
        "     H₁: \\mu \\neq 13,000\n",
        "     $\n",
        "\n",
        "2. **Choose the Significance Level (α):**  \n",
        "   Set at **0.05** (5%).\n",
        "\n",
        "3. **Filter the Dataset for Individuals with BMI > 30:**"
      ]
    },
    {
      "cell_type": "code",
      "execution_count": null,
      "metadata": {
        "id": "ngBmGvzkDS2-"
      },
      "outputs": [],
      "source": [
        "# Filter the dataset for individuals with BMI > 30\n",
        "df_bmi_over_30 = df[df['bmi'] > 30]"
      ]
    },
    {
      "cell_type": "code",
      "execution_count": null,
      "metadata": {
        "colab": {
          "base_uri": "https://localhost:8080/"
        },
        "id": "3OwMd-NHEcNe",
        "outputId": "34ad76d0-1d0c-4a25-e8d9-32a997fc459b"
      },
      "outputs": [
        {
          "name": "stdout",
          "output_type": "stream",
          "text": [
            "Sample Mean (𝑥̄): $15560.93\n",
            "Sample Standard Deviation (s): $14563.06\n",
            "Sample Size (n): 705\n"
          ]
        }
      ],
      "source": [
        "# 4. Calculate sample mean, standard deviation, and sample size\n",
        "sample_mean_bmi = df_bmi_over_30['charges'].mean()\n",
        "sample_std_bmi = df_bmi_over_30['charges'].std()\n",
        "n_bmi = df_bmi_over_30.shape[0]\n",
        "\n",
        "print(f\"Sample Mean (𝑥̄): ${sample_mean_bmi:.2f}\")\n",
        "print(f\"Sample Standard Deviation (s): ${sample_std_bmi:.2f}\")\n",
        "print(f\"Sample Size (n): {n_bmi}\")"
      ]
    },
    {
      "cell_type": "code",
      "execution_count": null,
      "metadata": {
        "colab": {
          "base_uri": "https://localhost:8080/"
        },
        "id": "PfpK-S-DEc-3",
        "outputId": "79258a1b-d16c-4658-9569-469a16876929"
      },
      "outputs": [
        {
          "name": "stdout",
          "output_type": "stream",
          "text": [
            "Z-Statistic: 4.6692\n"
          ]
        }
      ],
      "source": [
        "# 5. Hypothesized population mean\n",
        "mu_0 = 13000\n",
        "\n",
        "# Calculate standard error\n",
        "standard_error_bmi = sample_std_bmi / np.sqrt(n_bmi)\n",
        "\n",
        "# Calculate Z statistic\n",
        "z_bmi = (sample_mean_bmi - mu_0) / standard_error_bmi\n",
        "\n",
        "print(f\"Z-Statistic: {z_bmi:.4f}\")"
      ]
    },
    {
      "cell_type": "code",
      "execution_count": null,
      "metadata": {
        "colab": {
          "base_uri": "https://localhost:8080/"
        },
        "id": "60LA02cbEhau",
        "outputId": "53011d3b-6fbf-4e12-cea8-c53595cd365d"
      },
      "outputs": [
        {
          "name": "stdout",
          "output_type": "stream",
          "text": [
            "P-Value: 0.0000\n"
          ]
        }
      ],
      "source": [
        "# 6. Calculate p-value for two-tailed test\n",
        "p_value_bmi = 2 * (1 - stats.norm.cdf(abs(z_bmi)))\n",
        "print(f\"P-Value: {p_value_bmi:.4f}\")"
      ]
    },
    {
      "cell_type": "markdown",
      "metadata": {
        "id": "0s8TiGv-EmGK"
      },
      "source": [
        "7. **Make a Decision:**\n",
        "   - **If p-value ≤ 0.05:** Reject H₀.\n",
        "   - **If p-value > 0.05:** Fail to reject H₀."
      ]
    },
    {
      "cell_type": "markdown",
      "metadata": {
        "id": "4mgN2xpSEzwG"
      },
      "source": [
        "### 📚 **Scenario 2: Analyzing the Effect of Smoking Status on Medical Charges**\n",
        "\n",
        "**Business Context:**  \n",
        "An insurance company suspects that smokers incur higher medical charges than non-smokers. They aim to quantify this difference to adjust their premium rates accordingly.\n",
        "\n",
        "#### 📝 **Question 3:**\n",
        "*Is the average medical charge for smokers significantly higher than for non-smokers?*\n",
        "\n",
        "#### 🔍 **Step-by-Step Solution**\n",
        "\n",
        "1. **Define the Hypotheses:**\n",
        "   - **<font color=\"magenta\">Null Hypothesis (H₀)</font>:**  \n",
        "     The average medical charge for smokers is equal to that of non-smokers.\n",
        "     $\n",
        "     H₀: \\mu_{\\text{smokers}} = \\mu_{\\text{non-smokers}}\n",
        "     $\n",
        "     \n",
        "   - **<font color=\"magenta\">Alternative Hypothesis (H₁}</font>:**  \n",
        "     The average medical charge for smokers is higher than that of non-smokers.\n",
        "     $\n",
        "     H₁: \\mu_{\\text{smokers}} > \\mu_{\\text{non-smokers}}\n",
        "     $\n",
        "\n",
        "2. **Choose the Significance Level (α):**  \n",
        "   Set at **0.05** (5%).\n",
        "\n",
        "3. **Separate the Dataset into Smokers and Non-Smokers:**"
      ]
    },
    {
      "cell_type": "code",
      "execution_count": null,
      "metadata": {
        "id": "sdxUnpWGEjTl"
      },
      "outputs": [],
      "source": [
        "# Separate smokers and non-smokers\n",
        "smokers = df[df['smoker'] == 'yes']['charges']\n",
        "non_smokers = df[df['smoker'] == 'no']['charges']"
      ]
    },
    {
      "cell_type": "code",
      "execution_count": null,
      "metadata": {
        "colab": {
          "base_uri": "https://localhost:8080/"
        },
        "id": "CHuggUnLE2Et",
        "outputId": "67dccab5-85c5-48d1-97a1-83bd0600abff"
      },
      "outputs": [
        {
          "name": "stdout",
          "output_type": "stream",
          "text": [
            "Smokers - Mean: $32050.23, Std Dev: $11541.55, Sample Size: 274\n",
            "Non-Smokers - Mean: $8434.27, Std Dev: $5993.78, Sample Size: 1064\n"
          ]
        }
      ],
      "source": [
        "# 4. Calculate means and standard deviations\n",
        "mean_smokers = smokers.mean()\n",
        "std_smokers = smokers.std()\n",
        "n_smokers = smokers.shape[0]\n",
        "\n",
        "mean_non_smokers = non_smokers.mean()\n",
        "std_non_smokers = non_smokers.std()\n",
        "n_non_smokers = non_smokers.shape[0]\n",
        "\n",
        "print(f\"Smokers - Mean: ${mean_smokers:.2f}, Std Dev: ${std_smokers:.2f}, Sample Size: {n_smokers}\")\n",
        "print(f\"Non-Smokers - Mean: ${mean_non_smokers:.2f}, Std Dev: ${std_non_smokers:.2f}, Sample Size: {n_non_smokers}\")"
      ]
    },
    {
      "cell_type": "code",
      "execution_count": null,
      "metadata": {
        "colab": {
          "base_uri": "https://localhost:8080/"
        },
        "id": "Ute245v-E5wq",
        "outputId": "ce43034c-526f-4dce-eda4-1df917fcfdcf"
      },
      "outputs": [
        {
          "name": "stdout",
          "output_type": "stream",
          "text": [
            "Z-Statistic: 32.7519\n"
          ]
        }
      ],
      "source": [
        "# 5. Calculate standard error\n",
        "standard_error = np.sqrt((std_smokers**2) / n_smokers + (std_non_smokers**2) / n_non_smokers)\n",
        "\n",
        "# Calculate Z statistic\n",
        "z = (mean_smokers - mean_non_smokers) / standard_error\n",
        "\n",
        "print(f\"Z-Statistic: {z:.4f}\")"
      ]
    },
    {
      "cell_type": "code",
      "execution_count": null,
      "metadata": {
        "colab": {
          "base_uri": "https://localhost:8080/"
        },
        "id": "U6vae7CPE_rl",
        "outputId": "277ed3a2-88fb-471d-e006-f916fdddb638"
      },
      "outputs": [
        {
          "name": "stdout",
          "output_type": "stream",
          "text": [
            "P-Value: 0.0000\n"
          ]
        }
      ],
      "source": [
        "# Calculate p-value for one-tailed test\n",
        "p_value = 1 - stats.norm.cdf(z)\n",
        "print(f\"P-Value: {p_value:.4f}\")"
      ]
    },
    {
      "cell_type": "markdown",
      "metadata": {
        "id": "r_AGXa8HFCjY"
      },
      "source": [
        "7. **Make a Decision:**\n",
        "   - **If p-value ≤ 0.05:** Reject H₀.\n",
        "   - **If p-value > 0.05:** Fail to reject H₀.\n",
        "\n",
        "---"
      ]
    },
    {
      "cell_type": "code",
      "execution_count": null,
      "metadata": {
        "id": "esqF7_sNFBSs"
      },
      "outputs": [],
      "source": []
    }
  ],
  "metadata": {
    "colab": {
      "provenance": []
    },
    "kernelspec": {
      "display_name": "Python 3",
      "name": "python3"
    },
    "language_info": {
      "name": "python"
    }
  },
  "nbformat": 4,
  "nbformat_minor": 0
}
