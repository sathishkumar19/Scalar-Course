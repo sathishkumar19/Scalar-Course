{
 "cells": [
  {
   "cell_type": "markdown",
   "metadata": {},
   "source": [
    "Q3. Index of Pokédex\n",
    "\n",
    "Problem Statement:\n",
    "\n",
    "Given a 1D array, return the first and last elements from the array.\n",
    "Input Format:\n",
    "\n",
    "A 1D numpy array\n",
    "Output Format:\n",
    "\n",
    "A tuple (first_element, last_element)\n",
    "Sample Input:\n",
    "\n",
    "[0, 1, 2, 3, 4, 5]\n",
    "Sample Output:\n",
    "\n",
    "(0, 5)"
   ]
  },
  {
   "cell_type": "code",
   "execution_count": 14,
   "metadata": {},
   "outputs": [
    {
     "data": {
      "text/plain": [
       "(24, 27)"
      ]
     },
     "execution_count": 14,
     "metadata": {},
     "output_type": "execute_result"
    }
   ],
   "source": [
    "import numpy as np\n",
    "\n",
    "def get_elements(arr):\n",
    "    '''\n",
    "    INPUT: arr -> 1D numpy array\n",
    "    \n",
    "    OUTPUT elements -> tuple of first and last element.\n",
    "    '''\n",
    "    arr = np.array([24,25,26,27,27])\n",
    "    \n",
    "    first_element = arr[0]\n",
    "    \n",
    "    last_element = arr[-1]\n",
    "    \n",
    "    return (first_element, last_element)\n",
    "  \n",
    "\n",
    "get_elements(2)"
   ]
  },
  {
   "cell_type": "code",
   "execution_count": 10,
   "metadata": {},
   "outputs": [
    {
     "name": "stdout",
     "output_type": "stream",
     "text": [
      "first_element: 0\n",
      "last_element: 5\n"
     ]
    }
   ],
   "source": [
    "import numpy as np\n",
    "    \n",
    "data = np.array([0, 1, 2, 3, 4, 5])\n",
    "    \n",
    "first_element = data[0]\n",
    "    \n",
    "last_element = data[-1]\n",
    "\n",
    "print(\"first_element:\", first_element)\n",
    "print(\"last_element:\", last_element)"
   ]
  },
  {
   "cell_type": "code",
   "execution_count": null,
   "metadata": {},
   "outputs": [],
   "source": [
    "# Correct Answer    \n",
    "import numpy as np\n",
    "\n",
    "def get_elements(arr):\n",
    "    '''\n",
    "    INPUT: arr -> 1D numpy array\n",
    "    \n",
    "    OUTPUT elements -> tuple of first and last element.\n",
    "    '''\n",
    "    array = np.array(arr)\n",
    "    \n",
    "    first_element = array[0]\n",
    "    \n",
    "    last_element = array[-1]\n",
    "    \n",
    "    return (first_element, last_element)"
   ]
  },
  {
   "cell_type": "markdown",
   "metadata": {},
   "source": [
    "Q2 \n",
    "a. Write the code using np.arange() to get all even numbers between 21 and 70, (70 inclusive)\n",
    "\n",
    "b. Write the code using np.arange() to get all odd numbers between 20 and 71. (71 inclusive)\n",
    "\n",
    "Which options correctly answer questions a and b?\n",
    "\n"
   ]
  },
  {
   "cell_type": "code",
   "execution_count": 36,
   "metadata": {},
   "outputs": [
    {
     "name": "stdout",
     "output_type": "stream",
     "text": [
      "[22 24 26 28 30 32 34 36 38 40 42 44 46 48 50 52 54 56 58 60 62 64 66 68\n",
      " 70]\n",
      "[21 23 25 27 29 31 33 35 37 39 41 43 45 47 49 51 53 55 57 59 61 63 65 67\n",
      " 69]\n",
      "[20 22 24 26 28 30 32 34 36 38 40 42 44 46 48 50 52 54 56 58 60 62 64 66\n",
      " 68 70]\n",
      "[21 23 25 27 29 31 33 35 37 39 41 43 45 47 49 51 53 55 57 59 61 63 65 67\n",
      " 69 71]\n"
     ]
    }
   ],
   "source": [
    "\n",
    "import numpy as np\n",
    "    \n",
    "#data = np.arange(21,71)\n",
    "\n",
    "#a1 = np.arange(20,72,2)\n",
    "#print(a1)\n",
    "#a2 = np.arrnag\n",
    "#b = np.arrange(22,71,2)\n",
    "#data1 = data %2== True \n",
    "#data2 = data %3== True\n",
    "#print(b)\n",
    "#print(data1)\n",
    "#print(data2)\n",
    "\n",
    "#first_element = data[0]\n",
    "    \n",
    "#last_element = data[-1]\n",
    "\n",
    "#print(\"first_element:\", first_element)\n",
    "#print(\"last_element:\", last_element)\n",
    "\n",
    "a1 = np.arange(22,71,2)\n",
    "print(a1)\n",
    "a2 = np.arange(21,70,2)\n",
    "print(a2)\n",
    "b1 = np.arange(20,72,2)\n",
    "print(b1)\n",
    "b2 = np.arange(21,72,2)\n",
    "print(b2)\n",
    "\n"
   ]
  },
  {
   "cell_type": "markdown",
   "metadata": {},
   "source": [
    "\n",
    "Q2. Rotate the array\n",
    "Unsolved\n",
    "feature icon\n",
    "Using hints except Complete Solution is Penalty free now\n",
    "Use Hint\n",
    "Given an array in form of a matrix of size (n, n), rotate the matrix clockwise by 90º.\n",
    "\n",
    "Input Format:\n",
    "\n",
    "A 2d numpy array\n",
    "Output Format:\n",
    "\n",
    "A 2d numpy array\n",
    "Sample Input:\n",
    "\n",
    "[[1 2 3] \n",
    " [4 5 6]\n",
    " [7 8 9]]\n",
    "Sample Output:\n",
    "\n",
    "[[7 4 1]\n",
    " [8 5 2]\n",
    " [9 6 3]]\n",
    "\n",
    "Note: Try Transpose / reversing."
   ]
  },
  {
   "cell_type": "code",
   "execution_count": 96,
   "metadata": {},
   "outputs": [
    {
     "name": "stdout",
     "output_type": "stream",
     "text": [
      "[[7 4 1]\n",
      " [8 5 2]\n",
      " [9 6 3]]\n"
     ]
    }
   ],
   "source": [
    "import numpy as np\n",
    "\n",
    "arr = np.array([[1,2,3],[4,5,6],[7,8,9]])\n",
    "print(np.rot90(arr,3))"
   ]
  },
  {
   "cell_type": "code",
   "execution_count": 105,
   "metadata": {},
   "outputs": [],
   "source": [
    "# Trying with Transpose method\n",
    "import numpy as np\n",
    "def rotate_img(mat):\n",
    "    '''mat -> A 2d numpy array\n",
    "       output -> A 2d numpy array is expected to be returned'''\n",
    "    arr1 = mat.T\n",
    "    return arr1[:,::-1]"
   ]
  },
  {
   "cell_type": "markdown",
   "metadata": {},
   "source": [
    "# Q4; Comparision Returns\n",
    "a = np.array([100, 200, 300, 400])\n",
    "\n",
    "b = np.array([300, 200, 100, 400])\n",
    "\n",
    "print(a == b)"
   ]
  },
  {
   "cell_type": "code",
   "execution_count": 68,
   "metadata": {},
   "outputs": [
    {
     "name": "stdout",
     "output_type": "stream",
     "text": [
      "[False  True False  True]\n"
     ]
    }
   ],
   "source": [
    "a = np.array([100, 200, 300, 400])\n",
    "\n",
    "b = np.array([300, 200, 100, 400])\n",
    "\n",
    "print(a == b)"
   ]
  },
  {
   "cell_type": "markdown",
   "metadata": {},
   "source": [
    "Q5. Cast a type\n",
    "Unsolved\n",
    "feature icon\n",
    "Using hints except Complete Solution is Penalty free now\n",
    "Use Hint\n",
    "Raghu has created a numpy array arr using the following code:\n",
    "\n",
    "import numpy as np\n",
    "arr = np.array([10, 20, 30, 40, 50])\n",
    "He wants to change the data type from integer to float.Which of the following is the correct approach to do so?"
   ]
  },
  {
   "cell_type": "code",
   "execution_count": 73,
   "metadata": {},
   "outputs": [
    {
     "ename": "TypeError",
     "evalue": "only length-1 arrays can be converted to Python scalars",
     "output_type": "error",
     "traceback": [
      "\u001b[0;31m---------------------------------------------------------------------------\u001b[0m",
      "\u001b[0;31mTypeError\u001b[0m                                 Traceback (most recent call last)",
      "Cell \u001b[0;32mIn[73], line 5\u001b[0m\n\u001b[1;32m      2\u001b[0m arr \u001b[38;5;241m=\u001b[39m np\u001b[38;5;241m.\u001b[39marray([\u001b[38;5;241m10\u001b[39m, \u001b[38;5;241m20\u001b[39m, \u001b[38;5;241m30\u001b[39m, \u001b[38;5;241m40\u001b[39m, \u001b[38;5;241m50\u001b[39m])\n\u001b[1;32m      4\u001b[0m \u001b[38;5;66;03m#arr.astype('float64')\u001b[39;00m\n\u001b[0;32m----> 5\u001b[0m \u001b[38;5;28mfloat\u001b[39m(arr)\n\u001b[1;32m      7\u001b[0m \u001b[38;5;28mprint\u001b[39m(arr)\n",
      "\u001b[0;31mTypeError\u001b[0m: only length-1 arrays can be converted to Python scalars"
     ]
    }
   ],
   "source": [
    "import numpy as np\n",
    "arr = np.array([10, 20, 30, 40, 50])\n",
    "\n",
    "#arr.astype('float64')\n",
    "\n",
    "print(arr)\n",
    "\n"
   ]
  },
  {
   "cell_type": "markdown",
   "metadata": {},
   "source": [
    "Q6. Transpose Reshaped\n",
    "Unsolved\n",
    "feature icon\n",
    "Using hints except Complete Solution is Penalty free now\n",
    "Use Hint\n",
    "What would the following code print?\n",
    "\n",
    "import numpy as np\n",
    "a = np.array([[6, 28], [8, 56], [7, 19]])\n",
    "x = np.transpose(a).reshape(1,6)\n",
    "print(x)"
   ]
  },
  {
   "cell_type": "code",
   "execution_count": 74,
   "metadata": {},
   "outputs": [
    {
     "name": "stdout",
     "output_type": "stream",
     "text": [
      "[[ 6  8  7 28 56 19]]\n"
     ]
    }
   ],
   "source": [
    "import numpy as np\n",
    "a = np.array([[6, 28], [8, 56], [7, 19]])\n",
    "x = np.transpose(a).reshape(1,6)\n",
    "print(x)"
   ]
  },
  {
   "cell_type": "markdown",
   "metadata": {},
   "source": [
    "Q7. Distinction\n",
    "\n",
    "You are given a numpy array containing marks of students in a class. The student gets distinction or first-division on the basis of the below criteria.\n",
    "\n",
    "marks >= 80 : Distinction\n",
    "\n",
    "60 <= marks < 80 : First Division\n",
    "\n",
    "Find the ratio of number of students who got distinction to the number of students who got first division.\n",
    "\n",
    "Sample Input-\n",
    "\n",
    "array([20, 35, 68, 82, 83, 70, 90])\n",
    "Sample Output-\n",
    "\n",
    "1.5\n",
    "Sample Explanation-\n",
    "\n",
    "Distinction marks are 82, 83 and 90. So, 3 distinctions. First division marks are 68, 70. So 2 first divisions. Ratio = 3/2 = 1.5."
   ]
  },
  {
   "cell_type": "code",
   "execution_count": 133,
   "metadata": {},
   "outputs": [
    {
     "ename": "TypeError",
     "evalue": "'>=' not supported between instances of 'list' and 'int'",
     "output_type": "error",
     "traceback": [
      "\u001b[0;31m---------------------------------------------------------------------------\u001b[0m",
      "\u001b[0;31mTypeError\u001b[0m                                 Traceback (most recent call last)",
      "Cell \u001b[0;32mIn[133], line 14\u001b[0m\n\u001b[1;32m     10\u001b[0m     ratio \u001b[38;5;241m=\u001b[39m distinction_count\u001b[38;5;241m/\u001b[39mfirst_div_count\n\u001b[1;32m     12\u001b[0m     \u001b[38;5;28;01mreturn\u001b[39;00m \u001b[38;5;28mround\u001b[39m(ratio,\u001b[38;5;241m2\u001b[39m)\n\u001b[0;32m---> 14\u001b[0m ratio([\u001b[38;5;241m20\u001b[39m, \u001b[38;5;241m35\u001b[39m, \u001b[38;5;241m68\u001b[39m, \u001b[38;5;241m82\u001b[39m, \u001b[38;5;241m83\u001b[39m, \u001b[38;5;241m70\u001b[39m, \u001b[38;5;241m90\u001b[39m])\n",
      "Cell \u001b[0;32mIn[133], line 4\u001b[0m, in \u001b[0;36mratio\u001b[0;34m(marks_arr)\u001b[0m\n\u001b[1;32m      2\u001b[0m \u001b[38;5;28;01mdef\u001b[39;00m \u001b[38;5;21mratio\u001b[39m(marks_arr):\n\u001b[1;32m      3\u001b[0m     \u001b[38;5;66;03m# Complete the missing code\u001b[39;00m\n\u001b[0;32m----> 4\u001b[0m     distinction \u001b[38;5;241m=\u001b[39m (marks_arr \u001b[38;5;241m>\u001b[39m\u001b[38;5;241m=\u001b[39m \u001b[38;5;241m80\u001b[39m)\u001b[38;5;241m.\u001b[39msum() \u001b[38;5;66;03m# Use masking to get the values\u001b[39;00m\n\u001b[1;32m      5\u001b[0m     first_div \u001b[38;5;241m=\u001b[39m np\u001b[38;5;241m.\u001b[39mma(marks_arr\u001b[38;5;241m<\u001b[39m\u001b[38;5;241m=\u001b[39m\u001b[38;5;241m60\u001b[39m)\u001b[38;5;241m.\u001b[39msum() \u001b[38;5;66;03m# Use masking to get the values\u001b[39;00m\n\u001b[1;32m      7\u001b[0m     distinction_count \u001b[38;5;241m=\u001b[39m \u001b[38;5;28mlen\u001b[39m(distinction)\n",
      "\u001b[0;31mTypeError\u001b[0m: '>=' not supported between instances of 'list' and 'int'"
     ]
    }
   ],
   "source": [
    "import numpy as np\n",
    "def ratio(marks_arr):\n",
    "    # Complete the missing code\n",
    "    distinction = (marks_arr >= 80).sum() # Use masking to get the values\n",
    "    first_div = np.ma(marks_arr<=60).sum() # Use masking to get the values\n",
    "    \n",
    "    distinction_count = len(distinction)\n",
    "    first_div_count = len(first_div)\n",
    "    \n",
    "    ratio = distinction_count/first_div_count\n",
    "    \n",
    "    return round(ratio,2)\n",
    "\n",
    "ratio([20, 35, 68, 82, 83, 70, 90])\n"
   ]
  },
  {
   "cell_type": "code",
   "execution_count": 136,
   "metadata": {},
   "outputs": [],
   "source": [
    "import numpy as np\n",
    "def ratio(marks_arr):\n",
    "    # Complete the missing code\n",
    "    distinction = (marks_arr >= 80).sum() # Use masking to get the values\n",
    "    first_div = ((marks_arr >=60) & (marks_arr <80)).sum() # Use masking to get the values\n",
    "    \n",
    "    #distinction_count = len(distinction)\n",
    "    #first_div_count = len(first_div)\n",
    "    \n",
    "    ratio = distinction/first_div\n",
    "    \n",
    "    return round(ratio,2)"
   ]
  },
  {
   "cell_type": "markdown",
   "metadata": {},
   "source": []
  },
  {
   "cell_type": "code",
   "execution_count": 122,
   "metadata": {},
   "outputs": [
    {
     "name": "stdout",
     "output_type": "stream",
     "text": [
      "1.0\n",
      "21\n"
     ]
    }
   ],
   "source": [
    "#Mark the options which are true about the outputs for code snippets a and b.\n",
    "\n",
    "#Code Snippet a:\n",
    "\n",
    "import numpy as np\n",
    "x = np.array([[200,200,200],[300,300,300],[400,400,400]])\n",
    "v = np.array([200,300,400])\n",
    "print((x / v[:,None])[1][1]) \n",
    "\n",
    "#Code Snippet b:\n",
    "\n",
    "import numpy as np\n",
    "p = np.array([[0], [10], [20]])\n",
    "q = np.array([10, 11, 12]) \n",
    "print((p + q)[1][1]) "
   ]
  },
  {
   "cell_type": "markdown",
   "metadata": {},
   "source": [
    "'''Q2. Extract sub array\n",
    "\n",
    "Problem Statement:\n",
    "\n",
    "Given a 2d array, write a program to return a subarray such that the subarray consists of the elements from:\n",
    "\n",
    "1. the second to the fourth row of the original array,\n",
    "\n",
    "2. the elements in these rows should be from the last three columns of the corresponding rows of the original array,\n",
    "\n",
    "3. the rows should be in reversed order.\n",
    "\n",
    "Sample Input:\n",
    "'''\n",
    "\n",
    "[[ 0,  1,  2,  3],  \n",
    " [ 4,  5,  6,  7],   \n",
    " [ 8,  9, 10, 11],   \n",
    " [12, 13, 14, 15],   \n",
    " [16, 17, 18, 19]]\n",
    "\n",
    "#Sample Output:\n",
    "\n",
    "array([[13, 14, 15],  \n",
    "       [ 9, 10, 11], \n",
    "       [ 5,  6,  7]])\n",
    "#Input Format:\n",
    "\n",
    "A 2D list\n",
    "Output Format:\n",
    "\n",
    "A 2D numpy array\n",
    "Note:\n",
    "\n",
    "This question can be solved using negative indexing and slicing"
   ]
  },
  {
   "cell_type": "code",
   "execution_count": 124,
   "metadata": {},
   "outputs": [
    {
     "data": {
      "text/plain": [
       "array([[13, 14, 15],\n",
       "       [ 9, 10, 11],\n",
       "       [ 5,  6,  7]])"
      ]
     },
     "execution_count": 124,
     "metadata": {},
     "output_type": "execute_result"
    }
   ],
   "source": [
    "import numpy as np\n",
    "\n",
    "def extract_subarray(arr):\n",
    "    '''\n",
    "    INPUT: arr -> 2D array\n",
    "    \n",
    "    OUPUT: result -> 2D array\n",
    "    '''\n",
    "    arr = np.array([[ 0,  1,  2,  3], [ 4,  5,  6,  7], [ 8,  9, 10, 11], [12, 13, 14, 15], [16, 17, 18, 19]])\n",
    "    ### STEP1: Get the rows (2nd  to 4th row)\n",
    "    \n",
    "    row_array = arr[1:4]\n",
    "    \n",
    "    #### STEP 2: Get the last 3 cols from the row array\n",
    "    \n",
    "    cols_array = row_array[:,-3:]\n",
    "    \n",
    "    #### STEP3: Reverse the rows in cols array\n",
    "    \n",
    "    result = cols_array[::-1]\n",
    "    \n",
    "\n",
    "    return result\n",
    "\n",
    "extract_subarray(arr)"
   ]
  },
  {
   "cell_type": "markdown",
   "metadata": {},
   "source": [
    "Q3. ORDER ORDER ORDER\n",
    "\n",
    "Problem Statement:\n",
    "\n",
    "Given a 2D numpy array, return array with its values in the column reversed.\n",
    "Input Format:\n",
    "\n",
    "A 2D numpy array\n",
    "Output Format:\n",
    "\n",
    "A 2D numpy array\n",
    "Sample Input:\n",
    "\n",
    "[[0, 1, 2], \n",
    " [3, 4, 5], \n",
    " [6, 7, 8]]\n",
    "Sample Output:\n",
    "\n",
    "[[2, 1, 0], \n",
    " [5, 4, 3], \n",
    " [8, 7, 6]]\n",
    "P.S : Think about how we reverse list in python."
   ]
  },
  {
   "cell_type": "code",
   "execution_count": 127,
   "metadata": {},
   "outputs": [
    {
     "data": {
      "text/plain": [
       "array([90, 70, 83, 82, 68, 35, 20])"
      ]
     },
     "execution_count": 127,
     "metadata": {},
     "output_type": "execute_result"
    }
   ],
   "source": [
    "import numpy as np\n",
    "\n",
    "def reverse_column(arr):\n",
    "    '''\n",
    "    INPUT: arr -> 2D array \n",
    "    \n",
    "    OUTPUT rev_arr -> 2D array\n",
    "    '''\n",
    "    \n",
    "    rev_arr = arr[::-1]\n",
    "    \n",
    "    return rev_arr\n",
    "\n",
    "reverse_column(arr)"
   ]
  },
  {
   "cell_type": "markdown",
   "metadata": {},
   "source": [
    "Q4. Cast a type\n",
    "\n",
    "Raghu has created a numpy array arr using the following code:\n",
    "\n",
    "import numpy as np\n",
    "arr = np.array([10, 20, 30, 40, 50])\n",
    "He wants to change the data type from integer to float.Which of the following is the correct approach to do so?"
   ]
  },
  {
   "cell_type": "code",
   "execution_count": 131,
   "metadata": {},
   "outputs": [
    {
     "name": "stdout",
     "output_type": "stream",
     "text": [
      "[10. 20. 30. 40. 50.]\n"
     ]
    }
   ],
   "source": [
    "import numpy as np\n",
    "arr = np.array([10, 20, 30, 40, 50])\n",
    "\n",
    "print(arr.astype('float64'))"
   ]
  },
  {
   "cell_type": "markdown",
   "metadata": {},
   "source": [
    "Q5. Batchmate's code\n",
    "\n",
    "Your batchmate writes the following code :\n",
    "\n",
    "import numpy as np\n",
    "a = np.array([[16, 5], [81, 6], [33, 1]])\n",
    "x=np.transpose(a).reshape(2,3)\n",
    "print(x.flatten())\n",
    "Which of the following is the correct output for the above code?\n",
    "\n",
    "Note:\n",
    "\n",
    "flatten() function is used to transform a multi-dimensional array into a one-dimensional array.\n",
    "In other words, it \"flattens\" a multi-dimensional array structure into a simple linear sequence."
   ]
  },
  {
   "cell_type": "code",
   "execution_count": 132,
   "metadata": {},
   "outputs": [
    {
     "name": "stdout",
     "output_type": "stream",
     "text": [
      "[16 81 33  5  6  1]\n"
     ]
    }
   ],
   "source": [
    "import numpy as np\n",
    "a = np.array([[16, 5], [81, 6], [33, 1]])\n",
    "x=np.transpose(a).reshape(2,3)\n",
    "print(x.flatten())"
   ]
  },
  {
   "cell_type": "markdown",
   "metadata": {},
   "source": [
    "Q6. Distinction\n",
    "Unsolved\n",
    "feature icon\n",
    "Using hints except Complete Solution is Penalty free now\n",
    "Use Hint\n",
    "You are given a numpy array containing marks of students in a class. The student gets distinction or first-division on the basis of the below criteria.\n",
    "\n",
    "marks >= 80 : Distinction\n",
    "\n",
    "60 <= marks < 80 : First Division\n",
    "\n",
    "Find the ratio of number of students who got distinction to the number of students who got first division.\n",
    "\n",
    "Sample Input-\n",
    "\n",
    "array([20, 35, 68, 82, 83, 70, 90])\n",
    "Sample Output-\n",
    "\n",
    "1.5\n",
    "Sample Explanation-\n",
    "\n",
    "Distinction marks are 82, 83 and 90. So, 3 distinctions. First division marks are 68, 70. So 2 first divisions. Ratio = 3/2 = 1.5."
   ]
  },
  {
   "cell_type": "markdown",
   "metadata": {},
   "source": [
    "###  Day 3\n",
    "Q1. Matrix elements\n",
    "\n",
    "\n",
    "    x = np.ones((5,5))\n",
    "    x[1:-1,1:-1] = 0"
   ]
  },
  {
   "cell_type": "code",
   "execution_count": 144,
   "metadata": {},
   "outputs": [
    {
     "name": "stdout",
     "output_type": "stream",
     "text": [
      "[[1. 1. 1. 1. 1.]\n",
      " [1. 1. 1. 1. 1.]\n",
      " [1. 1. 1. 1. 1.]\n",
      " [1. 1. 1. 1. 1.]\n",
      " [1. 1. 1. 1. 1.]]\n",
      "\n",
      " After calculation \n",
      "\n",
      " [[1. 1. 1. 1. 1.]\n",
      " [1. 0. 0. 0. 1.]\n",
      " [1. 0. 0. 0. 1.]\n",
      " [1. 0. 0. 0. 1.]\n",
      " [1. 1. 1. 1. 1.]]\n"
     ]
    }
   ],
   "source": [
    "x = np.ones((5,5))\n",
    "print(x)\n",
    "x[1:-1,1:-1] = 0\n",
    "print(\"\\n After calculation \\n\\n\",x)"
   ]
  },
  {
   "cell_type": "markdown",
   "metadata": {},
   "source": [
    "Q2. Comparing in numpy\n",
    "\n",
    "a. What is the last element of the output?\n",
    "\n",
    "    import numpy as np\n",
    "    print(np.sort(np.array(['Ram','Astha','Raghavendra'])))\n",
    "\n",
    "b. What is the output of the code snippet given below?\n",
    "\n",
    "    arr1 = np.array(['Ram','Astha','Brahat'])\n",
    "    arr2 = np.array(['Shyam','Kalyan','Naveen'])\n",
    "    arr1 > arr2\n",
    "\n",
    "Choose the options which are answers to questions a and b."
   ]
  },
  {
   "cell_type": "code",
   "execution_count": 145,
   "metadata": {},
   "outputs": [
    {
     "name": "stdout",
     "output_type": "stream",
     "text": [
      "['Astha' 'Raghavendra' 'Ram']\n"
     ]
    },
    {
     "data": {
      "text/plain": [
       "array([False, False, False])"
      ]
     },
     "execution_count": 145,
     "metadata": {},
     "output_type": "execute_result"
    }
   ],
   "source": [
    "#Q2. Comparing in numpy\n",
    "#Unsolved\n",
    "#a. What is the last element of the output?\n",
    "\n",
    "import numpy as np\n",
    "print(np.sort(np.array(['Ram','Astha','Raghavendra'])))\n",
    "\n",
    "#b. What is the output of the code snippet given below?\n",
    "\n",
    "\n",
    "arr1 = np.array(['Ram','Astha','Brahat'])\n",
    "arr2 = np.array(['Shyam','Kalyan','Naveen'])\n",
    "arr1 > arr2\n",
    "#Choose the options which are answers to questions a and b."
   ]
  },
  {
   "cell_type": "code",
   "execution_count": 160,
   "metadata": {},
   "outputs": [
    {
     "name": "stdout",
     "output_type": "stream",
     "text": [
      "[[1 2 3]\n",
      " [4 5 6]\n",
      " [7 8 9]]\n",
      "\n",
      " (3, 4)\n"
     ]
    }
   ],
   "source": [
    "#Q3. Hstack\n",
    "#Given the following array:\n",
    "\n",
    "import numpy as np\n",
    "arr = np.array([[1,2,3],\n",
    "               [4,5,6],\n",
    "               [7,8,9]])\n",
    "\n",
    "print(arr)\n",
    "#Which options are correct?\n",
    "\n",
    "#a. np.hstack((arr, arr[:, 0])).shape = (3, 4)\n",
    "a = np.hstack((arr, arr[:, [0]])).shape= (3, 4)\n",
    "print(\"\\n\", a)\n",
    "\n",
    "#np.hstack((arr,arr[:, 0]))\n",
    "\n",
    "#Note: np is the alias for NumPy in the options."
   ]
  },
  {
   "cell_type": "markdown",
   "metadata": {},
   "source": [
    "Q4. Sort the birds\n",
    "\n",
    "Given a list of birds and their corresponding age, return the name of birds sorted according to age (ascending)\n",
    "Input Format:\n",
    "\n",
    "Two 1D array list i.e. bird array and age array\n",
    "\n",
    "Output Format:\n",
    "\n",
    "A 1D array\n",
    "\n",
    "Sample Input:\n",
    "\n",
    "birds = ['spoonbills',  'plovers',  'plovers',  'plovers',  'plovers',  'Cranes',  'plovers',  'plovers',  'Cranes',  'spoonbills']\n",
    "\n",
    "age = [5.5, 6.0, 3.5, 1.5, 3.0, 4.0, 3.5, 2.0, 5.5, 6.0]\n",
    "\n",
    "Sample Output:\n",
    "\n",
    "['plovers', 'plovers', 'plovers', 'plovers', 'plovers', 'Cranes', 'spoonbills', 'Cranes', 'plovers', 'spoonbills']\n",
    "\n",
    "Side Note: Recall the functionality of .sort() and .argsort()"
   ]
  },
  {
   "cell_type": "code",
   "execution_count": 179,
   "metadata": {},
   "outputs": [
    {
     "data": {
      "text/plain": [
       "['plovers',\n",
       " 'plovers',\n",
       " 'plovers',\n",
       " 'plovers',\n",
       " 'plovers',\n",
       " 'Cranes',\n",
       " 'spoonbills',\n",
       " 'Cranes',\n",
       " 'plovers',\n",
       " 'spoonbills']"
      ]
     },
     "execution_count": 179,
     "metadata": {},
     "output_type": "execute_result"
    }
   ],
   "source": [
    "import numpy as np\n",
    "\n",
    "def sort_birds(birds, age):\n",
    "    '''\n",
    "    INPUT: birds, age -> 1D numpy array\n",
    "    \n",
    "    OUTPUT: result -> sorted bird 1D array\n",
    "    '''\n",
    "\n",
    "    ## STEP 1 : Get the sorted index of age.\n",
    "    \n",
    "    sorted_age_index = np.argsort(age)\n",
    "    \n",
    "    ## STEP 2: Use the index from previous step to get sorted birds\n",
    "    \n",
    "    result = [birds[i] for i in sorted_age_index]\n",
    "    \n",
    "    return result\n",
    "\n",
    "birds = ['spoonbills',  'plovers',  'plovers',  'plovers',  'plovers',  'Cranes',  'plovers',  'plovers',  'Cranes',  'spoonbills']\n",
    "age = [5.5, 6.0, 3.5, 1.5, 3.0, 4.0, 3.5, 2.0, 5.5, 6.0]\n",
    "\n",
    "sort_birds(birds,age)"
   ]
  },
  {
   "cell_type": "code",
   "execution_count": 190,
   "metadata": {},
   "outputs": [],
   "source": [
    "arr1 = np.array([1,2,3,6,3,2]) \n",
    "arr2 = np.array([4,2,1,3,3,2]) \n",
    "arr3 = np.zeros(len(arr1))"
   ]
  },
  {
   "cell_type": "code",
   "execution_count": 184,
   "metadata": {},
   "outputs": [
    {
     "name": "stdout",
     "output_type": "stream",
     "text": [
      "4.0\n",
      "[ 4.  4.  3. 18.  9.  4.]\n",
      "4.0\n",
      "[ 4.  4.  3. 18.  9.  4.]\n",
      "3.0\n",
      "[ 4.  4.  3. 18.  9.  4.]\n",
      "18.0\n",
      "[ 4.  4.  3. 18.  9.  4.]\n",
      "9.0\n",
      "[ 4.  4.  3. 18.  9.  4.]\n",
      "4.0\n",
      "[ 4.  4.  3. 18.  9.  4.]\n"
     ]
    }
   ],
   "source": [
    "for i in range(len(arr1)): \n",
    "    arr3[i] = arr1[i] * arr2[i] \n",
    "    print(arr3[i])\n",
    "    print(arr3)"
   ]
  },
  {
   "cell_type": "code",
   "execution_count": 186,
   "metadata": {},
   "outputs": [
    {
     "name": "stdout",
     "output_type": "stream",
     "text": [
      "[ 4  4  3 18  9  4]\n"
     ]
    }
   ],
   "source": [
    "arr3 = arr1*arr2 \n",
    "print(arr3)"
   ]
  },
  {
   "cell_type": "code",
   "execution_count": 189,
   "metadata": {},
   "outputs": [
    {
     "name": "stdout",
     "output_type": "stream",
     "text": [
      "[1 1 1 1 1 1]\n",
      "1\n"
     ]
    }
   ],
   "source": [
    "for i in range(len(arr1)): \n",
    "    if(arr1[i] < 0 ): \n",
    "        arr1[i] = -1 \n",
    "    else: \n",
    "        arr1[i] = 1\n",
    "\n",
    "print(arr1)\n",
    "print(arr1[i])"
   ]
  },
  {
   "cell_type": "code",
   "execution_count": 191,
   "metadata": {},
   "outputs": [
    {
     "data": {
      "text/plain": [
       "array([1, 1, 1, 1, 1, 1])"
      ]
     },
     "execution_count": 191,
     "metadata": {},
     "output_type": "execute_result"
    }
   ],
   "source": [
    "np.where(arr1 > 0, 1, -1)"
   ]
  },
  {
   "cell_type": "code",
   "execution_count": 203,
   "metadata": {},
   "outputs": [
    {
     "data": {
      "text/plain": [
       "array([[ 1,  4,  7],\n",
       "       [10, 13, 16]])"
      ]
     },
     "execution_count": 203,
     "metadata": {},
     "output_type": "execute_result"
    }
   ],
   "source": [
    "import numpy as np\n",
    "arr = np.array([[[ 0, 1, 2],[ 3, 4, 5],[ 6, 7, 8]], [[ 9, 10, 11], [12, 13, 14],[15, 16, 17]]])\n",
    "\n",
    "arr[:,:,1]"
   ]
  },
  {
   "cell_type": "code",
   "execution_count": 204,
   "metadata": {},
   "outputs": [
    {
     "name": "stdout",
     "output_type": "stream",
     "text": [
      "[[10 11 12 13]\n",
      " [14 15 16 17]\n",
      " [18 19 20 21]]\n"
     ]
    }
   ],
   "source": [
    "import numpy as np\n",
    "a = np.arange(10,22).reshape((3, 4))\n",
    "print(a)"
   ]
  },
  {
   "cell_type": "code",
   "execution_count": 205,
   "metadata": {},
   "outputs": [],
   "source": [
    "import numpy as np\n",
    "arr= np.array([[2,3,4,5],[1,7,3,5],[2,8,6,9],[11,23,12,19]])"
   ]
  },
  {
   "cell_type": "code",
   "execution_count": 209,
   "metadata": {},
   "outputs": [
    {
     "data": {
      "text/plain": [
       "array([[ 4,  6,  8, 10],\n",
       "       [ 2, 14,  6, 10],\n",
       "       [ 4, 16, 12, 18],\n",
       "       [22, 46, 24, 38]])"
      ]
     },
     "execution_count": 209,
     "metadata": {},
     "output_type": "execute_result"
    }
   ],
   "source": [
    "arr1 = np.array([[2,2,2,2]])\n",
    "def func(x, y):\n",
    "    return x * y\n",
    "vec = np.vectorize(func)\n",
    "vec(arr,arr1)"
   ]
  },
  {
   "cell_type": "code",
   "execution_count": 210,
   "metadata": {},
   "outputs": [
    {
     "data": {
      "text/plain": [
       "array([[ 4,  6,  8, 10],\n",
       "       [ 2, 14,  6, 10],\n",
       "       [ 4, 16, 12, 18],\n",
       "       [22, 46, 24, 38]])"
      ]
     },
     "execution_count": 210,
     "metadata": {},
     "output_type": "execute_result"
    }
   ],
   "source": [
    "arr1 = np.array([[2],[2],[2],[2]])\n",
    "def func(x, y):\n",
    "    return x * y\n",
    "vec = np.vectorize(func)\n",
    "vec(arr, arr1)"
   ]
  },
  {
   "cell_type": "code",
   "execution_count": 211,
   "metadata": {},
   "outputs": [
    {
     "data": {
      "text/plain": [
       "array([[ 4,  6,  8, 10],\n",
       "       [ 2, 14,  6, 10],\n",
       "       [ 4, 16, 12, 18],\n",
       "       [22, 46, 24, 38]])"
      ]
     },
     "execution_count": 211,
     "metadata": {},
     "output_type": "execute_result"
    }
   ],
   "source": [
    "arr1 = 2\n",
    "def func(x, y):\n",
    "    return x * y\n",
    "vec = np.vectorize(func)\n",
    "vec(arr, arr1)"
   ]
  },
  {
   "cell_type": "markdown",
   "metadata": {},
   "source": [
    "Q2. Add padding\n",
    "\n",
    "Given a NumPy array of shape (n,m). Add padding of a layer of 0’s on all 4 boundaries of the matrix.\n",
    "\n",
    "Input Format:\n",
    "\n",
    "First line will be consisting of two space-separated integers representing n and m.  \n",
    "There will be n lines of input consisting of m space-separated integers representing the elements of rows of the array.\n",
    "\n",
    "Output Format:\n",
    "\n",
    "A 2d numpy array.\n",
    "Sample Input:\n",
    "\n",
    "3 2  \n",
    "1 2  \n",
    "3 4  \n",
    "5 6\n",
    "\n",
    "Sample Output:\n",
    "\n",
    "[[0 0 0 0]\n",
    " [0 1 2 0]\n",
    " [0 3 4 0]\n",
    " [0 5 6 0]\n",
    " [0 0 0 0]]"
   ]
  },
  {
   "cell_type": "code",
   "execution_count": 241,
   "metadata": {},
   "outputs": [
    {
     "name": "stdout",
     "output_type": "stream",
     "text": [
      "[[0 0 0 0]\n",
      " [0 3 2 0]\n",
      " [0 1 2 0]\n",
      " [0 3 4 0]\n",
      " [0 5 6 0]\n",
      " [0 0 0 0]]\n"
     ]
    }
   ],
   "source": [
    "import numpy as np\n",
    "def add_padding(mat):\n",
    "    '''mat-> NumPy array\n",
    "       output-> NumPy array is expected to be returned'''\n",
    "\n",
    "    # YOUR CODE GOES HERE\n",
    "    arr1 = ([3,2],[1,2],[3,4],[5,6])\n",
    "    #print(np.sort(arr1,axis=0))\n",
    "    #arr2 = np.zeros((5,4))\n",
    "    #print(arr2)\n",
    "    pad_arr = np.pad(arr1,1,'constant',constant_values=0)\n",
    "    print(pad_arr)\n",
    "    res = None\n",
    "    \n",
    "    return res\n",
    "\n",
    "add_padding(arr1)"
   ]
  },
  {
   "cell_type": "code",
   "execution_count": 238,
   "metadata": {},
   "outputs": [],
   "source": [
    "import numpy as np\n",
    "def add_padding(mat):\n",
    "    '''mat-> NumPy array\n",
    "       output-> NumPy array is expected to be returned'''\n",
    "\n",
    "    # YOUR CODE GOES HERE\n",
    "    #np.sort(mat,axis=0)\n",
    "    pad_arr = np.pad(mat,1,'constant',constant_values=0)\n",
    "    res = pad_arr\n",
    "    \n",
    "    return res"
   ]
  },
  {
   "cell_type": "markdown",
   "metadata": {},
   "source": [
    "Q3. Specific elements\n",
    "\n",
    "\n",
    "Given two 2D arrays, row and column ranges,\n",
    "\n",
    "Perform the following operations:\n",
    "\n",
    "    Find the matrix multiplication of the given two matrices and\n",
    "    Extract the elements from the output of above step using the given ranges\n",
    "    If matrix multiplication is not possible, return -1\n",
    "    Note: The end points (upper range) of both rows and columns are excluded.\n",
    "\n",
    "Input Format:\n",
    "\n",
    "There will be four lines of input as follows:  \n",
    "\n",
    "- First line will have mat1.  \n",
    "- Second line will have mat2.  \n",
    "- Third line will have two space-separated integers representing start and end point of rows.  \n",
    "- Fourth line will have two space-separated integers representing start and end point of columns.\n",
    "\n",
    "Output Format:\n",
    "\n",
    "A Numpy array\n",
    "Sample Input:\n",
    "\n",
    "[[6 6 4 7 9]  \n",
    " [0 2 2 9 3]  \n",
    " [6 0 2 5 2]  \n",
    " [2 4 3 5 5]]  \n",
    "[[8 6 6 8 3]  \n",
    " [2 7 0 3 1]  \n",
    " [3 2 1 5 2]  \n",
    " [7 0 7 6 8]  \n",
    " [1 5 6 4 5]]  \n",
    "1 3  \n",
    "2 4\n",
    "Sample Output:\n",
    "\n",
    "[[83 82]  \n",
    " [85 96]]\n",
    "Sample explanation:\n",
    "\n",
    "The dimension of product is (5,5), and the elements for rows 1 to 4 and columns 2 to 4 are prd[1][2], prd[1][3], prd[2][2] and prd[2][3] i.e. 83, 82, 85 and 96."
   ]
  },
  {
   "cell_type": "code",
   "execution_count": 307,
   "metadata": {},
   "outputs": [],
   "source": [
    "import numpy as np\n",
    "mat1=np.array([[6,6,4,7,9],[0,2,2,9,3],[6,0,2,5,2],[2,4,3,5,5]])\n",
    "mat2=np.array([[8,6,6,8,3],[2,7,0,3,1],[3,2,1,5,2],[7,0,7,6,8],[1,5,6,4,5]])\n",
    "def specific_elements(mat1,mat2):\n",
    "    '''mat1,mat2 are the two 2d numpy array.\n",
    "       r1,r2 are the start and end of rows indices\n",
    "       c1,c2 are the start and end of columns indices\n",
    "       Output = Return a numpy array according to indices'''\n",
    "\n",
    "    # STEP1 CHECK whether matrix multiplication is possible\n",
    "    \n",
    "    if mat1.shape[1] != mat2.shape[0]:\n",
    "       return -1\n",
    "    \n",
    "    \n",
    "    ## STEP 2 Perform matrix multiplication\n",
    "    matmul_array = np.dot(mat1, mat2)\n",
    "    \n",
    "    ## STEP 3 slice the array based on range value\n",
    "    \n",
    "   #result = mat\n",
    "    \n",
    "   #return \n",
    "\n",
    "specific_elements(mat1,mat2)\n"
   ]
  },
  {
   "cell_type": "code",
   "execution_count": 343,
   "metadata": {},
   "outputs": [
    {
     "name": "stdout",
     "output_type": "stream",
     "text": [
      "[[130 131 143 164 133]\n",
      " [ 76  33  83  82  93]\n",
      " [ 91  50  85  96  72]\n",
      " [ 73  71  80  93  81]]\n",
      "[[130 131 143 164 133]\n",
      " [ 76  33  83  82  93]\n",
      " [ 91  50  85  96  72]\n",
      " [ 73  71  80  93  81]]\n"
     ]
    },
    {
     "ename": "NameError",
     "evalue": "name 'matmult1' is not defined",
     "output_type": "error",
     "traceback": [
      "\u001b[0;31m---------------------------------------------------------------------------\u001b[0m",
      "\u001b[0;31mNameError\u001b[0m                                 Traceback (most recent call last)",
      "Cell \u001b[0;32mIn[343], line 17\u001b[0m\n\u001b[1;32m     15\u001b[0m \u001b[38;5;28mprint\u001b[39m(multmat)\n\u001b[1;32m     16\u001b[0m \u001b[38;5;28mprint\u001b[39m (multmat1)\n\u001b[0;32m---> 17\u001b[0m resu \u001b[38;5;241m=\u001b[39m matmult1[r1:r2,c1:c2]\n\u001b[1;32m     18\u001b[0m \u001b[38;5;28mprint\u001b[39m(resu)\n\u001b[1;32m     20\u001b[0m func1()\n",
      "\u001b[0;31mNameError\u001b[0m: name 'matmult1' is not defined"
     ]
    }
   ],
   "source": [
    "import numpy as np\n",
    "mat1=np.array([[6,6,4,7,9],[0,2,2,9,3],[6,0,2,5,2],[2,4,3,5,5]])\n",
    "mat2=np.array([[8,6,6,8,3],[2,7,0,3,1],[3,2,1,5,2],[7,0,7,6,8],[1,5,6,4,5]])\n",
    "\n",
    "\n",
    "def func1():\n",
    "   if mat1.shape[1] != mat2.shape[0]:\n",
    "   #   notpos = print(\"notpossible\")\n",
    "      return \"Notpossible\"\n",
    "   else:\n",
    "      return \"possible\"\n",
    "\n",
    "multmat = np.matmul(mat1,mat2)\n",
    "multmat1 = np.dot(mat1,mat2)\n",
    "print(multmat)\n",
    "print (multmat1)\n",
    "resu = matmult1[r1:r2,c1:c2]\n",
    "print(resu)\n",
    "\n",
    "func1()\n"
   ]
  },
  {
   "cell_type": "code",
   "execution_count": 347,
   "metadata": {},
   "outputs": [
    {
     "data": {
      "text/plain": [
       "array([[83, 82],\n",
       "       [85, 96]])"
      ]
     },
     "execution_count": 347,
     "metadata": {},
     "output_type": "execute_result"
    }
   ],
   "source": [
    "import numpy as np\n",
    "def specific_elements(mat1,mat2,r1,r2,c1,c2):\n",
    "    '''mat1,mat2 are the two 2d numpy array.\n",
    "       r1,r2 are the start and end of rows indices\n",
    "       c1,c2 are the start and end of columns indices\n",
    "       Output = Return a numpy array according to indices'''\n",
    "    \n",
    "    # STEP1 CHECK whether matrix multiplication is possible\n",
    "    \n",
    "    if mat1.shape[1] == mat2.shape[0]:\n",
    "        ## STEP 2 Perform matrix multiplication\n",
    "        matmul_array = np.matmul(mat1,mat2)\n",
    "        ## STEP 3 slice the array based on range value\n",
    "        result = matmul_array[r1:r2, c1:c2]\n",
    "        return result\n",
    "    else:\n",
    "        return -1\n",
    "\n",
    "mat1=np.array([[6,6,4,7,9],[0,2,2,9,3],[6,0,2,5,2],[2,4,3,5,5]])\n",
    "mat2=np.array([[8,6,6,8,3],[2,7,0,3,1],[3,2,1,5,2],[7,0,7,6,8],[1,5,6,4,5]])\n",
    "\n",
    "specific_elements(mat1,mat2,1,3,2,4)\n",
    "    "
   ]
  },
  {
   "cell_type": "code",
   "execution_count": 258,
   "metadata": {},
   "outputs": [
    {
     "name": "stdout",
     "output_type": "stream",
     "text": [
      "hello 123\n"
     ]
    }
   ],
   "source": [
    "def greet(name):\n",
    "    name = input(name)\n",
    "    print(\"hello\", name)\n",
    "greet(name)"
   ]
  },
  {
   "cell_type": "code",
   "execution_count": 251,
   "metadata": {},
   "outputs": [
    {
     "ename": "NameError",
     "evalue": "name 'sathish' is not defined",
     "output_type": "error",
     "traceback": [
      "\u001b[0;31m---------------------------------------------------------------------------\u001b[0m",
      "\u001b[0;31mNameError\u001b[0m                                 Traceback (most recent call last)",
      "Cell \u001b[0;32mIn[251], line 1\u001b[0m\n\u001b[0;32m----> 1\u001b[0m greet(sathish)\n",
      "\u001b[0;31mNameError\u001b[0m: name 'sathish' is not defined"
     ]
    }
   ],
   "source": [
    "greet(sathish)"
   ]
  },
  {
   "cell_type": "markdown",
   "metadata": {},
   "source": [
    "Q4. Split and cycle\n",
    "\n",
    "Using hints except Complete Solution is Penalty free now\n",
    "Use Hint\n",
    "You are given the following:\n",
    "\n",
    "- A 2D Numpy array (data) representing a grayscale image, where pixel values range from 0 (black) to 255 (white).\n",
    "- A desired number of horizontal splits (num_splits).\n",
    "\n",
    "Tasks:\n",
    "\n",
    "- Split the image to divide the image array (data) evenly into num_splits horizontal sections.\n",
    "- Rearrange sections: Create a new array by concatenating the image sections in the following order:\n",
    "    - The last section moves to the first position.\n",
    "    - All other sections shift downwards by one position.\n",
    "- Return the modified array\n",
    "\n",
    "Input format:\n",
    "\n",
    "    data: np.array\n",
    "    num_splits: int\n",
    "\n",
    "Output format:\n",
    "\n",
    "    np.array\n",
    "    Input Sample\n",
    "\n",
    "data = np.array([[10, 20, 30],[40, 50, 60],[70, 80, 90],[100, 110, 120]])\n",
    "\n",
    "num_splits = 2\n",
    "Output Sample\n",
    "\n",
    "[[ 70  80  90]\n",
    " [100 110 120]\n",
    " [ 10  20  30]\n",
    " [ 40  50  60]]"
   ]
  },
  {
   "cell_type": "code",
   "execution_count": 381,
   "metadata": {},
   "outputs": [
    {
     "name": "stdout",
     "output_type": "stream",
     "text": [
      "[[ 10  20  30]\n",
      " [ 40  50  60]\n",
      " [ 70  80  90]\n",
      " [100 110 120]]\n",
      "\n",
      " [array([[10, 20, 30],\n",
      "       [40, 50, 60]]), array([[ 70,  80,  90],\n",
      "       [100, 110, 120]])]\n",
      "\n",
      " [[ 70  80  90]\n",
      " [100 110 120]\n",
      " [ 10  20  30]\n",
      " [ 40  50  60]]\n"
     ]
    }
   ],
   "source": [
    "def rearrange_image(data, num_splits):\n",
    "    data = np.array([[10, 20, 30],[40, 50, 60],[70, 80, 90],[100, 110, 120]])\n",
    "    num_splits = 2 \n",
    "    # write your code here\n",
    "    print(data)\n",
    "    data1= np.split(data,num_splits,axis=0)\n",
    "    print(\"\\n\", data1)\n",
    "    data2= np.concatenate(data1[-1:]+data1[:-1])\n",
    "    print(\"\\n\",data2)\n",
    "rearrange_image(data,2)"
   ]
  },
  {
   "cell_type": "markdown",
   "metadata": {},
   "source": [
    "Q5. Oldest bird\n",
    "\n",
    "\n",
    "Given a array of bird names and another array with corresponding ages of the birds, find the name of the oldest bird in the list.\n",
    "\n",
    "Input Format:\n",
    "\n",
    "Input has two lines.\n",
    "\n",
    "- First line is the array of bird names (String).\n",
    "- Second line is the array of ages of the birds (Int).\n",
    "\n",
    "Output Format:\n",
    "\n",
    "string\n",
    "\n",
    "Sample Input:\n",
    "\n",
    "    ['sparrow', 'peacock', 'parrot', 'owl', 'peacock', 'macaw', 'macaw', 'parrot', 'macaw', 'peacock']  \n",
    "    [6, 1, 6, 5, 7, 6, 0, 9, 0, 7]\n",
    "\n",
    "Sample Output:\n",
    "\n",
    "parrot\n",
    "Explanation:\n",
    "\n",
    "parrot has age 9 which is the max of all the ages in the array; therefore parrot is returned.\n",
    "Note:\n",
    "\n",
    "Recall how to get index of maximum element"
   ]
  },
  {
   "cell_type": "code",
   "execution_count": 423,
   "metadata": {},
   "outputs": [
    {
     "data": {
      "text/plain": [
       "'parrot'"
      ]
     },
     "execution_count": 423,
     "metadata": {},
     "output_type": "execute_result"
    }
   ],
   "source": [
    "import numpy as np\n",
    "birds=['sparrow', 'peacock', 'parrot', 'owl', 'peacock', 'macaw', 'macaw', 'parrot', 'macaw', 'peacock']  \n",
    "birds_age=[6, 1, 6, 5, 7, 6, 0, 9, 0, 7]\n",
    "\n",
    "\n",
    "def oldest_bird(birds, age):\n",
    "    ''' birds[i] consist of the names of the type of ith bird\n",
    "        age[i] consist of the age of ith bird'''\n",
    "        \n",
    "    ## STEP 1: Get the index of maximum age element\n",
    "    \n",
    "    max_age_index = age.index(max(age))\n",
    "    \n",
    "    \n",
    "    ## STEP 2: Get the bird with maxium age using the above index\n",
    "    \n",
    "    old_bird = birds[max_age_index]\n",
    "    \n",
    "    \n",
    "    return old_bird\n",
    "\n",
    "oldest_bird(birds,birds_age)"
   ]
  },
  {
   "cell_type": "markdown",
   "metadata": {},
   "source": [
    "Q6. Column split\n",
    "\n",
    "Given an MxN 2D array (M >= 4),\n",
    "\n",
    "Split the array column wise such that,\n",
    "\n",
    "- 1st sub array contains the first 2 columns\n",
    "- 2nd sub array contains the 3rd column\n",
    "- 3rd sub array contains the rest of the columns\n",
    "\n",
    "Input Format:\n",
    "\n",
    "A 2D array\n",
    "\n",
    "Output Format:\n",
    "\n",
    "List of arrays\n",
    "Sample Input:\n",
    "\n",
    "[[0, 1, 2, 3],\n",
    " [4, 5, 6, 7],\n",
    " [8, 9, 10, 11],\n",
    " [12, 13, 14, 15],\n",
    " [16, 17, 18, 19],\n",
    " [20, 21, 22, 23]]\n",
    "\n",
    "Sample Output:\n",
    "[\n",
    "array([[ 0,  1],\n",
    "       [ 4,  5],\n",
    "       [ 8,  9],\n",
    "       [12, 13],\n",
    "       [16, 17],\n",
    "       [20, 21]]), \n",
    "array([[ 2],\n",
    "       [ 6],\n",
    "       [10],\n",
    "       [14],\n",
    "       [18],\n",
    "       [22]]), \n",
    "array([[ 3],\n",
    "       [ 7],\n",
    "       [11],\n",
    "       [15],\n",
    "       [19],\n",
    "       [23]])]\n",
    "Output explanation:\n",
    "\n",
    "Here, the first sub-array contains the first two columns of the input array.\n",
    "Second sub-array contains the third column of the input array.\n",
    "Third sub-array contains the rest of the columns, i.e the fourth column of the input array."
   ]
  },
  {
   "cell_type": "code",
   "execution_count": 458,
   "metadata": {},
   "outputs": [
    {
     "name": "stdout",
     "output_type": "stream",
     "text": [
      "[[0, 1, 2, 3], [4, 5, 6, 7], [8, 9, 10, 11], [12, 13, 14, 15], [16, 17, 18, 19], [20, 21, 22, 23]]\n"
     ]
    },
    {
     "data": {
      "text/plain": [
       "[array([[ 0,  1],\n",
       "        [ 4,  5],\n",
       "        [ 8,  9],\n",
       "        [12, 13],\n",
       "        [16, 17],\n",
       "        [20, 21]]),\n",
       " array([[ 2],\n",
       "        [ 6],\n",
       "        [10],\n",
       "        [14],\n",
       "        [18],\n",
       "        [22]]),\n",
       " array([[ 3],\n",
       "        [ 7],\n",
       "        [11],\n",
       "        [15],\n",
       "        [19],\n",
       "        [23]])]"
      ]
     },
     "execution_count": 458,
     "metadata": {},
     "output_type": "execute_result"
    }
   ],
   "source": [
    "import numpy as np\n",
    "arr=[[0, 1, 2, 3],[4, 5, 6, 7],[8, 9, 10, 11],[12, 13, 14, 15],[16, 17, 18, 19],[20, 21, 22, 23]]\n",
    "def split1(arr):\n",
    "    '''\n",
    "    INPUT: arr -> 2D array\n",
    "    \n",
    "    OUTPUT: subarrays -> list of 2D arrays\n",
    "    '''\n",
    "    #arr=[[0, 1, 2, 3],[4, 5, 6, 7],[8, 9, 10, 11],[12, 13, 14, 15],[16, 17, 18, 19],[20, 21, 22, 23]]\n",
    "\n",
    "    arr1=np.split(arr, [2,3], axis=1)\n",
    "    #arr2=arr[]\n",
    "    #arr3=arr[]\n",
    "    \n",
    "    subarrays = arr1\n",
    "    ### CODE starts here \n",
    "    print(arr)\n",
    "\n",
    "    return subarrays\n",
    "\n",
    "split1(arr)"
   ]
  },
  {
   "cell_type": "code",
   "execution_count": 462,
   "metadata": {},
   "outputs": [
    {
     "data": {
      "text/plain": [
       "4383334288"
      ]
     },
     "execution_count": 462,
     "metadata": {},
     "output_type": "execute_result"
    }
   ],
   "source": [
    "#help(\"keywords\")\n",
    "x = 5\n",
    "id(x)"
   ]
  },
  {
   "cell_type": "code",
   "execution_count": 463,
   "metadata": {},
   "outputs": [
    {
     "name": "stdout",
     "output_type": "stream",
     "text": [
      "False\n"
     ]
    }
   ],
   "source": [
    "print( not 2 < 4)"
   ]
  },
  {
   "cell_type": "code",
   "execution_count": 473,
   "metadata": {},
   "outputs": [
    {
     "name": "stdout",
     "output_type": "stream",
     "text": [
      "2\n"
     ]
    }
   ],
   "source": [
    "print(2 or 4)"
   ]
  },
  {
   "cell_type": "code",
   "execution_count": 489,
   "metadata": {},
   "outputs": [
    {
     "name": "stdout",
     "output_type": "stream",
     "text": [
      "6\n"
     ]
    }
   ],
   "source": [
    "print(6 % 20)"
   ]
  },
  {
   "cell_type": "code",
   "execution_count": null,
   "metadata": {},
   "outputs": [],
   "source": [
    "Leap year? - III\n",
    "Problem Description\n",
    "\n",
    "Given an integer A representing a year, Return 1 if it is a leap year else, return 0.\n",
    "\n",
    "A year is a leap year if the following conditions are satisfied:\n",
    "\n",
    "The year is multiple of 400.\n",
    "or the year is multiple of 4 and not multiple of 100.\n",
    "\n",
    "Problem Constraints\n",
    "\n",
    "1 <= A <= 109\n",
    "\n",
    "\n",
    "\n",
    "Input Format\n",
    "\n",
    "First and only argument is an integer A\n",
    "\n",
    "\n",
    "\n",
    "Output Format\n",
    "\n",
    "Return 1 if it is a leap year else return 0\n",
    "\n",
    "\n",
    "\n",
    "Example Input\n",
    "\n",
    "Input 1\n",
    "\n",
    " A = 2020\n",
    "Input 2:\n",
    "\n",
    " A = 1999\n",
    "\n",
    "\n",
    "Example Output\n",
    "\n",
    "Output 1\n",
    "\n",
    " 1\n",
    "Output 2:\n",
    "\n",
    " 0\n",
    "\n",
    "\n",
    "Example Explanation\n",
    "\n",
    "Explanation 1\n",
    "\n",
    " 2020 is a leap year. \n",
    " 2020 is not a multiple of 400 but it is divisible by 4 and also at the same time not divisible by 100.\n",
    "Explanation 2:\n",
    "\n",
    " 1999 is not a leap year.\n",
    " 199 is not a multiple of 400. It is not divisible by 4 and also at the same time not divisible by 100.\n",
    " All the conditions fail.\n",
    "\n",
    "\n",
    "\n",
    "12345\n",
    "class Solution:\n",
    "    # @param A : integer\n",
    "    # @return an integer\n",
    "    def solve(self, A):\n",
    "\n",
    "Output Result\n",
    "theme-logo\n",
    "\n"
   ]
  },
  {
   "cell_type": "code",
   "execution_count": 505,
   "metadata": {},
   "outputs": [
    {
     "ename": "NameError",
     "evalue": "name 'self' is not defined",
     "output_type": "error",
     "traceback": [
      "\u001b[0;31m---------------------------------------------------------------------------\u001b[0m",
      "\u001b[0;31mNameError\u001b[0m                                 Traceback (most recent call last)",
      "Cell \u001b[0;32mIn[505], line 1\u001b[0m\n\u001b[0;32m----> 1\u001b[0m \u001b[38;5;28;01mclass\u001b[39;00m \u001b[38;5;21;01mSolution\u001b[39;00m:\n\u001b[1;32m      2\u001b[0m     \u001b[38;5;66;03m# @param A : integer\u001b[39;00m\n\u001b[1;32m      3\u001b[0m     \u001b[38;5;66;03m# @return an integer\u001b[39;00m\n\u001b[1;32m      4\u001b[0m     \u001b[38;5;28;01mdef\u001b[39;00m \u001b[38;5;21msolve\u001b[39m(\u001b[38;5;28mself\u001b[39m, A):\n\u001b[1;32m      5\u001b[0m       A \u001b[38;5;241m=\u001b[39m \u001b[38;5;28minput\u001b[39m(\u001b[38;5;124m\"\u001b[39m\u001b[38;5;124mEnter the input year\u001b[39m\u001b[38;5;124m\"\u001b[39m)\n",
      "Cell \u001b[0;32mIn[505], line 10\u001b[0m, in \u001b[0;36mSolution\u001b[0;34m()\u001b[0m\n\u001b[1;32m      8\u001b[0m   \u001b[38;5;28;01melse\u001b[39;00m:\n\u001b[1;32m      9\u001b[0m      \u001b[38;5;28;01mreturn\u001b[39;00m \u001b[38;5;241m0\u001b[39m\n\u001b[0;32m---> 10\u001b[0m solve(\u001b[38;5;28mself\u001b[39m,A)\n",
      "\u001b[0;31mNameError\u001b[0m: name 'self' is not defined"
     ]
    }
   ],
   "source": [
    "class Solution:\n",
    "    # @param A : integer\n",
    "    # @return an integer\n",
    "    def solve(self, A):\n",
    "      A = input(\"Enter the input year\")\n",
    "      if (A % 400 ==0 ) and (A % 100 ==0 ):\n",
    "         return 1\n",
    "      else:\n",
    "         return 0\n",
    "    solve(self,A)"
   ]
  },
  {
   "cell_type": "code",
   "execution_count": 507,
   "metadata": {},
   "outputs": [],
   "source": [
    "# Finding Unique list \n",
    "lst = [1,2,3,4,1,2,4]"
   ]
  },
  {
   "cell_type": "code",
   "execution_count": 515,
   "metadata": {},
   "outputs": [
    {
     "data": {
      "text/plain": [
       "[1, 2, 3, 4]"
      ]
     },
     "execution_count": 515,
     "metadata": {},
     "output_type": "execute_result"
    }
   ],
   "source": [
    "def unique(li):\n",
    "    newlist = []\n",
    "    for i in li:\n",
    "        if i not in newlist:\n",
    "            newlist.append(i)\n",
    "    return newlist \n",
    "unique(lst)\n"
   ]
  },
  {
   "cell_type": "code",
   "execution_count": null,
   "metadata": {},
   "outputs": [],
   "source": []
  },
  {
   "cell_type": "code",
   "execution_count": 516,
   "metadata": {},
   "outputs": [
    {
     "data": {
      "text/plain": [
       "[[1, 2, 3], [4, 5, 6], [7, 8, 9]]"
      ]
     },
     "execution_count": 516,
     "metadata": {},
     "output_type": "execute_result"
    }
   ],
   "source": [
    "l = [[1,2,3],[4,5,6],[7,8,9]]\n",
    "l"
   ]
  },
  {
   "cell_type": "code",
   "execution_count": 534,
   "metadata": {},
   "outputs": [
    {
     "data": {
      "text/plain": [
       "8"
      ]
     },
     "execution_count": 534,
     "metadata": {},
     "output_type": "execute_result"
    }
   ],
   "source": [
    "l[2][1]"
   ]
  },
  {
   "cell_type": "code",
   "execution_count": 535,
   "metadata": {},
   "outputs": [
    {
     "name": "stdout",
     "output_type": "stream",
     "text": [
      "[1, 2, 3]\n",
      "[4, 5, 6]\n",
      "[7, 8, 9]\n"
     ]
    }
   ],
   "source": [
    "for i in l:\n",
    "    print(i)"
   ]
  },
  {
   "cell_type": "code",
   "execution_count": 538,
   "metadata": {},
   "outputs": [
    {
     "name": "stdout",
     "output_type": "stream",
     "text": [
      "1\n",
      "2\n",
      "3\n",
      "4\n",
      "5\n",
      "6\n",
      "7\n",
      "8\n",
      "9\n"
     ]
    }
   ],
   "source": [
    "for i in l:\n",
    "    for j in i:\n",
    "        print(j)"
   ]
  }
 ],
 "metadata": {
  "kernelspec": {
   "display_name": "Python 3",
   "language": "python",
   "name": "python3"
  },
  "language_info": {
   "codemirror_mode": {
    "name": "ipython",
    "version": 3
   },
   "file_extension": ".py",
   "mimetype": "text/x-python",
   "name": "python",
   "nbconvert_exporter": "python",
   "pygments_lexer": "ipython3",
   "version": "3.12.7"
  }
 },
 "nbformat": 4,
 "nbformat_minor": 2
}
